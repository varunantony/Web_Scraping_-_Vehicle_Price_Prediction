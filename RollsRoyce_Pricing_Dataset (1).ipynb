{
  "nbformat": 4,
  "nbformat_minor": 0,
  "metadata": {
    "colab": {
      "name": "RollsRoyce_Pricing_Dataset.ipynb",
      "provenance": [],
      "collapsed_sections": [],
      "toc_visible": true
    },
    "kernelspec": {
      "name": "python3",
      "display_name": "Python 3"
    }
  },
  "cells": [
    {
      "cell_type": "markdown",
      "metadata": {
        "id": "btrAIfVFk_Dh"
      },
      "source": [
        "# Web_Scraping | Autotrader.uk | Rolls-Royce Pricing Dataset\r\n",
        "\r\n",
        "The code below was used to scrape multiple URLs, create csv files for each link and concat all csvs to get final Rolls_Royce dataset with shape (205,5)"
      ]
    },
    {
      "cell_type": "code",
      "metadata": {
        "id": "vP6nwG0hBaTW"
      },
      "source": [
        "from urllib.request import urlopen as uReq\r\n",
        "from bs4 import BeautifulSoup as soup\r\n",
        "\r\n",
        "url = 'https://www.autotrader.co.uk/car-search?sort=relevance&postcode=w1a0ax&radius=200&make=ROLLS-ROYCE&model=PHANTOM&include-delivery-option=on&page=2'\r\n",
        "filename = 'autotrader_scrape1'\r\n",
        "\r\n",
        "def create_car_data(url, filename):\r\n",
        "  web_page = uReq(url)\r\n",
        "  page_html = web_page.read()\r\n",
        "  web_page.close()\r\n",
        "  page_soup = soup(page_html)\r\n",
        "\r\n",
        "  container = page_soup.findAll('div', {'class':'product-card__inner'})\r\n",
        "  \r\n",
        "  file = str(filename) + '.csv'\r\n",
        "  f = open(file, 'w')\r\n",
        "  headers = 'Model,Year,Mileage,Seller_Type,Price\\n' \r\n",
        "  f.write(headers)\r\n",
        "\r\n",
        "\r\n",
        "  for car in container:\r\n",
        "    price_t = car.find_all('div', {'class':'product-card-pricing__price'})\r\n",
        "    price = (price_t[0].text).replace(',','').replace('£','').strip()\r\n",
        "    model_t = car.find_all('h3', {'class':'product-card-details__title'})\r\n",
        "    model = model_t[0].text.strip().strip('…')[:19]\r\n",
        "    year = car.ul.li.text.strip()[:4]\r\n",
        "    mileage = car.ul.li.fetchNextSiblings()[1].text.replace(',','').replace('miles','').strip()\r\n",
        "    seller_t = car.find('div', {'class':'product-card-seller__seller-type'})\r\n",
        "    if seller_t is None:\r\n",
        "      seller_type = 'NA'\r\n",
        "    else:\r\n",
        "      seller_type = seller_t.text.strip()[:7]\r\n",
        "\r\n",
        "    f.write(model + ',' + year + ',' + mileage + ',' + seller_type + ',' + price + '\\n')\r\n",
        "\r\n",
        "  f.close()\r\n",
        "\r\n",
        "create_car_data(url, filename)"
      ],
      "execution_count": null,
      "outputs": []
    },
    {
      "cell_type": "code",
      "metadata": {
        "id": "vo1KG0fxqVwN"
      },
      "source": [
        "url = 'https://www.autotrader.co.uk/car-search?sort=relevance&postcode=w1a0ax&radius=200&make=ROLLS-ROYCE&model=PHANTOM&include-delivery-option=on&page=8'\r\n",
        "filename = 'a8'\r\n",
        "create_car_data(url,filename)"
      ],
      "execution_count": null,
      "outputs": []
    },
    {
      "cell_type": "code",
      "metadata": {
        "id": "vneNvyUnBZ7C"
      },
      "source": [
        "import pandas as pd\r\n",
        "auto = pd.read_csv('/content/a8.csv')\r\n",
        "auto"
      ],
      "execution_count": null,
      "outputs": []
    },
    {
      "cell_type": "code",
      "metadata": {
        "id": "PQ8Y83m0I477"
      },
      "source": [
        "link_rollsroyce_dataset = 'https://drive.google.com/file/d/1mpQY1wSqiLkPC4aeCBz2i7rLgN-PX0HH/view?usp=sharing'\r\n",
        "link_bentley_dataset = 'https://drive.google.com/file/d/1mPaKcZbbpr5JeGeHlJshBkT5yB5XpiHt/view?usp=sharing'"
      ],
      "execution_count": 234,
      "outputs": []
    },
    {
      "cell_type": "markdown",
      "metadata": {
        "id": "86DIhiUiGAtn"
      },
      "source": [
        "## Preprocessing, Train-Test split and EDA"
      ]
    },
    {
      "cell_type": "code",
      "metadata": {
        "colab": {
          "base_uri": "https://localhost:8080/",
          "height": 195
        },
        "id": "vfYm_imbtWz_",
        "outputId": "ccea344a-c6f8-4ace-839c-a229b76a371c"
      },
      "source": [
        "%tensorflow_version 2.x\r\n",
        "\r\n",
        "import pandas as pd\r\n",
        "import numpy as np\r\n",
        "import matplotlib.pyplot as plt\r\n",
        "import seaborn as sns\r\n",
        "import tensorflow as tf\r\n",
        "from tensorflow import keras\r\n",
        "from tensorflow.keras import layers\r\n",
        "\r\n",
        "# ensure latest version of tensorflow\r\n",
        "\r\n",
        "rr = pd.read_csv('/content/rolls_royce.csv')\r\n",
        "rr.head()"
      ],
      "execution_count": 3,
      "outputs": [
        {
          "output_type": "execute_result",
          "data": {
            "text/html": [
              "<div>\n",
              "<style scoped>\n",
              "    .dataframe tbody tr th:only-of-type {\n",
              "        vertical-align: middle;\n",
              "    }\n",
              "\n",
              "    .dataframe tbody tr th {\n",
              "        vertical-align: top;\n",
              "    }\n",
              "\n",
              "    .dataframe thead th {\n",
              "        text-align: right;\n",
              "    }\n",
              "</style>\n",
              "<table border=\"1\" class=\"dataframe\">\n",
              "  <thead>\n",
              "    <tr style=\"text-align: right;\">\n",
              "      <th></th>\n",
              "      <th>Unnamed: 0</th>\n",
              "      <th>Model</th>\n",
              "      <th>Year</th>\n",
              "      <th>Mileage</th>\n",
              "      <th>Seller_Type</th>\n",
              "      <th>Price</th>\n",
              "      <th>Brand</th>\n",
              "    </tr>\n",
              "  </thead>\n",
              "  <tbody>\n",
              "    <tr>\n",
              "      <th>0</th>\n",
              "      <td>0</td>\n",
              "      <td>Phantom</td>\n",
              "      <td>2007</td>\n",
              "      <td>38000</td>\n",
              "      <td>Dealer</td>\n",
              "      <td>77990</td>\n",
              "      <td>Rolls-Royce</td>\n",
              "    </tr>\n",
              "    <tr>\n",
              "      <th>1</th>\n",
              "      <td>1</td>\n",
              "      <td>Phantom</td>\n",
              "      <td>2006</td>\n",
              "      <td>56500</td>\n",
              "      <td>Individual</td>\n",
              "      <td>69950</td>\n",
              "      <td>Rolls-Royce</td>\n",
              "    </tr>\n",
              "    <tr>\n",
              "      <th>2</th>\n",
              "      <td>2</td>\n",
              "      <td>Phantom</td>\n",
              "      <td>2015</td>\n",
              "      <td>6324</td>\n",
              "      <td>Dealer</td>\n",
              "      <td>158950</td>\n",
              "      <td>Rolls-Royce</td>\n",
              "    </tr>\n",
              "    <tr>\n",
              "      <th>3</th>\n",
              "      <td>3</td>\n",
              "      <td>Phantom</td>\n",
              "      <td>2009</td>\n",
              "      <td>21000</td>\n",
              "      <td>Dealer</td>\n",
              "      <td>139990</td>\n",
              "      <td>Rolls-Royce</td>\n",
              "    </tr>\n",
              "    <tr>\n",
              "      <th>4</th>\n",
              "      <td>4</td>\n",
              "      <td>Phantom</td>\n",
              "      <td>2004</td>\n",
              "      <td>107000</td>\n",
              "      <td>Individual</td>\n",
              "      <td>57500</td>\n",
              "      <td>Rolls-Royce</td>\n",
              "    </tr>\n",
              "  </tbody>\n",
              "</table>\n",
              "</div>"
            ],
            "text/plain": [
              "   Unnamed: 0    Model  Year  Mileage Seller_Type   Price        Brand\n",
              "0           0  Phantom  2007    38000      Dealer   77990  Rolls-Royce\n",
              "1           1  Phantom  2006    56500  Individual   69950  Rolls-Royce\n",
              "2           2  Phantom  2015     6324      Dealer  158950  Rolls-Royce\n",
              "3           3  Phantom  2009    21000      Dealer  139990  Rolls-Royce\n",
              "4           4  Phantom  2004   107000  Individual   57500  Rolls-Royce"
            ]
          },
          "metadata": {
            "tags": []
          },
          "execution_count": 3
        }
      ]
    },
    {
      "cell_type": "code",
      "metadata": {
        "colab": {
          "base_uri": "https://localhost:8080/"
        },
        "id": "J3vChIGa6gcs",
        "outputId": "0c58705d-100a-475b-92cd-4186f4d77ebf"
      },
      "source": [
        "rr.shape"
      ],
      "execution_count": 233,
      "outputs": [
        {
          "output_type": "execute_result",
          "data": {
            "text/plain": [
              "(209, 7)"
            ]
          },
          "metadata": {
            "tags": []
          },
          "execution_count": 233
        }
      ]
    },
    {
      "cell_type": "markdown",
      "metadata": {
        "id": "c5kw4lpuyS9v"
      },
      "source": [
        "**Create Copy of DataFrame**"
      ]
    },
    {
      "cell_type": "code",
      "metadata": {
        "id": "ETqgB0lkyWQ8"
      },
      "source": [
        "rr1 = rr.copy()"
      ],
      "execution_count": 4,
      "outputs": []
    },
    {
      "cell_type": "markdown",
      "metadata": {
        "id": "EidMzL7attJ1"
      },
      "source": [
        "**Drop Unwanted Columns - Unnamed: 0, Brand**\r\n",
        "\r\n",
        "Use axis=1 to drop entire column"
      ]
    },
    {
      "cell_type": "code",
      "metadata": {
        "id": "mK9FpuPwtfhg"
      },
      "source": [
        "rr1.drop(['Unnamed: 0', 'Brand'], axis=1, inplace=True)"
      ],
      "execution_count": 5,
      "outputs": []
    },
    {
      "cell_type": "markdown",
      "metadata": {
        "id": "ex7YEYZswo6x"
      },
      "source": [
        "**Basic Summary**"
      ]
    },
    {
      "cell_type": "code",
      "metadata": {
        "colab": {
          "base_uri": "https://localhost:8080/"
        },
        "id": "s1-aT5h6ww_y",
        "outputId": "555eb058-d6e0-4cdd-c0d0-16501d5d4a6f"
      },
      "source": [
        "# check for dtypes of columns and Missing Values\r\n",
        "rr1.info()"
      ],
      "execution_count": 6,
      "outputs": [
        {
          "output_type": "stream",
          "text": [
            "<class 'pandas.core.frame.DataFrame'>\n",
            "RangeIndex: 209 entries, 0 to 208\n",
            "Data columns (total 5 columns):\n",
            " #   Column       Non-Null Count  Dtype \n",
            "---  ------       --------------  ----- \n",
            " 0   Model        209 non-null    object\n",
            " 1   Year         209 non-null    int64 \n",
            " 2   Mileage      209 non-null    int64 \n",
            " 3   Seller_Type  182 non-null    object\n",
            " 4   Price        209 non-null    int64 \n",
            "dtypes: int64(3), object(2)\n",
            "memory usage: 8.3+ KB\n"
          ],
          "name": "stdout"
        }
      ]
    },
    {
      "cell_type": "markdown",
      "metadata": {
        "id": "Czr6LyKgx92N"
      },
      "source": [
        "**Value_Counts summary for Categorical Columns**"
      ]
    },
    {
      "cell_type": "code",
      "metadata": {
        "colab": {
          "base_uri": "https://localhost:8080/",
          "height": 185
        },
        "id": "BlOG52Zot5Q6",
        "outputId": "4c79fb24-0959-4dab-c09c-ffe8f418a0ac"
      },
      "source": [
        "def cat_summary(columns , dataset):\r\n",
        "  \"\"\" return value_counts summary of categorical columns\"\"\"\r\n",
        "\r\n",
        "  for col in columns:\r\n",
        "    display(dataset[col].value_counts())\r\n",
        "    print('')\r\n",
        "\r\n",
        "cat_summary(columns = ['Model', 'Seller_Type'], dataset=rr1)"
      ],
      "execution_count": 7,
      "outputs": [
        {
          "output_type": "display_data",
          "data": {
            "text/plain": [
              "Phantom     80\n",
              "Ghost       72\n",
              "Dawn        41\n",
              "Cullinan    16\n",
              "Name: Model, dtype: int64"
            ]
          },
          "metadata": {
            "tags": []
          }
        },
        {
          "output_type": "stream",
          "text": [
            "\n"
          ],
          "name": "stdout"
        },
        {
          "output_type": "display_data",
          "data": {
            "text/plain": [
              "Dealer        164\n",
              "Individual     18\n",
              "Name: Seller_Type, dtype: int64"
            ]
          },
          "metadata": {
            "tags": []
          }
        },
        {
          "output_type": "stream",
          "text": [
            "\n"
          ],
          "name": "stdout"
        }
      ]
    },
    {
      "cell_type": "markdown",
      "metadata": {
        "id": "0gcPN5Ze05ua"
      },
      "source": [
        "**Dealing w/ Missing Values**\r\n",
        "\r\n",
        "Dropping values will result in rows containing that missing value also being dropped.\r\n",
        "When dataset is small, this can be less than desirable.\r\n",
        "\r\n",
        "Let's impute with most_frequent values."
      ]
    },
    {
      "cell_type": "code",
      "metadata": {
        "colab": {
          "base_uri": "https://localhost:8080/"
        },
        "id": "YeKx_9xk21-S",
        "outputId": "100f6615-261a-4c4e-99e5-1edabaa5263c"
      },
      "source": [
        "rr1['Seller_Type'].iloc[70:75]"
      ],
      "execution_count": 8,
      "outputs": [
        {
          "output_type": "execute_result",
          "data": {
            "text/plain": [
              "70    NaN\n",
              "71    NaN\n",
              "72    NaN\n",
              "73    NaN\n",
              "74    NaN\n",
              "Name: Seller_Type, dtype: object"
            ]
          },
          "metadata": {
            "tags": []
          },
          "execution_count": 8
        }
      ]
    },
    {
      "cell_type": "code",
      "metadata": {
        "id": "Q9sdQva284Fz"
      },
      "source": [
        "rr1['Seller_Type'].replace(np.nan, 'Dealer', inplace=True)"
      ],
      "execution_count": 9,
      "outputs": []
    },
    {
      "cell_type": "code",
      "metadata": {
        "colab": {
          "base_uri": "https://localhost:8080/"
        },
        "id": "JyO1MV0nns0W",
        "outputId": "39a8f0fa-b4cc-4ae4-d4a9-0c77526b16eb"
      },
      "source": [
        "rr1['Seller_Type'][70:75]"
      ],
      "execution_count": 10,
      "outputs": [
        {
          "output_type": "execute_result",
          "data": {
            "text/plain": [
              "70    Dealer\n",
              "71    Dealer\n",
              "72    Dealer\n",
              "73    Dealer\n",
              "74    Dealer\n",
              "Name: Seller_Type, dtype: object"
            ]
          },
          "metadata": {
            "tags": []
          },
          "execution_count": 10
        }
      ]
    },
    {
      "cell_type": "markdown",
      "metadata": {
        "id": "XSamUV0xx5n3"
      },
      "source": [
        "**Summary for Numerical Columns**"
      ]
    },
    {
      "cell_type": "code",
      "metadata": {
        "colab": {
          "base_uri": "https://localhost:8080/",
          "height": 77
        },
        "id": "FnKLWr8Tn5rR",
        "outputId": "78ba9f45-196e-4812-c875-7a3f6d4048da"
      },
      "source": [
        "num_summary = rr1.describe()\r\n",
        "num_summary.pop('Price')\r\n",
        "num_summary.pop('Year')\r\n",
        "num_summary = num_summary.transpose()\r\n",
        "\r\n",
        "num_summary"
      ],
      "execution_count": 11,
      "outputs": [
        {
          "output_type": "execute_result",
          "data": {
            "text/html": [
              "<div>\n",
              "<style scoped>\n",
              "    .dataframe tbody tr th:only-of-type {\n",
              "        vertical-align: middle;\n",
              "    }\n",
              "\n",
              "    .dataframe tbody tr th {\n",
              "        vertical-align: top;\n",
              "    }\n",
              "\n",
              "    .dataframe thead th {\n",
              "        text-align: right;\n",
              "    }\n",
              "</style>\n",
              "<table border=\"1\" class=\"dataframe\">\n",
              "  <thead>\n",
              "    <tr style=\"text-align: right;\">\n",
              "      <th></th>\n",
              "      <th>count</th>\n",
              "      <th>mean</th>\n",
              "      <th>std</th>\n",
              "      <th>min</th>\n",
              "      <th>25%</th>\n",
              "      <th>50%</th>\n",
              "      <th>75%</th>\n",
              "      <th>max</th>\n",
              "    </tr>\n",
              "  </thead>\n",
              "  <tbody>\n",
              "    <tr>\n",
              "      <th>Mileage</th>\n",
              "      <td>209.0</td>\n",
              "      <td>25937.923445</td>\n",
              "      <td>26484.848074</td>\n",
              "      <td>63.0</td>\n",
              "      <td>7300.0</td>\n",
              "      <td>16500.0</td>\n",
              "      <td>35000.0</td>\n",
              "      <td>129790.0</td>\n",
              "    </tr>\n",
              "  </tbody>\n",
              "</table>\n",
              "</div>"
            ],
            "text/plain": [
              "         count          mean           std  ...      50%      75%       max\n",
              "Mileage  209.0  25937.923445  26484.848074  ...  16500.0  35000.0  129790.0\n",
              "\n",
              "[1 rows x 8 columns]"
            ]
          },
          "metadata": {
            "tags": []
          },
          "execution_count": 11
        }
      ]
    },
    {
      "cell_type": "markdown",
      "metadata": {
        "id": "NjLU0mRftCZ6"
      },
      "source": [
        "**Remove Models before 2000**"
      ]
    },
    {
      "cell_type": "code",
      "metadata": {
        "colab": {
          "base_uri": "https://localhost:8080/"
        },
        "id": "siwqpQXYtO6O",
        "outputId": "27f77812-76b7-4ee0-fcf2-0b7fefb5730c"
      },
      "source": [
        "rr1['Year'].value_counts().sort_index()"
      ],
      "execution_count": 12,
      "outputs": [
        {
          "output_type": "execute_result",
          "data": {
            "text/plain": [
              "1936     1\n",
              "1960     1\n",
              "1961     1\n",
              "1973     1\n",
              "2004     4\n",
              "2005     7\n",
              "2006     4\n",
              "2007     8\n",
              "2008     9\n",
              "2009     6\n",
              "2010    15\n",
              "2011    14\n",
              "2012    16\n",
              "2013    10\n",
              "2014    11\n",
              "2015    14\n",
              "2016    10\n",
              "2017    18\n",
              "2018    20\n",
              "2019    24\n",
              "2020    10\n",
              "2021     5\n",
              "Name: Year, dtype: int64"
            ]
          },
          "metadata": {
            "tags": []
          },
          "execution_count": 12
        }
      ]
    },
    {
      "cell_type": "code",
      "metadata": {
        "id": "Kh3rZg0ftn-E"
      },
      "source": [
        "# selecting only those values after year 2004\r\n",
        "rr1 = rr1[rr1['Year'] >= 2004]"
      ],
      "execution_count": 13,
      "outputs": []
    },
    {
      "cell_type": "markdown",
      "metadata": {
        "id": "d9oGjat0pRNc"
      },
      "source": [
        "**Bin Year**"
      ]
    },
    {
      "cell_type": "code",
      "metadata": {
        "id": "rTJ0iPxl4_um"
      },
      "source": [
        "def bin_feature(feature, label_name, column_name, df, bins):\r\n",
        "  \"\"\"creates bins for feature with label names and add new column to dataframe\"\"\"\r\n",
        "  df[column_name] = pd.qcut(df[feature], q=bins, labels=label_name)"
      ],
      "execution_count": 14,
      "outputs": []
    },
    {
      "cell_type": "code",
      "metadata": {
        "id": "zlg_R69owZRe"
      },
      "source": [
        "bin_feature(\r\n",
        "    feature='Year', \r\n",
        "    label_name=['2004_2008', '2009_2011', '2012_2014', '2015_2017', '2018_2019', '2020_2021'], \r\n",
        "    column_name='Year_Binned',\r\n",
        "    df=rr1,\r\n",
        "    bins=6\r\n",
        "    )"
      ],
      "execution_count": 15,
      "outputs": []
    },
    {
      "cell_type": "code",
      "metadata": {
        "colab": {
          "base_uri": "https://localhost:8080/",
          "height": 195
        },
        "id": "-9zw14AhriET",
        "outputId": "669d97a5-67a5-4815-c002-45e482756d5d"
      },
      "source": [
        "rr1.head()"
      ],
      "execution_count": 16,
      "outputs": [
        {
          "output_type": "execute_result",
          "data": {
            "text/html": [
              "<div>\n",
              "<style scoped>\n",
              "    .dataframe tbody tr th:only-of-type {\n",
              "        vertical-align: middle;\n",
              "    }\n",
              "\n",
              "    .dataframe tbody tr th {\n",
              "        vertical-align: top;\n",
              "    }\n",
              "\n",
              "    .dataframe thead th {\n",
              "        text-align: right;\n",
              "    }\n",
              "</style>\n",
              "<table border=\"1\" class=\"dataframe\">\n",
              "  <thead>\n",
              "    <tr style=\"text-align: right;\">\n",
              "      <th></th>\n",
              "      <th>Model</th>\n",
              "      <th>Year</th>\n",
              "      <th>Mileage</th>\n",
              "      <th>Seller_Type</th>\n",
              "      <th>Price</th>\n",
              "      <th>Year_Binned</th>\n",
              "    </tr>\n",
              "  </thead>\n",
              "  <tbody>\n",
              "    <tr>\n",
              "      <th>0</th>\n",
              "      <td>Phantom</td>\n",
              "      <td>2007</td>\n",
              "      <td>38000</td>\n",
              "      <td>Dealer</td>\n",
              "      <td>77990</td>\n",
              "      <td>2004_2008</td>\n",
              "    </tr>\n",
              "    <tr>\n",
              "      <th>1</th>\n",
              "      <td>Phantom</td>\n",
              "      <td>2006</td>\n",
              "      <td>56500</td>\n",
              "      <td>Individual</td>\n",
              "      <td>69950</td>\n",
              "      <td>2004_2008</td>\n",
              "    </tr>\n",
              "    <tr>\n",
              "      <th>2</th>\n",
              "      <td>Phantom</td>\n",
              "      <td>2015</td>\n",
              "      <td>6324</td>\n",
              "      <td>Dealer</td>\n",
              "      <td>158950</td>\n",
              "      <td>2015_2017</td>\n",
              "    </tr>\n",
              "    <tr>\n",
              "      <th>3</th>\n",
              "      <td>Phantom</td>\n",
              "      <td>2009</td>\n",
              "      <td>21000</td>\n",
              "      <td>Dealer</td>\n",
              "      <td>139990</td>\n",
              "      <td>2004_2008</td>\n",
              "    </tr>\n",
              "    <tr>\n",
              "      <th>4</th>\n",
              "      <td>Phantom</td>\n",
              "      <td>2004</td>\n",
              "      <td>107000</td>\n",
              "      <td>Individual</td>\n",
              "      <td>57500</td>\n",
              "      <td>2004_2008</td>\n",
              "    </tr>\n",
              "  </tbody>\n",
              "</table>\n",
              "</div>"
            ],
            "text/plain": [
              "     Model  Year  Mileage Seller_Type   Price Year_Binned\n",
              "0  Phantom  2007    38000      Dealer   77990   2004_2008\n",
              "1  Phantom  2006    56500  Individual   69950   2004_2008\n",
              "2  Phantom  2015     6324      Dealer  158950   2015_2017\n",
              "3  Phantom  2009    21000      Dealer  139990   2004_2008\n",
              "4  Phantom  2004   107000  Individual   57500   2004_2008"
            ]
          },
          "metadata": {
            "tags": []
          },
          "execution_count": 16
        }
      ]
    },
    {
      "cell_type": "markdown",
      "metadata": {
        "id": "Kjrf_L9lr8IV"
      },
      "source": [
        "**EDA - Inspect Data**\r\n",
        "\r\n",
        "our visual inspection would be better suited after we removed 4 car models older than 2004."
      ]
    },
    {
      "cell_type": "markdown",
      "metadata": {
        "id": "FhdUiS9Pza1x"
      },
      "source": [
        "**Pair Plot for Multi_Variate Analysis**"
      ]
    },
    {
      "cell_type": "code",
      "metadata": {
        "colab": {
          "base_uri": "https://localhost:8080/",
          "height": 550
        },
        "id": "m4ITk-P-r_MR",
        "outputId": "7de8b725-61a0-4fba-cf60-fa76f88e9ee8"
      },
      "source": [
        "import matplotlib.pyplot as plt\r\n",
        "\r\n",
        "sns.pairplot(rr1, diag_kind='kde')\r\n",
        "plt.show()"
      ],
      "execution_count": 17,
      "outputs": [
        {
          "output_type": "display_data",
          "data": {
            "image/png": "[encoded data removed]",
            "text/plain": [
              "<Figure size 540x540 with 12 Axes>"
            ]
          },
          "metadata": {
            "tags": [],
            "needs_background": "light"
          }
        }
      ]
    },
    {
      "cell_type": "markdown",
      "metadata": {
        "id": "eqlTY2GZzkpT"
      },
      "source": [
        "**Bar Plots for Model_Price | YearBinned_Price | SellerType_Price | Model_Mileage | YearBinned_Mileage**"
      ]
    },
    {
      "cell_type": "code",
      "metadata": {
        "colab": {
          "base_uri": "https://localhost:8080/",
          "height": 655
        },
        "id": "zcIl63lCr7YP",
        "outputId": "2055fccd-e4b6-4aa8-fb5f-2c92f911991c"
      },
      "source": [
        "# fig, ax = plt.subplots(nrows=2, ncols=1, figsize=(10,5))\r\n",
        "\r\n",
        "plt.figure(figsize=(10,5))\r\n",
        "sns.barplot(x=rr1['Year_Binned'], y=rr1['Price'])\r\n",
        "plt.show()\r\n",
        "\r\n",
        "plt.figure(figsize=(10,5))\r\n",
        "sns.barplot(x=rr1['Year_Binned'], y=rr1['Price'], hue=rr1['Model'])\r\n",
        "plt.show()"
      ],
      "execution_count": 18,
      "outputs": [
        {
          "output_type": "display_data",
          "data": {
            "image/png": "[encoded data removed]",
            "text/plain": [
              "<Figure size 720x360 with 1 Axes>"
            ]
          },
          "metadata": {
            "tags": [],
            "needs_background": "light"
          }
        },
        {
          "output_type": "display_data",
          "data": {
            "image/png": "[encoded data removed]",
            "text/plain": [
              "<Figure size 720x360 with 1 Axes>"
            ]
          },
          "metadata": {
            "tags": [],
            "needs_background": "light"
          }
        }
      ]
    },
    {
      "cell_type": "code",
      "metadata": {
        "colab": {
          "base_uri": "https://localhost:8080/",
          "height": 334
        },
        "id": "sAXh7pnQr7Lc",
        "outputId": "be70a0d9-3419-4073-fb01-16adc94bd3be"
      },
      "source": [
        "fig, ax = plt.subplots(figsize=(10,5))\r\n",
        "sns.barplot(x=rr1['Model'], y=rr1['Price'], ax=ax)\r\n",
        "plt.show()"
      ],
      "execution_count": 19,
      "outputs": [
        {
          "output_type": "display_data",
          "data": {
            "image/png": "[encoded data removed]",
            "text/plain": [
              "<Figure size 720x360 with 1 Axes>"
            ]
          },
          "metadata": {
            "tags": [],
            "needs_background": "light"
          }
        }
      ]
    },
    {
      "cell_type": "code",
      "metadata": {
        "colab": {
          "base_uri": "https://localhost:8080/",
          "height": 335
        },
        "id": "Bl-J0r-60SEs",
        "outputId": "e7653295-2b68-4f79-b6db-bd5595ccacfa"
      },
      "source": [
        "fig, ax = plt.subplots(figsize=(10,5))\r\n",
        "sns.barplot(x=rr1['Seller_Type'], y=rr1['Price'], ax=ax, hue=rr1['Model'])\r\n",
        "plt.show()"
      ],
      "execution_count": 20,
      "outputs": [
        {
          "output_type": "display_data",
          "data": {
            "image/png": "[encoded data removed]",
            "text/plain": [
              "<Figure size 720x360 with 1 Axes>"
            ]
          },
          "metadata": {
            "tags": [],
            "needs_background": "light"
          }
        }
      ]
    },
    {
      "cell_type": "code",
      "metadata": {
        "colab": {
          "base_uri": "https://localhost:8080/",
          "height": 334
        },
        "id": "-fQ8LDq90R7K",
        "outputId": "633824b4-60ac-4389-b630-9d65655f8975"
      },
      "source": [
        "fig, ax = plt.subplots(figsize=(10,5))\r\n",
        "sns.barplot(x=rr1['Model'], y=rr1['Mileage'], hue=rr1['Seller_Type'], ax=ax)\r\n",
        "plt.show()"
      ],
      "execution_count": 21,
      "outputs": [
        {
          "output_type": "display_data",
          "data": {
            "image/png": "[encoded data removed]",
            "text/plain": [
              "<Figure size 720x360 with 1 Axes>"
            ]
          },
          "metadata": {
            "tags": [],
            "needs_background": "light"
          }
        }
      ]
    },
    {
      "cell_type": "code",
      "metadata": {
        "colab": {
          "base_uri": "https://localhost:8080/",
          "height": 336
        },
        "id": "tkdW-7iJ0R0a",
        "outputId": "8881cd9f-b071-4233-f1b6-a6055cc7bdd3"
      },
      "source": [
        "plt.figure(figsize=(10,5))\r\n",
        "sns.barplot(x=rr1['Year_Binned'], y=rr1['Mileage'], hue=rr1['Model'])\r\n",
        "plt.show()"
      ],
      "execution_count": 22,
      "outputs": [
        {
          "output_type": "display_data",
          "data": {
            "image/png": "[encoded data removed]",
            "text/plain": [
              "<Figure size 720x360 with 1 Axes>"
            ]
          },
          "metadata": {
            "tags": [],
            "needs_background": "light"
          }
        }
      ]
    },
    {
      "cell_type": "markdown",
      "metadata": {
        "id": "-H8sfuJczuIr"
      },
      "source": [
        "**Univariate Analysis - Histograms of Price, Mileage, Year**"
      ]
    },
    {
      "cell_type": "code",
      "metadata": {
        "colab": {
          "base_uri": "https://localhost:8080/",
          "height": 279
        },
        "id": "GlHJGj20sKSk",
        "outputId": "1a022b72-026d-430d-8d43-905a897c123b"
      },
      "source": [
        "sns.histplot(rr1['Price'], kde=True)\r\n",
        "plt.show()"
      ],
      "execution_count": 23,
      "outputs": [
        {
          "output_type": "display_data",
          "data": {
            "image/png": "[encoded data removed]",
            "text/plain": [
              "<Figure size 432x288 with 1 Axes>"
            ]
          },
          "metadata": {
            "tags": [],
            "needs_background": "light"
          }
        }
      ]
    },
    {
      "cell_type": "code",
      "metadata": {
        "colab": {
          "base_uri": "https://localhost:8080/",
          "height": 282
        },
        "id": "bsnEp3xlsKKW",
        "outputId": "82a65209-5649-4eda-9f7b-e0a20b71f7ea"
      },
      "source": [
        "sns.histplot(rr1['Mileage'], kde=True)\r\n",
        "plt.show()"
      ],
      "execution_count": 24,
      "outputs": [
        {
          "output_type": "display_data",
          "data": {
            "image/png": "[encoded data removed]",
            "text/plain": [
              "<Figure size 432x288 with 1 Axes>"
            ]
          },
          "metadata": {
            "tags": [],
            "needs_background": "light"
          }
        }
      ]
    },
    {
      "cell_type": "code",
      "metadata": {
        "colab": {
          "base_uri": "https://localhost:8080/",
          "height": 279
        },
        "id": "1mf6BZxO0EQ4",
        "outputId": "78f8d7a9-5908-4dd7-dbd9-f20c49116c2c"
      },
      "source": [
        "sns.histplot(rr1['Year'], kde=True)\r\n",
        "plt.show()"
      ],
      "execution_count": 25,
      "outputs": [
        {
          "output_type": "display_data",
          "data": {
            "image/png": "[encoded data removed]",
            "text/plain": [
              "<Figure size 432x288 with 1 Axes>"
            ]
          },
          "metadata": {
            "tags": [],
            "needs_background": "light"
          }
        }
      ]
    },
    {
      "cell_type": "markdown",
      "metadata": {
        "id": "45OB_lAswlCb"
      },
      "source": [
        "**Manual One-Hot Encoding**"
      ]
    },
    {
      "cell_type": "code",
      "metadata": {
        "colab": {
          "base_uri": "https://localhost:8080/",
          "height": 215
        },
        "id": "njeb3xsBwn1A",
        "outputId": "632c0504-1202-40dc-fe7b-3422edafaa8b"
      },
      "source": [
        "# Auto Encoding using pandas.get_dummies(df)\r\n",
        "\r\n",
        "pd.get_dummies(rr1).head()"
      ],
      "execution_count": 26,
      "outputs": [
        {
          "output_type": "execute_result",
          "data": {
            "text/html": [
              "<div>\n",
              "<style scoped>\n",
              "    .dataframe tbody tr th:only-of-type {\n",
              "        vertical-align: middle;\n",
              "    }\n",
              "\n",
              "    .dataframe tbody tr th {\n",
              "        vertical-align: top;\n",
              "    }\n",
              "\n",
              "    .dataframe thead th {\n",
              "        text-align: right;\n",
              "    }\n",
              "</style>\n",
              "<table border=\"1\" class=\"dataframe\">\n",
              "  <thead>\n",
              "    <tr style=\"text-align: right;\">\n",
              "      <th></th>\n",
              "      <th>Year</th>\n",
              "      <th>Mileage</th>\n",
              "      <th>Price</th>\n",
              "      <th>Model_Cullinan</th>\n",
              "      <th>Model_Dawn</th>\n",
              "      <th>Model_Ghost</th>\n",
              "      <th>Model_Phantom</th>\n",
              "      <th>Seller_Type_Dealer</th>\n",
              "      <th>Seller_Type_Individual</th>\n",
              "      <th>Year_Binned_2004_2008</th>\n",
              "      <th>Year_Binned_2009_2011</th>\n",
              "      <th>Year_Binned_2012_2014</th>\n",
              "      <th>Year_Binned_2015_2017</th>\n",
              "      <th>Year_Binned_2018_2019</th>\n",
              "      <th>Year_Binned_2020_2021</th>\n",
              "    </tr>\n",
              "  </thead>\n",
              "  <tbody>\n",
              "    <tr>\n",
              "      <th>0</th>\n",
              "      <td>2007</td>\n",
              "      <td>38000</td>\n",
              "      <td>77990</td>\n",
              "      <td>0</td>\n",
              "      <td>0</td>\n",
              "      <td>0</td>\n",
              "      <td>1</td>\n",
              "      <td>1</td>\n",
              "      <td>0</td>\n",
              "      <td>1</td>\n",
              "      <td>0</td>\n",
              "      <td>0</td>\n",
              "      <td>0</td>\n",
              "      <td>0</td>\n",
              "      <td>0</td>\n",
              "    </tr>\n",
              "    <tr>\n",
              "      <th>1</th>\n",
              "      <td>2006</td>\n",
              "      <td>56500</td>\n",
              "      <td>69950</td>\n",
              "      <td>0</td>\n",
              "      <td>0</td>\n",
              "      <td>0</td>\n",
              "      <td>1</td>\n",
              "      <td>0</td>\n",
              "      <td>1</td>\n",
              "      <td>1</td>\n",
              "      <td>0</td>\n",
              "      <td>0</td>\n",
              "      <td>0</td>\n",
              "      <td>0</td>\n",
              "      <td>0</td>\n",
              "    </tr>\n",
              "    <tr>\n",
              "      <th>2</th>\n",
              "      <td>2015</td>\n",
              "      <td>6324</td>\n",
              "      <td>158950</td>\n",
              "      <td>0</td>\n",
              "      <td>0</td>\n",
              "      <td>0</td>\n",
              "      <td>1</td>\n",
              "      <td>1</td>\n",
              "      <td>0</td>\n",
              "      <td>0</td>\n",
              "      <td>0</td>\n",
              "      <td>0</td>\n",
              "      <td>1</td>\n",
              "      <td>0</td>\n",
              "      <td>0</td>\n",
              "    </tr>\n",
              "    <tr>\n",
              "      <th>3</th>\n",
              "      <td>2009</td>\n",
              "      <td>21000</td>\n",
              "      <td>139990</td>\n",
              "      <td>0</td>\n",
              "      <td>0</td>\n",
              "      <td>0</td>\n",
              "      <td>1</td>\n",
              "      <td>1</td>\n",
              "      <td>0</td>\n",
              "      <td>1</td>\n",
              "      <td>0</td>\n",
              "      <td>0</td>\n",
              "      <td>0</td>\n",
              "      <td>0</td>\n",
              "      <td>0</td>\n",
              "    </tr>\n",
              "    <tr>\n",
              "      <th>4</th>\n",
              "      <td>2004</td>\n",
              "      <td>107000</td>\n",
              "      <td>57500</td>\n",
              "      <td>0</td>\n",
              "      <td>0</td>\n",
              "      <td>0</td>\n",
              "      <td>1</td>\n",
              "      <td>0</td>\n",
              "      <td>1</td>\n",
              "      <td>1</td>\n",
              "      <td>0</td>\n",
              "      <td>0</td>\n",
              "      <td>0</td>\n",
              "      <td>0</td>\n",
              "      <td>0</td>\n",
              "    </tr>\n",
              "  </tbody>\n",
              "</table>\n",
              "</div>"
            ],
            "text/plain": [
              "   Year  Mileage  ...  Year_Binned_2018_2019  Year_Binned_2020_2021\n",
              "0  2007    38000  ...                      0                      0\n",
              "1  2006    56500  ...                      0                      0\n",
              "2  2015     6324  ...                      0                      0\n",
              "3  2009    21000  ...                      0                      0\n",
              "4  2004   107000  ...                      0                      0\n",
              "\n",
              "[5 rows x 15 columns]"
            ]
          },
          "metadata": {
            "tags": []
          },
          "execution_count": 26
        }
      ]
    },
    {
      "cell_type": "code",
      "metadata": {
        "colab": {
          "base_uri": "https://localhost:8080/",
          "height": 195
        },
        "id": "NLrkcFMIwkOn",
        "outputId": "5ff34dbf-7263-4d25-b082-e24934add095"
      },
      "source": [
        "# manual encoding\r\n",
        "\r\n",
        "model = rr1['Model']\r\n",
        "\r\n",
        "rr1['Phantom'] = (model=='Phantom')*1\r\n",
        "rr1['Ghost'] = (model=='Ghost')*1\r\n",
        "rr1['Dawn'] = (model=='Dawn')*1\r\n",
        "rr1['Cullinan'] = (model=='Cullinan')*1\r\n",
        "\r\n",
        "rr1.tail()"
      ],
      "execution_count": 27,
      "outputs": [
        {
          "output_type": "execute_result",
          "data": {
            "text/html": [
              "<div>\n",
              "<style scoped>\n",
              "    .dataframe tbody tr th:only-of-type {\n",
              "        vertical-align: middle;\n",
              "    }\n",
              "\n",
              "    .dataframe tbody tr th {\n",
              "        vertical-align: top;\n",
              "    }\n",
              "\n",
              "    .dataframe thead th {\n",
              "        text-align: right;\n",
              "    }\n",
              "</style>\n",
              "<table border=\"1\" class=\"dataframe\">\n",
              "  <thead>\n",
              "    <tr style=\"text-align: right;\">\n",
              "      <th></th>\n",
              "      <th>Model</th>\n",
              "      <th>Year</th>\n",
              "      <th>Mileage</th>\n",
              "      <th>Seller_Type</th>\n",
              "      <th>Price</th>\n",
              "      <th>Year_Binned</th>\n",
              "      <th>Phantom</th>\n",
              "      <th>Ghost</th>\n",
              "      <th>Dawn</th>\n",
              "      <th>Cullinan</th>\n",
              "    </tr>\n",
              "  </thead>\n",
              "  <tbody>\n",
              "    <tr>\n",
              "      <th>203</th>\n",
              "      <td>Dawn</td>\n",
              "      <td>2019</td>\n",
              "      <td>4000</td>\n",
              "      <td>Dealer</td>\n",
              "      <td>208950</td>\n",
              "      <td>2018_2019</td>\n",
              "      <td>0</td>\n",
              "      <td>0</td>\n",
              "      <td>1</td>\n",
              "      <td>0</td>\n",
              "    </tr>\n",
              "    <tr>\n",
              "      <th>204</th>\n",
              "      <td>Dawn</td>\n",
              "      <td>2016</td>\n",
              "      <td>22911</td>\n",
              "      <td>Dealer</td>\n",
              "      <td>169911</td>\n",
              "      <td>2015_2017</td>\n",
              "      <td>0</td>\n",
              "      <td>0</td>\n",
              "      <td>1</td>\n",
              "      <td>0</td>\n",
              "    </tr>\n",
              "    <tr>\n",
              "      <th>205</th>\n",
              "      <td>Dawn</td>\n",
              "      <td>2017</td>\n",
              "      <td>7000</td>\n",
              "      <td>Dealer</td>\n",
              "      <td>175000</td>\n",
              "      <td>2015_2017</td>\n",
              "      <td>0</td>\n",
              "      <td>0</td>\n",
              "      <td>1</td>\n",
              "      <td>0</td>\n",
              "    </tr>\n",
              "    <tr>\n",
              "      <th>207</th>\n",
              "      <td>Dawn</td>\n",
              "      <td>2020</td>\n",
              "      <td>700</td>\n",
              "      <td>Dealer</td>\n",
              "      <td>249990</td>\n",
              "      <td>2020_2021</td>\n",
              "      <td>0</td>\n",
              "      <td>0</td>\n",
              "      <td>1</td>\n",
              "      <td>0</td>\n",
              "    </tr>\n",
              "    <tr>\n",
              "      <th>208</th>\n",
              "      <td>Dawn</td>\n",
              "      <td>2021</td>\n",
              "      <td>101</td>\n",
              "      <td>Dealer</td>\n",
              "      <td>274950</td>\n",
              "      <td>2020_2021</td>\n",
              "      <td>0</td>\n",
              "      <td>0</td>\n",
              "      <td>1</td>\n",
              "      <td>0</td>\n",
              "    </tr>\n",
              "  </tbody>\n",
              "</table>\n",
              "</div>"
            ],
            "text/plain": [
              "    Model  Year  Mileage Seller_Type  ...  Phantom Ghost  Dawn  Cullinan\n",
              "203  Dawn  2019     4000      Dealer  ...        0     0     1         0\n",
              "204  Dawn  2016    22911      Dealer  ...        0     0     1         0\n",
              "205  Dawn  2017     7000      Dealer  ...        0     0     1         0\n",
              "207  Dawn  2020      700      Dealer  ...        0     0     1         0\n",
              "208  Dawn  2021      101      Dealer  ...        0     0     1         0\n",
              "\n",
              "[5 rows x 10 columns]"
            ]
          },
          "metadata": {
            "tags": []
          },
          "execution_count": 27
        }
      ]
    },
    {
      "cell_type": "code",
      "metadata": {
        "id": "YwKhWdfXzCM3"
      },
      "source": [
        "# drop manually created columns\r\n",
        "rr1.drop(['Phantom', 'Dawn', 'Ghost', 'Cullinan'], axis=1, inplace=True)"
      ],
      "execution_count": 28,
      "outputs": []
    },
    {
      "cell_type": "code",
      "metadata": {
        "colab": {
          "base_uri": "https://localhost:8080/",
          "height": 215
        },
        "id": "acVlYdcJwj9K",
        "outputId": "027ee4bc-e2cc-4c1b-9f3b-893ee351cb2e"
      },
      "source": [
        "# we will use auto encoding via pd.get_dummies(df) since we have Model, Year_Binned, and Seller_Type to convert to one-hot\r\n",
        "rr2 = pd.get_dummies(rr1, drop_first=False)\r\n",
        "rr2.head()"
      ],
      "execution_count": 29,
      "outputs": [
        {
          "output_type": "execute_result",
          "data": {
            "text/html": [
              "<div>\n",
              "<style scoped>\n",
              "    .dataframe tbody tr th:only-of-type {\n",
              "        vertical-align: middle;\n",
              "    }\n",
              "\n",
              "    .dataframe tbody tr th {\n",
              "        vertical-align: top;\n",
              "    }\n",
              "\n",
              "    .dataframe thead th {\n",
              "        text-align: right;\n",
              "    }\n",
              "</style>\n",
              "<table border=\"1\" class=\"dataframe\">\n",
              "  <thead>\n",
              "    <tr style=\"text-align: right;\">\n",
              "      <th></th>\n",
              "      <th>Year</th>\n",
              "      <th>Mileage</th>\n",
              "      <th>Price</th>\n",
              "      <th>Model_Cullinan</th>\n",
              "      <th>Model_Dawn</th>\n",
              "      <th>Model_Ghost</th>\n",
              "      <th>Model_Phantom</th>\n",
              "      <th>Seller_Type_Dealer</th>\n",
              "      <th>Seller_Type_Individual</th>\n",
              "      <th>Year_Binned_2004_2008</th>\n",
              "      <th>Year_Binned_2009_2011</th>\n",
              "      <th>Year_Binned_2012_2014</th>\n",
              "      <th>Year_Binned_2015_2017</th>\n",
              "      <th>Year_Binned_2018_2019</th>\n",
              "      <th>Year_Binned_2020_2021</th>\n",
              "    </tr>\n",
              "  </thead>\n",
              "  <tbody>\n",
              "    <tr>\n",
              "      <th>0</th>\n",
              "      <td>2007</td>\n",
              "      <td>38000</td>\n",
              "      <td>77990</td>\n",
              "      <td>0</td>\n",
              "      <td>0</td>\n",
              "      <td>0</td>\n",
              "      <td>1</td>\n",
              "      <td>1</td>\n",
              "      <td>0</td>\n",
              "      <td>1</td>\n",
              "      <td>0</td>\n",
              "      <td>0</td>\n",
              "      <td>0</td>\n",
              "      <td>0</td>\n",
              "      <td>0</td>\n",
              "    </tr>\n",
              "    <tr>\n",
              "      <th>1</th>\n",
              "      <td>2006</td>\n",
              "      <td>56500</td>\n",
              "      <td>69950</td>\n",
              "      <td>0</td>\n",
              "      <td>0</td>\n",
              "      <td>0</td>\n",
              "      <td>1</td>\n",
              "      <td>0</td>\n",
              "      <td>1</td>\n",
              "      <td>1</td>\n",
              "      <td>0</td>\n",
              "      <td>0</td>\n",
              "      <td>0</td>\n",
              "      <td>0</td>\n",
              "      <td>0</td>\n",
              "    </tr>\n",
              "    <tr>\n",
              "      <th>2</th>\n",
              "      <td>2015</td>\n",
              "      <td>6324</td>\n",
              "      <td>158950</td>\n",
              "      <td>0</td>\n",
              "      <td>0</td>\n",
              "      <td>0</td>\n",
              "      <td>1</td>\n",
              "      <td>1</td>\n",
              "      <td>0</td>\n",
              "      <td>0</td>\n",
              "      <td>0</td>\n",
              "      <td>0</td>\n",
              "      <td>1</td>\n",
              "      <td>0</td>\n",
              "      <td>0</td>\n",
              "    </tr>\n",
              "    <tr>\n",
              "      <th>3</th>\n",
              "      <td>2009</td>\n",
              "      <td>21000</td>\n",
              "      <td>139990</td>\n",
              "      <td>0</td>\n",
              "      <td>0</td>\n",
              "      <td>0</td>\n",
              "      <td>1</td>\n",
              "      <td>1</td>\n",
              "      <td>0</td>\n",
              "      <td>1</td>\n",
              "      <td>0</td>\n",
              "      <td>0</td>\n",
              "      <td>0</td>\n",
              "      <td>0</td>\n",
              "      <td>0</td>\n",
              "    </tr>\n",
              "    <tr>\n",
              "      <th>4</th>\n",
              "      <td>2004</td>\n",
              "      <td>107000</td>\n",
              "      <td>57500</td>\n",
              "      <td>0</td>\n",
              "      <td>0</td>\n",
              "      <td>0</td>\n",
              "      <td>1</td>\n",
              "      <td>0</td>\n",
              "      <td>1</td>\n",
              "      <td>1</td>\n",
              "      <td>0</td>\n",
              "      <td>0</td>\n",
              "      <td>0</td>\n",
              "      <td>0</td>\n",
              "      <td>0</td>\n",
              "    </tr>\n",
              "  </tbody>\n",
              "</table>\n",
              "</div>"
            ],
            "text/plain": [
              "   Year  Mileage  ...  Year_Binned_2018_2019  Year_Binned_2020_2021\n",
              "0  2007    38000  ...                      0                      0\n",
              "1  2006    56500  ...                      0                      0\n",
              "2  2015     6324  ...                      0                      0\n",
              "3  2009    21000  ...                      0                      0\n",
              "4  2004   107000  ...                      0                      0\n",
              "\n",
              "[5 rows x 15 columns]"
            ]
          },
          "metadata": {
            "tags": []
          },
          "execution_count": 29
        }
      ]
    },
    {
      "cell_type": "code",
      "metadata": {
        "colab": {
          "base_uri": "https://localhost:8080/"
        },
        "id": "iPAUeoM-y-uA",
        "outputId": "9b81de23-dee0-4832-cea7-4403d4a437ad"
      },
      "source": [
        "rr2.shape"
      ],
      "execution_count": 30,
      "outputs": [
        {
          "output_type": "execute_result",
          "data": {
            "text/plain": [
              "(205, 15)"
            ]
          },
          "metadata": {
            "tags": []
          },
          "execution_count": 30
        }
      ]
    },
    {
      "cell_type": "code",
      "metadata": {
        "colab": {
          "base_uri": "https://localhost:8080/",
          "height": 490
        },
        "id": "G4Lj4tvBAPnQ",
        "outputId": "fe4c4476-5d37-40c0-f1dc-24afce1d2045"
      },
      "source": [
        "fig, ax = plt.subplots(figsize=(8,6))\r\n",
        "sns.heatmap(rr2.corr(), ax=ax,cmap='PuBuGn')\r\n",
        "plt.show()"
      ],
      "execution_count": 31,
      "outputs": [
        {
          "output_type": "display_data",
          "data": {
            "image/png": "[encoded data removed]",
            "text/plain": [
              "<Figure size 576x432 with 2 Axes>"
            ]
          },
          "metadata": {
            "tags": [],
            "needs_background": "light"
          }
        }
      ]
    },
    {
      "cell_type": "markdown",
      "metadata": {
        "id": "I-MmmAlqwTgV"
      },
      "source": [
        "**Split Data into Train & Test | Feature & Labels**\r\n",
        "\r\n",
        "Random Shuffle to mimic stratify due to Model Class imbalance"
      ]
    },
    {
      "cell_type": "code",
      "metadata": {
        "id": "3jr2QhlKwcnI"
      },
      "source": [
        "rr2 = rr2.reindex(np.random.permutation(rr2.index))"
      ],
      "execution_count": 32,
      "outputs": []
    },
    {
      "cell_type": "code",
      "metadata": {
        "colab": {
          "base_uri": "https://localhost:8080/",
          "height": 215
        },
        "id": "E5kkonlS6IVu",
        "outputId": "5623b525-77df-489c-f694-b024982b2c6c"
      },
      "source": [
        "rr2.head()"
      ],
      "execution_count": 33,
      "outputs": [
        {
          "output_type": "execute_result",
          "data": {
            "text/html": [
              "<div>\n",
              "<style scoped>\n",
              "    .dataframe tbody tr th:only-of-type {\n",
              "        vertical-align: middle;\n",
              "    }\n",
              "\n",
              "    .dataframe tbody tr th {\n",
              "        vertical-align: top;\n",
              "    }\n",
              "\n",
              "    .dataframe thead th {\n",
              "        text-align: right;\n",
              "    }\n",
              "</style>\n",
              "<table border=\"1\" class=\"dataframe\">\n",
              "  <thead>\n",
              "    <tr style=\"text-align: right;\">\n",
              "      <th></th>\n",
              "      <th>Year</th>\n",
              "      <th>Mileage</th>\n",
              "      <th>Price</th>\n",
              "      <th>Model_Cullinan</th>\n",
              "      <th>Model_Dawn</th>\n",
              "      <th>Model_Ghost</th>\n",
              "      <th>Model_Phantom</th>\n",
              "      <th>Seller_Type_Dealer</th>\n",
              "      <th>Seller_Type_Individual</th>\n",
              "      <th>Year_Binned_2004_2008</th>\n",
              "      <th>Year_Binned_2009_2011</th>\n",
              "      <th>Year_Binned_2012_2014</th>\n",
              "      <th>Year_Binned_2015_2017</th>\n",
              "      <th>Year_Binned_2018_2019</th>\n",
              "      <th>Year_Binned_2020_2021</th>\n",
              "    </tr>\n",
              "  </thead>\n",
              "  <tbody>\n",
              "    <tr>\n",
              "      <th>202</th>\n",
              "      <td>2019</td>\n",
              "      <td>3200</td>\n",
              "      <td>219995</td>\n",
              "      <td>0</td>\n",
              "      <td>1</td>\n",
              "      <td>0</td>\n",
              "      <td>0</td>\n",
              "      <td>1</td>\n",
              "      <td>0</td>\n",
              "      <td>0</td>\n",
              "      <td>0</td>\n",
              "      <td>0</td>\n",
              "      <td>0</td>\n",
              "      <td>1</td>\n",
              "      <td>0</td>\n",
              "    </tr>\n",
              "    <tr>\n",
              "      <th>116</th>\n",
              "      <td>2013</td>\n",
              "      <td>17500</td>\n",
              "      <td>87500</td>\n",
              "      <td>0</td>\n",
              "      <td>0</td>\n",
              "      <td>1</td>\n",
              "      <td>0</td>\n",
              "      <td>1</td>\n",
              "      <td>0</td>\n",
              "      <td>0</td>\n",
              "      <td>0</td>\n",
              "      <td>1</td>\n",
              "      <td>0</td>\n",
              "      <td>0</td>\n",
              "      <td>0</td>\n",
              "    </tr>\n",
              "    <tr>\n",
              "      <th>104</th>\n",
              "      <td>2017</td>\n",
              "      <td>17494</td>\n",
              "      <td>139890</td>\n",
              "      <td>0</td>\n",
              "      <td>0</td>\n",
              "      <td>1</td>\n",
              "      <td>0</td>\n",
              "      <td>1</td>\n",
              "      <td>0</td>\n",
              "      <td>0</td>\n",
              "      <td>0</td>\n",
              "      <td>0</td>\n",
              "      <td>1</td>\n",
              "      <td>0</td>\n",
              "      <td>0</td>\n",
              "    </tr>\n",
              "    <tr>\n",
              "      <th>46</th>\n",
              "      <td>2007</td>\n",
              "      <td>14000</td>\n",
              "      <td>93000</td>\n",
              "      <td>0</td>\n",
              "      <td>0</td>\n",
              "      <td>0</td>\n",
              "      <td>1</td>\n",
              "      <td>1</td>\n",
              "      <td>0</td>\n",
              "      <td>1</td>\n",
              "      <td>0</td>\n",
              "      <td>0</td>\n",
              "      <td>0</td>\n",
              "      <td>0</td>\n",
              "      <td>0</td>\n",
              "    </tr>\n",
              "    <tr>\n",
              "      <th>26</th>\n",
              "      <td>2004</td>\n",
              "      <td>73000</td>\n",
              "      <td>63950</td>\n",
              "      <td>0</td>\n",
              "      <td>0</td>\n",
              "      <td>0</td>\n",
              "      <td>1</td>\n",
              "      <td>0</td>\n",
              "      <td>1</td>\n",
              "      <td>1</td>\n",
              "      <td>0</td>\n",
              "      <td>0</td>\n",
              "      <td>0</td>\n",
              "      <td>0</td>\n",
              "      <td>0</td>\n",
              "    </tr>\n",
              "  </tbody>\n",
              "</table>\n",
              "</div>"
            ],
            "text/plain": [
              "     Year  Mileage  ...  Year_Binned_2018_2019  Year_Binned_2020_2021\n",
              "202  2019     3200  ...                      1                      0\n",
              "116  2013    17500  ...                      0                      0\n",
              "104  2017    17494  ...                      0                      0\n",
              "46   2007    14000  ...                      0                      0\n",
              "26   2004    73000  ...                      0                      0\n",
              "\n",
              "[5 rows x 15 columns]"
            ]
          },
          "metadata": {
            "tags": []
          },
          "execution_count": 33
        }
      ]
    },
    {
      "cell_type": "code",
      "metadata": {
        "id": "2TfeKhBp6PSO"
      },
      "source": [
        "# split data into train and test\r\n",
        "rr2_train = rr2.sample(frac=0.75, random_state=0)\r\n",
        "rr2_test = rr2.drop(rr2_train.index)"
      ],
      "execution_count": 34,
      "outputs": []
    },
    {
      "cell_type": "code",
      "metadata": {
        "id": "KhqdSEz-_XTj"
      },
      "source": [
        "# split Data into Feature and Label\r\n",
        "\r\n",
        "train_label = rr2_train.pop('Price')\r\n",
        "test_label = rr2_test.pop('Price')"
      ],
      "execution_count": 35,
      "outputs": []
    },
    {
      "cell_type": "markdown",
      "metadata": {
        "id": "E8YFGk5arrC6"
      },
      "source": [
        "**Normalize Mileage**"
      ]
    },
    {
      "cell_type": "code",
      "metadata": {
        "colab": {
          "base_uri": "https://localhost:8080/",
          "height": 77
        },
        "id": "VzsayK1-5UTc",
        "outputId": "3a07d2fb-8a7f-4a9c-d30c-fffc22c09ef9"
      },
      "source": [
        "num_summary"
      ],
      "execution_count": 36,
      "outputs": [
        {
          "output_type": "execute_result",
          "data": {
            "text/html": [
              "<div>\n",
              "<style scoped>\n",
              "    .dataframe tbody tr th:only-of-type {\n",
              "        vertical-align: middle;\n",
              "    }\n",
              "\n",
              "    .dataframe tbody tr th {\n",
              "        vertical-align: top;\n",
              "    }\n",
              "\n",
              "    .dataframe thead th {\n",
              "        text-align: right;\n",
              "    }\n",
              "</style>\n",
              "<table border=\"1\" class=\"dataframe\">\n",
              "  <thead>\n",
              "    <tr style=\"text-align: right;\">\n",
              "      <th></th>\n",
              "      <th>count</th>\n",
              "      <th>mean</th>\n",
              "      <th>std</th>\n",
              "      <th>min</th>\n",
              "      <th>25%</th>\n",
              "      <th>50%</th>\n",
              "      <th>75%</th>\n",
              "      <th>max</th>\n",
              "    </tr>\n",
              "  </thead>\n",
              "  <tbody>\n",
              "    <tr>\n",
              "      <th>Mileage</th>\n",
              "      <td>209.0</td>\n",
              "      <td>25937.923445</td>\n",
              "      <td>26484.848074</td>\n",
              "      <td>63.0</td>\n",
              "      <td>7300.0</td>\n",
              "      <td>16500.0</td>\n",
              "      <td>35000.0</td>\n",
              "      <td>129790.0</td>\n",
              "    </tr>\n",
              "  </tbody>\n",
              "</table>\n",
              "</div>"
            ],
            "text/plain": [
              "         count          mean           std  ...      50%      75%       max\n",
              "Mileage  209.0  25937.923445  26484.848074  ...  16500.0  35000.0  129790.0\n",
              "\n",
              "[1 rows x 8 columns]"
            ]
          },
          "metadata": {
            "tags": []
          },
          "execution_count": 36
        }
      ]
    },
    {
      "cell_type": "code",
      "metadata": {
        "id": "TYaBS-6nrnZz"
      },
      "source": [
        "def normalize(df):\r\n",
        "  return (df['Mileage'] - df['Mileage'].mean())/df['Mileage'].std()\r\n",
        "\r\n",
        "rr2_train['Mileage_Norm'] = normalize(rr2_train)\r\n",
        "rr2_test['Mileage_Norm'] = normalize(rr2_test)"
      ],
      "execution_count": 37,
      "outputs": []
    },
    {
      "cell_type": "code",
      "metadata": {
        "colab": {
          "base_uri": "https://localhost:8080/",
          "height": 215
        },
        "id": "09hSKOc2r7Ep",
        "outputId": "f998b297-2db5-4571-e127-01a7a0048898"
      },
      "source": [
        "rr2_train.head()"
      ],
      "execution_count": 38,
      "outputs": [
        {
          "output_type": "execute_result",
          "data": {
            "text/html": [
              "<div>\n",
              "<style scoped>\n",
              "    .dataframe tbody tr th:only-of-type {\n",
              "        vertical-align: middle;\n",
              "    }\n",
              "\n",
              "    .dataframe tbody tr th {\n",
              "        vertical-align: top;\n",
              "    }\n",
              "\n",
              "    .dataframe thead th {\n",
              "        text-align: right;\n",
              "    }\n",
              "</style>\n",
              "<table border=\"1\" class=\"dataframe\">\n",
              "  <thead>\n",
              "    <tr style=\"text-align: right;\">\n",
              "      <th></th>\n",
              "      <th>Year</th>\n",
              "      <th>Mileage</th>\n",
              "      <th>Model_Cullinan</th>\n",
              "      <th>Model_Dawn</th>\n",
              "      <th>Model_Ghost</th>\n",
              "      <th>Model_Phantom</th>\n",
              "      <th>Seller_Type_Dealer</th>\n",
              "      <th>Seller_Type_Individual</th>\n",
              "      <th>Year_Binned_2004_2008</th>\n",
              "      <th>Year_Binned_2009_2011</th>\n",
              "      <th>Year_Binned_2012_2014</th>\n",
              "      <th>Year_Binned_2015_2017</th>\n",
              "      <th>Year_Binned_2018_2019</th>\n",
              "      <th>Year_Binned_2020_2021</th>\n",
              "      <th>Mileage_Norm</th>\n",
              "    </tr>\n",
              "  </thead>\n",
              "  <tbody>\n",
              "    <tr>\n",
              "      <th>90</th>\n",
              "      <td>2012</td>\n",
              "      <td>24000</td>\n",
              "      <td>0</td>\n",
              "      <td>0</td>\n",
              "      <td>1</td>\n",
              "      <td>0</td>\n",
              "      <td>1</td>\n",
              "      <td>0</td>\n",
              "      <td>0</td>\n",
              "      <td>1</td>\n",
              "      <td>0</td>\n",
              "      <td>0</td>\n",
              "      <td>0</td>\n",
              "      <td>0</td>\n",
              "      <td>-0.078165</td>\n",
              "    </tr>\n",
              "    <tr>\n",
              "      <th>153</th>\n",
              "      <td>2019</td>\n",
              "      <td>8000</td>\n",
              "      <td>1</td>\n",
              "      <td>0</td>\n",
              "      <td>0</td>\n",
              "      <td>0</td>\n",
              "      <td>1</td>\n",
              "      <td>0</td>\n",
              "      <td>0</td>\n",
              "      <td>0</td>\n",
              "      <td>0</td>\n",
              "      <td>0</td>\n",
              "      <td>1</td>\n",
              "      <td>0</td>\n",
              "      <td>-0.650551</td>\n",
              "    </tr>\n",
              "    <tr>\n",
              "      <th>113</th>\n",
              "      <td>2012</td>\n",
              "      <td>34509</td>\n",
              "      <td>0</td>\n",
              "      <td>0</td>\n",
              "      <td>1</td>\n",
              "      <td>0</td>\n",
              "      <td>1</td>\n",
              "      <td>0</td>\n",
              "      <td>0</td>\n",
              "      <td>1</td>\n",
              "      <td>0</td>\n",
              "      <td>0</td>\n",
              "      <td>0</td>\n",
              "      <td>0</td>\n",
              "      <td>0.297786</td>\n",
              "    </tr>\n",
              "    <tr>\n",
              "      <th>149</th>\n",
              "      <td>2018</td>\n",
              "      <td>2100</td>\n",
              "      <td>0</td>\n",
              "      <td>0</td>\n",
              "      <td>1</td>\n",
              "      <td>0</td>\n",
              "      <td>1</td>\n",
              "      <td>0</td>\n",
              "      <td>0</td>\n",
              "      <td>0</td>\n",
              "      <td>0</td>\n",
              "      <td>0</td>\n",
              "      <td>1</td>\n",
              "      <td>0</td>\n",
              "      <td>-0.861618</td>\n",
              "    </tr>\n",
              "    <tr>\n",
              "      <th>130</th>\n",
              "      <td>2013</td>\n",
              "      <td>15218</td>\n",
              "      <td>0</td>\n",
              "      <td>0</td>\n",
              "      <td>1</td>\n",
              "      <td>0</td>\n",
              "      <td>1</td>\n",
              "      <td>0</td>\n",
              "      <td>0</td>\n",
              "      <td>0</td>\n",
              "      <td>1</td>\n",
              "      <td>0</td>\n",
              "      <td>0</td>\n",
              "      <td>0</td>\n",
              "      <td>-0.392333</td>\n",
              "    </tr>\n",
              "  </tbody>\n",
              "</table>\n",
              "</div>"
            ],
            "text/plain": [
              "     Year  Mileage  ...  Year_Binned_2020_2021  Mileage_Norm\n",
              "90   2012    24000  ...                      0     -0.078165\n",
              "153  2019     8000  ...                      0     -0.650551\n",
              "113  2012    34509  ...                      0      0.297786\n",
              "149  2018     2100  ...                      0     -0.861618\n",
              "130  2013    15218  ...                      0     -0.392333\n",
              "\n",
              "[5 rows x 15 columns]"
            ]
          },
          "metadata": {
            "tags": []
          },
          "execution_count": 38
        }
      ]
    },
    {
      "cell_type": "code",
      "metadata": {
        "colab": {
          "base_uri": "https://localhost:8080/",
          "height": 215
        },
        "id": "t_N4WivqyOZP",
        "outputId": "b3bc56ab-e753-47c0-9b40-9b3679dfaac7"
      },
      "source": [
        "rr2_test.head()"
      ],
      "execution_count": 39,
      "outputs": [
        {
          "output_type": "execute_result",
          "data": {
            "text/html": [
              "<div>\n",
              "<style scoped>\n",
              "    .dataframe tbody tr th:only-of-type {\n",
              "        vertical-align: middle;\n",
              "    }\n",
              "\n",
              "    .dataframe tbody tr th {\n",
              "        vertical-align: top;\n",
              "    }\n",
              "\n",
              "    .dataframe thead th {\n",
              "        text-align: right;\n",
              "    }\n",
              "</style>\n",
              "<table border=\"1\" class=\"dataframe\">\n",
              "  <thead>\n",
              "    <tr style=\"text-align: right;\">\n",
              "      <th></th>\n",
              "      <th>Year</th>\n",
              "      <th>Mileage</th>\n",
              "      <th>Model_Cullinan</th>\n",
              "      <th>Model_Dawn</th>\n",
              "      <th>Model_Ghost</th>\n",
              "      <th>Model_Phantom</th>\n",
              "      <th>Seller_Type_Dealer</th>\n",
              "      <th>Seller_Type_Individual</th>\n",
              "      <th>Year_Binned_2004_2008</th>\n",
              "      <th>Year_Binned_2009_2011</th>\n",
              "      <th>Year_Binned_2012_2014</th>\n",
              "      <th>Year_Binned_2015_2017</th>\n",
              "      <th>Year_Binned_2018_2019</th>\n",
              "      <th>Year_Binned_2020_2021</th>\n",
              "      <th>Mileage_Norm</th>\n",
              "    </tr>\n",
              "  </thead>\n",
              "  <tbody>\n",
              "    <tr>\n",
              "      <th>157</th>\n",
              "      <td>2018</td>\n",
              "      <td>8000</td>\n",
              "      <td>1</td>\n",
              "      <td>0</td>\n",
              "      <td>0</td>\n",
              "      <td>0</td>\n",
              "      <td>1</td>\n",
              "      <td>0</td>\n",
              "      <td>0</td>\n",
              "      <td>0</td>\n",
              "      <td>0</td>\n",
              "      <td>0</td>\n",
              "      <td>1</td>\n",
              "      <td>0</td>\n",
              "      <td>-0.715941</td>\n",
              "    </tr>\n",
              "    <tr>\n",
              "      <th>140</th>\n",
              "      <td>2012</td>\n",
              "      <td>30000</td>\n",
              "      <td>0</td>\n",
              "      <td>0</td>\n",
              "      <td>1</td>\n",
              "      <td>0</td>\n",
              "      <td>1</td>\n",
              "      <td>0</td>\n",
              "      <td>0</td>\n",
              "      <td>1</td>\n",
              "      <td>0</td>\n",
              "      <td>0</td>\n",
              "      <td>0</td>\n",
              "      <td>0</td>\n",
              "      <td>0.287484</td>\n",
              "    </tr>\n",
              "    <tr>\n",
              "      <th>128</th>\n",
              "      <td>2012</td>\n",
              "      <td>41000</td>\n",
              "      <td>0</td>\n",
              "      <td>0</td>\n",
              "      <td>1</td>\n",
              "      <td>0</td>\n",
              "      <td>0</td>\n",
              "      <td>1</td>\n",
              "      <td>0</td>\n",
              "      <td>1</td>\n",
              "      <td>0</td>\n",
              "      <td>0</td>\n",
              "      <td>0</td>\n",
              "      <td>0</td>\n",
              "      <td>0.789197</td>\n",
              "    </tr>\n",
              "    <tr>\n",
              "      <th>137</th>\n",
              "      <td>2015</td>\n",
              "      <td>14800</td>\n",
              "      <td>0</td>\n",
              "      <td>0</td>\n",
              "      <td>1</td>\n",
              "      <td>0</td>\n",
              "      <td>1</td>\n",
              "      <td>0</td>\n",
              "      <td>0</td>\n",
              "      <td>0</td>\n",
              "      <td>0</td>\n",
              "      <td>1</td>\n",
              "      <td>0</td>\n",
              "      <td>0</td>\n",
              "      <td>-0.405792</td>\n",
              "    </tr>\n",
              "    <tr>\n",
              "      <th>57</th>\n",
              "      <td>2007</td>\n",
              "      <td>22000</td>\n",
              "      <td>0</td>\n",
              "      <td>0</td>\n",
              "      <td>0</td>\n",
              "      <td>1</td>\n",
              "      <td>0</td>\n",
              "      <td>1</td>\n",
              "      <td>1</td>\n",
              "      <td>0</td>\n",
              "      <td>0</td>\n",
              "      <td>0</td>\n",
              "      <td>0</td>\n",
              "      <td>0</td>\n",
              "      <td>-0.077398</td>\n",
              "    </tr>\n",
              "  </tbody>\n",
              "</table>\n",
              "</div>"
            ],
            "text/plain": [
              "     Year  Mileage  ...  Year_Binned_2020_2021  Mileage_Norm\n",
              "157  2018     8000  ...                      0     -0.715941\n",
              "140  2012    30000  ...                      0      0.287484\n",
              "128  2012    41000  ...                      0      0.789197\n",
              "137  2015    14800  ...                      0     -0.405792\n",
              "57   2007    22000  ...                      0     -0.077398\n",
              "\n",
              "[5 rows x 15 columns]"
            ]
          },
          "metadata": {
            "tags": []
          },
          "execution_count": 39
        }
      ]
    },
    {
      "cell_type": "code",
      "metadata": {
        "id": "8Vtk2qg4d0I6"
      },
      "source": [
        "# train-test arrays\r\n",
        "\r\n",
        "train_features = rr2_train.values\r\n",
        "train_labels = train_label.values\r\n",
        "\r\n",
        "test_features = rr2_test.values\r\n",
        "test_labels = test_label.values"
      ],
      "execution_count": 40,
      "outputs": []
    },
    {
      "cell_type": "markdown",
      "metadata": {
        "id": "GfJ_nrRLGJWN"
      },
      "source": [
        "## **Simple Model**\r\n",
        "\r\n",
        "1.   Use of Estimator API - {RMSE : 143409}\r\n",
        "2.   Sequential - {RMSE : 56963}\r\n",
        "3.   Functional API - {RMSE : }\r\n"
      ]
    },
    {
      "cell_type": "markdown",
      "metadata": {
        "id": "jBQ4ICbEIcee"
      },
      "source": [
        "### **Simple Model in TensorFLow using Estimator APIs**"
      ]
    },
    {
      "cell_type": "code",
      "metadata": {
        "id": "8f8AVJjTNoxb"
      },
      "source": [
        "def input_fn():\r\n",
        "  features = {'Year': rr2_train['Year'],\r\n",
        "              'Mileage': rr2_train['Mileage']}\r\n",
        "  labels = train_label\r\n",
        "\r\n",
        "  return features, labels"
      ],
      "execution_count": 41,
      "outputs": []
    },
    {
      "cell_type": "code",
      "metadata": {
        "colab": {
          "base_uri": "https://localhost:8080/"
        },
        "id": "j46wThRWr69N",
        "outputId": "1284c698-e410-404b-f4f8-d92264ca9e33"
      },
      "source": [
        "# use only Year and Mileage as features\r\n",
        "\r\n",
        "year = tf.feature_column.numeric_column('Year')\r\n",
        "mileage = tf.feature_column.numeric_column('Mileage')\r\n",
        "\r\n",
        "feature_list = [year, mileage]\r\n",
        "\r\n",
        "model0 = tf.estimator.DNNRegressor(feature_columns=feature_list, hidden_units=[450,250])\r\n",
        "\r\n",
        "model0.train(input_fn, steps=300)"
      ],
      "execution_count": 42,
      "outputs": [
        {
          "output_type": "stream",
          "text": [
            "INFO:tensorflow:Using default config.\n",
            "WARNING:tensorflow:Using temporary folder as model directory: /tmp/tmpnr21mpcl\n",
            "INFO:tensorflow:Using config: {'_model_dir': '/tmp/tmpnr21mpcl', '_tf_random_seed': None, '_save_summary_steps': 100, '_save_checkpoints_steps': None, '_save_checkpoints_secs': 600, '_session_config': allow_soft_placement: true\n",
            "graph_options {\n",
            "  rewrite_options {\n",
            "    meta_optimizer_iterations: ONE\n",
            "  }\n",
            "}\n",
            ", '_keep_checkpoint_max': 5, '_keep_checkpoint_every_n_hours': 10000, '_log_step_count_steps': 100, '_train_distribute': None, '_device_fn': None, '_protocol': None, '_eval_distribute': None, '_experimental_distribute': None, '_experimental_max_worker_delay_secs': None, '_session_creation_timeout_secs': 7200, '_checkpoint_save_graph_def': True, '_service': None, '_cluster_spec': ClusterSpec({}), '_task_type': 'worker', '_task_id': 0, '_global_id_in_cluster': 0, '_master': '', '_evaluation_master': '', '_is_chief': True, '_num_ps_replicas': 0, '_num_worker_replicas': 1}\n",
            "WARNING:tensorflow:From /usr/local/lib/python3.7/dist-packages/tensorflow/python/training/training_util.py:236: Variable.initialized_value (from tensorflow.python.ops.variables) is deprecated and will be removed in a future version.\n",
            "Instructions for updating:\n",
            "Use Variable.read_value. Variables in 2.X are initialized automatically both in eager and graph (inside tf.defun) contexts.\n",
            "INFO:tensorflow:Calling model_fn.\n",
            "WARNING:tensorflow:From /usr/local/lib/python3.7/dist-packages/tensorflow/python/keras/optimizer_v2/adagrad.py:83: calling Constant.__init__ (from tensorflow.python.ops.init_ops) with dtype is deprecated and will be removed in a future version.\n",
            "Instructions for updating:\n",
            "Call initializer instance with the dtype argument instead of passing it to the constructor\n",
            "INFO:tensorflow:Done calling model_fn.\n",
            "INFO:tensorflow:Create CheckpointSaverHook.\n",
            "INFO:tensorflow:Graph was finalized.\n",
            "INFO:tensorflow:Running local_init_op.\n",
            "INFO:tensorflow:Done running local_init_op.\n",
            "INFO:tensorflow:Calling checkpoint listeners before saving checkpoint 0...\n",
            "INFO:tensorflow:Saving checkpoints for 0 into /tmp/tmpnr21mpcl/model.ckpt.\n",
            "INFO:tensorflow:Calling checkpoint listeners after saving checkpoint 0...\n",
            "INFO:tensorflow:loss = 31284860000.0, step = 0\n",
            "INFO:tensorflow:global_step/sec: 239.09\n",
            "INFO:tensorflow:loss = 25105467000.0, step = 100 (0.419 sec)\n",
            "INFO:tensorflow:global_step/sec: 279.667\n",
            "INFO:tensorflow:loss = 24284875000.0, step = 200 (0.358 sec)\n",
            "INFO:tensorflow:Calling checkpoint listeners before saving checkpoint 300...\n",
            "INFO:tensorflow:Saving checkpoints for 300 into /tmp/tmpnr21mpcl/model.ckpt.\n",
            "INFO:tensorflow:Calling checkpoint listeners after saving checkpoint 300...\n",
            "INFO:tensorflow:Loss for final step: 23174762000.0.\n"
          ],
          "name": "stdout"
        },
        {
          "output_type": "execute_result",
          "data": {
            "text/plain": [
              "<tensorflow_estimator.python.estimator.canned.dnn.DNNRegressorV2 at 0x7f3393c14f50>"
            ]
          },
          "metadata": {
            "tags": []
          },
          "execution_count": 42
        }
      ]
    },
    {
      "cell_type": "code",
      "metadata": {
        "colab": {
          "base_uri": "https://localhost:8080/"
        },
        "id": "N_T8mHW4r607",
        "outputId": "03b844b5-fdf8-49df-c021-31df54dc28c0"
      },
      "source": [
        "def input_fn():\r\n",
        "  features = {'Year': rr2_test['Year'],\r\n",
        "              'Mileage':rr2_test['Mileage']}\r\n",
        "  labels = test_label\r\n",
        "  return features, labels\r\n",
        "  \r\n",
        "model0.evaluate(input_fn, steps=300)"
      ],
      "execution_count": 43,
      "outputs": [
        {
          "output_type": "stream",
          "text": [
            "INFO:tensorflow:Calling model_fn.\n",
            "INFO:tensorflow:Done calling model_fn.\n",
            "INFO:tensorflow:Starting evaluation at 2021-03-22T07:39:30Z\n",
            "INFO:tensorflow:Graph was finalized.\n",
            "INFO:tensorflow:Restoring parameters from /tmp/tmpnr21mpcl/model.ckpt-300\n",
            "INFO:tensorflow:Running local_init_op.\n",
            "INFO:tensorflow:Done running local_init_op.\n",
            "INFO:tensorflow:Evaluation [30/300]\n",
            "INFO:tensorflow:Evaluation [60/300]\n",
            "INFO:tensorflow:Evaluation [90/300]\n",
            "INFO:tensorflow:Evaluation [120/300]\n",
            "INFO:tensorflow:Evaluation [150/300]\n",
            "INFO:tensorflow:Evaluation [180/300]\n",
            "INFO:tensorflow:Evaluation [210/300]\n",
            "INFO:tensorflow:Evaluation [240/300]\n",
            "INFO:tensorflow:Evaluation [270/300]\n",
            "INFO:tensorflow:Evaluation [300/300]\n",
            "INFO:tensorflow:Inference Time : 0.44076s\n",
            "INFO:tensorflow:Finished evaluation at 2021-03-22-07:39:31\n",
            "INFO:tensorflow:Saving dict for global step 300: average_loss = 19879784000.0, global_step = 300, label/mean = 154031.56, loss = 19879905000.0, prediction/mean = 53526.184\n",
            "INFO:tensorflow:Saving 'checkpoint_path' summary for global step 300: /tmp/tmpnr21mpcl/model.ckpt-300\n"
          ],
          "name": "stdout"
        },
        {
          "output_type": "execute_result",
          "data": {
            "text/plain": [
              "{'average_loss': 19879784000.0,\n",
              " 'global_step': 300,\n",
              " 'label/mean': 154031.56,\n",
              " 'loss': 19879905000.0,\n",
              " 'prediction/mean': 53526.184}"
            ]
          },
          "metadata": {
            "tags": []
          },
          "execution_count": 43
        }
      ]
    },
    {
      "cell_type": "code",
      "metadata": {
        "colab": {
          "base_uri": "https://localhost:8080/"
        },
        "id": "-WtxhMj2rnMG",
        "outputId": "01ee1d76-3143-44ea-f6b3-bb5f1d76515c"
      },
      "source": [
        "rmse_estimator = np.sqrt(20566233000)\r\n",
        "rmse_estimator\r\n",
        "\r\n",
        "# the Estimator API didn't perform well at all."
      ],
      "execution_count": 44,
      "outputs": [
        {
          "output_type": "execute_result",
          "data": {
            "text/plain": [
              "143409.31978082875"
            ]
          },
          "metadata": {
            "tags": []
          },
          "execution_count": 44
        }
      ]
    },
    {
      "cell_type": "markdown",
      "metadata": {
        "id": "MpoAIOrlPQ1B"
      },
      "source": [
        "## **Using Sequential Modeling in Keras and TensorFlow**"
      ]
    },
    {
      "cell_type": "code",
      "metadata": {
        "id": "1fxYLfq4P4oD"
      },
      "source": [
        "def create_model(n_cols, learning_rate):\r\n",
        "  \"\"\" creates a Sequential model in tf.keras \"\"\"\r\n",
        "\r\n",
        "  model = tf.keras.models.Sequential()\r\n",
        "  model.add(tf.keras.layers.Dense(250, activation='relu', input_shape=(n_cols,)))\r\n",
        "  model.add(tf.keras.layers.Dense(250, activation='relu'))\r\n",
        "  model.add(tf.keras.layers.Dense(1))\r\n",
        "\r\n",
        "  optimizer = tf.keras.optimizers.RMSprop(learning_rate)\r\n",
        "  model.compile(optimizer=optimizer, loss='mean_squared_error', metrics=['mse', 'mae'])\r\n",
        "\r\n",
        "  return model"
      ],
      "execution_count": 45,
      "outputs": []
    },
    {
      "cell_type": "markdown",
      "metadata": {
        "id": "-dVXB8HSR_uc"
      },
      "source": [
        "**Implementing Callbacks in Keras - EarlyStopping**\r\n",
        "\r\n",
        "EarlyStopping allows us to stop training when a certain metric doesn't seem to improve over the course of training. This saves computation power and allows us to reduce overfitting. "
      ]
    },
    {
      "cell_type": "code",
      "metadata": {
        "colab": {
          "base_uri": "https://localhost:8080/"
        },
        "id": "CZrTClY2dCDV",
        "outputId": "8e44bf9d-3515-4320-a82a-18e95bf58d3f"
      },
      "source": [
        "from keras.callbacks import EarlyStopping\r\n",
        "early_stopping = EarlyStopping(patience=10, monitor='val_mae')\r\n",
        "\r\n",
        "n_cols = train_features.shape[1]\r\n",
        "learning_rate = 0.01\r\n",
        "\r\n",
        "model = create_model(n_cols, learning_rate)\r\n",
        "\r\n",
        "EPOCHS = 200\r\n",
        "history = model.fit(train_features, train_labels, epochs=EPOCHS, batch_size=12, validation_data=(test_features, test_labels), callbacks=[early_stopping])"
      ],
      "execution_count": 46,
      "outputs": [
        {
          "output_type": "stream",
          "text": [
            "Epoch 1/200\n",
            "13/13 [==============================] - 1s 22ms/step - loss: 26984553618.2857 - mse: 26984553618.2857 - mae: 134082.7288 - val_loss: 20022833152.0000 - val_mse: 20022833152.0000 - val_mae: 129343.4688\n",
            "Epoch 2/200\n",
            "13/13 [==============================] - 0s 6ms/step - loss: 14703707721.1429 - mse: 14703707721.1429 - mae: 95389.2444 - val_loss: 2407413504.0000 - val_mse: 2407413504.0000 - val_mae: 40617.8711\n",
            "Epoch 3/200\n",
            "13/13 [==============================] - 0s 6ms/step - loss: 2882907099.4286 - mse: 2882907099.4286 - mae: 43829.5801 - val_loss: 2411618560.0000 - val_mse: 2411618560.0000 - val_mae: 36998.2852\n",
            "Epoch 4/200\n",
            "13/13 [==============================] - 0s 5ms/step - loss: 3753109357.7143 - mse: 3753109595.4286 - mae: 49329.6362 - val_loss: 2970112000.0000 - val_mse: 2970112000.0000 - val_mae: 43825.5039\n",
            "Epoch 5/200\n",
            "13/13 [==============================] - 0s 5ms/step - loss: 3046860562.2857 - mse: 3046860562.2857 - mae: 45227.2877 - val_loss: 4460219392.0000 - val_mse: 4460219392.0000 - val_mae: 55863.1016\n",
            "Epoch 6/200\n",
            "13/13 [==============================] - 0s 6ms/step - loss: 3889490395.4286 - mse: 3889490230.8571 - mae: 49256.6794 - val_loss: 4058828800.0000 - val_mse: 4058828800.0000 - val_mae: 51814.1328\n",
            "Epoch 7/200\n",
            "13/13 [==============================] - 0s 6ms/step - loss: 4228525037.7143 - mse: 4228525037.7143 - mae: 52795.0639 - val_loss: 2213167360.0000 - val_mse: 2213167616.0000 - val_mae: 38553.3398\n",
            "Epoch 8/200\n",
            "13/13 [==============================] - 0s 6ms/step - loss: 2404964726.8571 - mse: 2404964681.1429 - mae: 38017.7801 - val_loss: 1944341632.0000 - val_mse: 1944341632.0000 - val_mae: 35069.5234\n",
            "Epoch 9/200\n",
            "13/13 [==============================] - 0s 5ms/step - loss: 2520675584.0000 - mse: 2520675584.0000 - mae: 38311.7115 - val_loss: 4075699200.0000 - val_mse: 4075699200.0000 - val_mae: 54228.6680\n",
            "Epoch 10/200\n",
            "13/13 [==============================] - 0s 6ms/step - loss: 3351856402.2857 - mse: 3351856402.2857 - mae: 49336.4439 - val_loss: 1950577536.0000 - val_mse: 1950577536.0000 - val_mae: 33161.5039\n",
            "Epoch 11/200\n",
            "13/13 [==============================] - 0s 5ms/step - loss: 2548187218.2857 - mse: 2548187218.2857 - mae: 40883.3901 - val_loss: 3424474112.0000 - val_mse: 3424474112.0000 - val_mae: 47646.0234\n",
            "Epoch 12/200\n",
            "13/13 [==============================] - 0s 5ms/step - loss: 2815944557.7143 - mse: 2815944557.7143 - mae: 42252.8396 - val_loss: 2314678272.0000 - val_mse: 2314678272.0000 - val_mae: 35696.2930\n",
            "Epoch 13/200\n",
            "13/13 [==============================] - 0s 5ms/step - loss: 2532256155.4286 - mse: 2532256155.4286 - mae: 37881.1267 - val_loss: 3397242368.0000 - val_mse: 3397242368.0000 - val_mae: 46338.5352\n",
            "Epoch 14/200\n",
            "13/13 [==============================] - 0s 5ms/step - loss: 2789004178.2857 - mse: 2789004178.2857 - mae: 40672.7547 - val_loss: 2397740544.0000 - val_mse: 2397740544.0000 - val_mae: 41242.9648\n",
            "Epoch 15/200\n",
            "13/13 [==============================] - 0s 5ms/step - loss: 2411866450.2857 - mse: 2411866450.2857 - mae: 39708.5561 - val_loss: 2234163712.0000 - val_mse: 2234163712.0000 - val_mae: 36615.7461\n",
            "Epoch 16/200\n",
            "13/13 [==============================] - 0s 5ms/step - loss: 2101690176.0000 - mse: 2101690176.0000 - mae: 36178.3629 - val_loss: 1955161856.0000 - val_mse: 1955161856.0000 - val_mae: 33756.8828\n",
            "Epoch 17/200\n",
            "13/13 [==============================] - 0s 5ms/step - loss: 2857531446.8571 - mse: 2857531446.8571 - mae: 41620.3343 - val_loss: 2057585920.0000 - val_mse: 2057585920.0000 - val_mae: 36893.6758\n",
            "Epoch 18/200\n",
            "13/13 [==============================] - 0s 5ms/step - loss: 2439156297.1429 - mse: 2439156297.1429 - mae: 38894.9141 - val_loss: 2468439552.0000 - val_mse: 2468439808.0000 - val_mae: 37130.3516\n",
            "Epoch 19/200\n",
            "13/13 [==============================] - 0s 6ms/step - loss: 2533402715.4286 - mse: 2533402715.4286 - mae: 39824.9256 - val_loss: 2275804928.0000 - val_mse: 2275804928.0000 - val_mae: 36566.9688\n",
            "Epoch 20/200\n",
            "13/13 [==============================] - 0s 6ms/step - loss: 2390479616.0000 - mse: 2390479616.0000 - mae: 37129.6504 - val_loss: 2315409152.0000 - val_mse: 2315409152.0000 - val_mae: 37363.7656\n"
          ],
          "name": "stdout"
        }
      ]
    },
    {
      "cell_type": "markdown",
      "metadata": {
        "id": "9nr3lZfngXna"
      },
      "source": [
        "**Plot loss curve**"
      ]
    },
    {
      "cell_type": "code",
      "metadata": {
        "colab": {
          "base_uri": "https://localhost:8080/",
          "height": 195
        },
        "id": "qddtxVpzgg59",
        "outputId": "d0a6fd77-2411-4483-b8ce-7e74bb3ba52d"
      },
      "source": [
        "hist = pd.DataFrame(history.history)\r\n",
        "epochs = history.epoch\r\n",
        "hist.head()"
      ],
      "execution_count": 47,
      "outputs": [
        {
          "output_type": "execute_result",
          "data": {
            "text/html": [
              "<div>\n",
              "<style scoped>\n",
              "    .dataframe tbody tr th:only-of-type {\n",
              "        vertical-align: middle;\n",
              "    }\n",
              "\n",
              "    .dataframe tbody tr th {\n",
              "        vertical-align: top;\n",
              "    }\n",
              "\n",
              "    .dataframe thead th {\n",
              "        text-align: right;\n",
              "    }\n",
              "</style>\n",
              "<table border=\"1\" class=\"dataframe\">\n",
              "  <thead>\n",
              "    <tr style=\"text-align: right;\">\n",
              "      <th></th>\n",
              "      <th>loss</th>\n",
              "      <th>mse</th>\n",
              "      <th>mae</th>\n",
              "      <th>val_loss</th>\n",
              "      <th>val_mse</th>\n",
              "      <th>val_mae</th>\n",
              "    </tr>\n",
              "  </thead>\n",
              "  <tbody>\n",
              "    <tr>\n",
              "      <th>0</th>\n",
              "      <td>2.291805e+10</td>\n",
              "      <td>2.291805e+10</td>\n",
              "      <td>123131.367188</td>\n",
              "      <td>2.002283e+10</td>\n",
              "      <td>2.002283e+10</td>\n",
              "      <td>129343.468750</td>\n",
              "    </tr>\n",
              "    <tr>\n",
              "      <th>1</th>\n",
              "      <td>8.676109e+09</td>\n",
              "      <td>8.676109e+09</td>\n",
              "      <td>68922.789062</td>\n",
              "      <td>2.407414e+09</td>\n",
              "      <td>2.407414e+09</td>\n",
              "      <td>40617.871094</td>\n",
              "    </tr>\n",
              "    <tr>\n",
              "      <th>2</th>\n",
              "      <td>3.683217e+09</td>\n",
              "      <td>3.683217e+09</td>\n",
              "      <td>48647.027344</td>\n",
              "      <td>2.411619e+09</td>\n",
              "      <td>2.411619e+09</td>\n",
              "      <td>36998.285156</td>\n",
              "    </tr>\n",
              "    <tr>\n",
              "      <th>3</th>\n",
              "      <td>3.668694e+09</td>\n",
              "      <td>3.668694e+09</td>\n",
              "      <td>48551.511719</td>\n",
              "      <td>2.970112e+09</td>\n",
              "      <td>2.970112e+09</td>\n",
              "      <td>43825.503906</td>\n",
              "    </tr>\n",
              "    <tr>\n",
              "      <th>4</th>\n",
              "      <td>2.820906e+09</td>\n",
              "      <td>2.820906e+09</td>\n",
              "      <td>42472.812500</td>\n",
              "      <td>4.460219e+09</td>\n",
              "      <td>4.460219e+09</td>\n",
              "      <td>55863.101562</td>\n",
              "    </tr>\n",
              "  </tbody>\n",
              "</table>\n",
              "</div>"
            ],
            "text/plain": [
              "           loss           mse  ...       val_mse        val_mae\n",
              "0  2.291805e+10  2.291805e+10  ...  2.002283e+10  129343.468750\n",
              "1  8.676109e+09  8.676109e+09  ...  2.407414e+09   40617.871094\n",
              "2  3.683217e+09  3.683217e+09  ...  2.411619e+09   36998.285156\n",
              "3  3.668694e+09  3.668694e+09  ...  2.970112e+09   43825.503906\n",
              "4  2.820906e+09  2.820906e+09  ...  4.460219e+09   55863.101562\n",
              "\n",
              "[5 rows x 6 columns]"
            ]
          },
          "metadata": {
            "tags": []
          },
          "execution_count": 47
        }
      ]
    },
    {
      "cell_type": "code",
      "metadata": {
        "colab": {
          "base_uri": "https://localhost:8080/"
        },
        "id": "1MAtDMFIo6DT",
        "outputId": "81970a45-bd3e-4f13-ba3a-7dfb0cf19c44"
      },
      "source": [
        "history.history.keys()"
      ],
      "execution_count": 48,
      "outputs": [
        {
          "output_type": "execute_result",
          "data": {
            "text/plain": [
              "dict_keys(['loss', 'mse', 'mae', 'val_loss', 'val_mse', 'val_mae'])"
            ]
          },
          "metadata": {
            "tags": []
          },
          "execution_count": 48
        }
      ]
    },
    {
      "cell_type": "code",
      "metadata": {
        "colab": {
          "base_uri": "https://localhost:8080/",
          "height": 552
        },
        "id": "L86ra1gggZek",
        "outputId": "c42d2812-c452-4ec5-fd53-9eaacfbfe188"
      },
      "source": [
        "import matplotlib.pyplot as plt\r\n",
        "\r\n",
        "def plot_history(history):\r\n",
        "  \r\n",
        "  hist = pd.DataFrame(history.history)\r\n",
        "  epochs = history.epoch\r\n",
        "\r\n",
        "  plt.figure()\r\n",
        "  plt.plot(epochs, hist['mae'], label='Train Error')\r\n",
        "  plt.plot(epochs, hist['val_mae'], label='Validation Error')\r\n",
        "  plt.xlabel('Epochs')\r\n",
        "  plt.ylabel('Mean Absolute Error')\r\n",
        "  plt.legend()\r\n",
        "  \r\n",
        "\r\n",
        "  plt.figure()\r\n",
        "  plt.plot(epochs, hist['mse'], label='Train Error')\r\n",
        "  plt.plot(epochs, hist['val_mse'], label='Validation Error')\r\n",
        "  plt.xlabel('Epochs')\r\n",
        "  plt.ylabel('Mean Squared Error')\r\n",
        "  plt.legend()\r\n",
        "\r\n",
        "plot_history(history)"
      ],
      "execution_count": 49,
      "outputs": [
        {
          "output_type": "display_data",
          "data": {
            "image/png": "[encoded data removed]",
            "text/plain": [
              "<Figure size 432x288 with 1 Axes>"
            ]
          },
          "metadata": {
            "tags": [],
            "needs_background": "light"
          }
        },
        {
          "output_type": "display_data",
          "data": {
            "image/png": "[encoded data removed]",
            "text/plain": [
              "<Figure size 432x288 with 1 Axes>"
            ]
          },
          "metadata": {
            "tags": [],
            "needs_background": "light"
          }
        }
      ]
    },
    {
      "cell_type": "markdown",
      "metadata": {
        "id": "hMzglv-nM-YJ"
      },
      "source": [
        "**Model Evaluation**"
      ]
    },
    {
      "cell_type": "code",
      "metadata": {
        "colab": {
          "base_uri": "https://localhost:8080/"
        },
        "id": "rLmxBE6-M_-v",
        "outputId": "930c808d-4032-4909-cd0d-1a3852d8df34"
      },
      "source": [
        "pred = model.predict(test_features)\r\n",
        "\r\n",
        "print(pred - test_labels)"
      ],
      "execution_count": 50,
      "outputs": [
        {
          "output_type": "stream",
          "text": [
            "[[-6.75884219e+04  1.07421578e+05  1.00411578e+05 ...  4.46157812e+03\n",
            "  -3.75884219e+04  3.44215781e+04]\n",
            " [-1.66983492e+05  8.02650781e+03  1.01650781e+03 ... -9.49334922e+04\n",
            "  -1.36983492e+05 -6.49734922e+04]\n",
            " [-1.88662781e+05 -1.36527812e+04 -2.06627812e+04 ... -1.16612781e+05\n",
            "  -1.58662781e+05 -8.66527812e+04]\n",
            " ...\n",
            " [-1.75672508e+05 -6.62507812e+02 -7.67250781e+03 ... -1.03622508e+05\n",
            "  -1.45672508e+05 -7.36625078e+04]\n",
            " [-8.33125000e+01  1.74926688e+05  1.67916688e+05 ...  7.19666875e+04\n",
            "   2.99166875e+04  1.01926688e+05]\n",
            " [-1.46735977e+05  2.82740234e+04  2.12640234e+04 ... -7.46859766e+04\n",
            "  -1.16735977e+05 -4.47259766e+04]]\n"
          ],
          "name": "stdout"
        }
      ]
    },
    {
      "cell_type": "code",
      "metadata": {
        "colab": {
          "base_uri": "https://localhost:8080/"
        },
        "id": "Ut9uYAsdgVkJ",
        "outputId": "2da4ac1f-849d-4564-a51a-029278779b31"
      },
      "source": [
        "test_rmse = model.evaluate(test_features, test_labels)\r\n",
        "print(test_rmse[2])"
      ],
      "execution_count": 51,
      "outputs": [
        {
          "output_type": "stream",
          "text": [
            "2/2 [==============================] - 0s 4ms/step - loss: 2315409152.0000 - mse: 2315409152.0000 - mae: 37363.7656\n",
            "37363.765625\n"
          ],
          "name": "stdout"
        }
      ]
    },
    {
      "cell_type": "markdown",
      "metadata": {
        "id": "2cwph-pnSbdo"
      },
      "source": [
        "**Implementing Callbacks in Keras - ModelCheckpoint**"
      ]
    },
    {
      "cell_type": "code",
      "metadata": {
        "colab": {
          "base_uri": "https://localhost:8080/"
        },
        "id": "Zaj1dwePSgq3",
        "outputId": "ddbba460-8eea-49f0-b39a-c27faf99550e"
      },
      "source": [
        "from keras.callbacks import ModelCheckpoint\r\n",
        "\r\n",
        "model_save = ModelCheckpoint('rr_model.hdf5', \r\n",
        "                             save_best_only=True, \r\n",
        "                             monitor='val_mae')\r\n",
        "\r\n",
        "n_cols = train_features.shape[1]\r\n",
        "learning_rate = 0.01\r\n",
        "\r\n",
        "model = create_model(n_cols, learning_rate)\r\n",
        "\r\n",
        "epochs = 200\r\n",
        "history = model.fit(train_features, train_labels, epochs=epochs, batch_size=12, validation_data=(test_features, test_labels), callbacks=[model_save])"
      ],
      "execution_count": 52,
      "outputs": [
        {
          "output_type": "stream",
          "text": [
            "Epoch 1/200\n",
            "13/13 [==============================] - 1s 17ms/step - loss: 31380398957.7143 - mse: 31380398957.7143 - mae: 135805.2684 - val_loss: 15322856448.0000 - val_mse: 15322856448.0000 - val_mae: 104417.9922\n",
            "Epoch 2/200\n",
            "13/13 [==============================] - 0s 5ms/step - loss: 14606366134.8571 - mse: 14606366208.0000 - mae: 95262.6814 - val_loss: 3616603904.0000 - val_mse: 3616603904.0000 - val_mae: 48253.6523\n",
            "Epoch 3/200\n",
            "13/13 [==============================] - 0s 6ms/step - loss: 5142924598.8571 - mse: 5142924598.8571 - mae: 59952.9322 - val_loss: 2037630848.0000 - val_mse: 2037630848.0000 - val_mae: 35058.6445\n",
            "Epoch 4/200\n",
            "13/13 [==============================] - 0s 5ms/step - loss: 4252882925.7143 - mse: 4252882925.7143 - mae: 52790.9445 - val_loss: 4355518464.0000 - val_mse: 4355518464.0000 - val_mae: 53434.0430\n",
            "Epoch 5/200\n",
            "13/13 [==============================] - 0s 5ms/step - loss: 3855310573.7143 - mse: 3855310573.7143 - mae: 46247.6211 - val_loss: 6266976768.0000 - val_mse: 6266976768.0000 - val_mae: 69365.9141\n",
            "Epoch 6/200\n",
            "13/13 [==============================] - 0s 6ms/step - loss: 3732219008.0000 - mse: 3732219008.0000 - mae: 49313.8491 - val_loss: 2688902656.0000 - val_mse: 2688902656.0000 - val_mae: 40978.3398\n",
            "Epoch 7/200\n",
            "13/13 [==============================] - 0s 7ms/step - loss: 3032530861.7143 - mse: 3032530861.7143 - mae: 43237.1634 - val_loss: 1915777536.0000 - val_mse: 1915777536.0000 - val_mae: 33121.5664\n",
            "Epoch 8/200\n",
            "13/13 [==============================] - 0s 5ms/step - loss: 3072572955.4286 - mse: 3072572955.4286 - mae: 44172.5215 - val_loss: 3574605312.0000 - val_mse: 3574605312.0000 - val_mae: 48446.7500\n",
            "Epoch 9/200\n",
            "13/13 [==============================] - 0s 6ms/step - loss: 3752284013.7143 - mse: 3752284013.7143 - mae: 51050.9319 - val_loss: 2999172864.0000 - val_mse: 2999172864.0000 - val_mae: 43498.1875\n",
            "Epoch 10/200\n",
            "13/13 [==============================] - 0s 5ms/step - loss: 3697464118.8571 - mse: 3697464118.8571 - mae: 49065.2983 - val_loss: 2741447936.0000 - val_mse: 2741447936.0000 - val_mae: 41229.9805\n",
            "Epoch 11/200\n",
            "13/13 [==============================] - 0s 5ms/step - loss: 3539700352.0000 - mse: 3539700352.0000 - mae: 49474.7285 - val_loss: 1924413568.0000 - val_mse: 1924413568.0000 - val_mae: 32956.2266\n",
            "Epoch 12/200\n",
            "13/13 [==============================] - 0s 6ms/step - loss: 2965039524.5714 - mse: 2965039652.5714 - mae: 41931.0566 - val_loss: 2079751552.0000 - val_mse: 2079751680.0000 - val_mae: 35090.3633\n",
            "Epoch 13/200\n",
            "13/13 [==============================] - 0s 6ms/step - loss: 2535799963.4286 - mse: 2535799963.4286 - mae: 40913.8468 - val_loss: 3561643776.0000 - val_mse: 3561643776.0000 - val_mae: 47862.5117\n",
            "Epoch 14/200\n",
            "13/13 [==============================] - 0s 6ms/step - loss: 3316121289.1429 - mse: 3316121490.2857 - mae: 41103.3172 - val_loss: 2924034560.0000 - val_mse: 2924034560.0000 - val_mae: 43459.8477\n",
            "Epoch 15/200\n",
            "13/13 [==============================] - 0s 6ms/step - loss: 2101316324.5714 - mse: 2101316324.5714 - mae: 35720.3704 - val_loss: 5394328064.0000 - val_mse: 5394328064.0000 - val_mae: 60713.3594\n",
            "Epoch 16/200\n",
            "13/13 [==============================] - 0s 6ms/step - loss: 3192054582.8571 - mse: 3192054582.8571 - mae: 45414.4824 - val_loss: 2635246336.0000 - val_mse: 2635246336.0000 - val_mae: 38121.2852\n",
            "Epoch 17/200\n",
            "13/13 [==============================] - 0s 6ms/step - loss: 2309113225.1429 - mse: 2309113234.2857 - mae: 36299.9534 - val_loss: 2925466368.0000 - val_mse: 2925466368.0000 - val_mae: 44782.7695\n",
            "Epoch 18/200\n",
            "13/13 [==============================] - 0s 6ms/step - loss: 3222392740.5714 - mse: 3222392740.5714 - mae: 47631.5326 - val_loss: 2055347072.0000 - val_mse: 2055347072.0000 - val_mae: 34706.5664\n",
            "Epoch 19/200\n",
            "13/13 [==============================] - 0s 7ms/step - loss: 2075715465.1429 - mse: 2075715465.1429 - mae: 35208.5398 - val_loss: 4313872896.0000 - val_mse: 4313872896.0000 - val_mae: 50929.3086\n",
            "Epoch 20/200\n",
            "13/13 [==============================] - 0s 6ms/step - loss: 2896727625.1429 - mse: 2896727625.1429 - mae: 41502.6588 - val_loss: 2411674368.0000 - val_mse: 2411674368.0000 - val_mae: 36569.3633\n",
            "Epoch 21/200\n",
            "13/13 [==============================] - 0s 6ms/step - loss: 2812926381.7143 - mse: 2812926381.7143 - mae: 39879.1489 - val_loss: 4181829120.0000 - val_mse: 4181829120.0000 - val_mae: 52240.1758\n",
            "Epoch 22/200\n",
            "13/13 [==============================] - 0s 6ms/step - loss: 2571976356.5714 - mse: 2571976329.1429 - mae: 38539.5173 - val_loss: 2025822208.0000 - val_mse: 2025822208.0000 - val_mae: 36881.0820\n",
            "Epoch 23/200\n",
            "13/13 [==============================] - 0s 6ms/step - loss: 2422547090.2857 - mse: 2422547081.1429 - mae: 37645.3404 - val_loss: 2032250496.0000 - val_mse: 2032250496.0000 - val_mae: 35198.0820\n",
            "Epoch 24/200\n",
            "13/13 [==============================] - 0s 6ms/step - loss: 2019456667.4286 - mse: 2019456630.8571 - mae: 36211.1724 - val_loss: 3164535808.0000 - val_mse: 3164535808.0000 - val_mae: 45185.9883\n",
            "Epoch 25/200\n",
            "13/13 [==============================] - 0s 5ms/step - loss: 2392019821.7143 - mse: 2392019821.7143 - mae: 39939.4035 - val_loss: 4815787520.0000 - val_mse: 4815788544.0000 - val_mae: 58671.0039\n",
            "Epoch 26/200\n",
            "13/13 [==============================] - 0s 6ms/step - loss: 2884598564.5714 - mse: 2884598564.5714 - mae: 42287.1744 - val_loss: 3148754944.0000 - val_mse: 3148754944.0000 - val_mae: 46129.9219\n",
            "Epoch 27/200\n",
            "13/13 [==============================] - 0s 6ms/step - loss: 2554135232.0000 - mse: 2554135232.0000 - mae: 40164.0109 - val_loss: 2656239360.0000 - val_mse: 2656239360.0000 - val_mae: 38120.0547\n",
            "Epoch 28/200\n",
            "13/13 [==============================] - 0s 6ms/step - loss: 3159334528.0000 - mse: 3159334528.0000 - mae: 43584.6699 - val_loss: 1948976384.0000 - val_mse: 1948976384.0000 - val_mae: 33013.3359\n",
            "Epoch 29/200\n",
            "13/13 [==============================] - 0s 6ms/step - loss: 2172983300.5714 - mse: 2172983300.5714 - mae: 34846.5819 - val_loss: 2367844608.0000 - val_mse: 2367844608.0000 - val_mae: 36750.6875\n",
            "Epoch 30/200\n",
            "13/13 [==============================] - 0s 6ms/step - loss: 3026319945.1429 - mse: 3026319945.1429 - mae: 41578.2313 - val_loss: 5461283840.0000 - val_mse: 5461283840.0000 - val_mae: 64671.6094\n",
            "Epoch 31/200\n",
            "13/13 [==============================] - 0s 6ms/step - loss: 3640396544.0000 - mse: 3640396544.0000 - mae: 50465.9241 - val_loss: 2021112064.0000 - val_mse: 2021112064.0000 - val_mae: 34470.1914\n",
            "Epoch 32/200\n",
            "13/13 [==============================] - 0s 6ms/step - loss: 2124884918.8571 - mse: 2124884982.8571 - mae: 35566.5331 - val_loss: 4018235136.0000 - val_mse: 4018235136.0000 - val_mae: 50721.9180\n",
            "Epoch 33/200\n",
            "13/13 [==============================] - 0s 6ms/step - loss: 3201201901.7143 - mse: 3201201901.7143 - mae: 41769.9235 - val_loss: 1945781632.0000 - val_mse: 1945781632.0000 - val_mae: 33718.7656\n",
            "Epoch 34/200\n",
            "13/13 [==============================] - 0s 5ms/step - loss: 2476984694.8571 - mse: 2476984694.8571 - mae: 40099.2667 - val_loss: 2160623872.0000 - val_mse: 2160623872.0000 - val_mae: 37826.1953\n",
            "Epoch 35/200\n",
            "13/13 [==============================] - 0s 6ms/step - loss: 2617143067.4286 - mse: 2617143067.4286 - mae: 40651.9188 - val_loss: 1880663296.0000 - val_mse: 1880663296.0000 - val_mae: 32836.9336\n",
            "Epoch 36/200\n",
            "13/13 [==============================] - 0s 6ms/step - loss: 2607394249.1429 - mse: 2607394249.1429 - mae: 39948.1479 - val_loss: 2997403648.0000 - val_mse: 2997403648.0000 - val_mae: 43539.8047\n",
            "Epoch 37/200\n",
            "13/13 [==============================] - 0s 5ms/step - loss: 2370194139.4286 - mse: 2370194176.0000 - mae: 38901.5770 - val_loss: 2423451904.0000 - val_mse: 2423451904.0000 - val_mae: 40688.4102\n",
            "Epoch 38/200\n",
            "13/13 [==============================] - 0s 6ms/step - loss: 2569781504.0000 - mse: 2569781504.0000 - mae: 40245.6038 - val_loss: 2924053248.0000 - val_mse: 2924053248.0000 - val_mae: 41839.5352\n",
            "Epoch 39/200\n",
            "13/13 [==============================] - 0s 6ms/step - loss: 2281121888.0000 - mse: 2281121851.4286 - mae: 35492.9403 - val_loss: 2469510400.0000 - val_mse: 2469510400.0000 - val_mae: 36806.0430\n",
            "Epoch 40/200\n",
            "13/13 [==============================] - 0s 6ms/step - loss: 2044674669.7143 - mse: 2044674669.7143 - mae: 33819.2214 - val_loss: 4085344512.0000 - val_mse: 4085344512.0000 - val_mae: 54931.3242\n",
            "Epoch 41/200\n",
            "13/13 [==============================] - 0s 6ms/step - loss: 2575729517.7143 - mse: 2575729517.7143 - mae: 40916.9799 - val_loss: 4018287872.0000 - val_mse: 4018287872.0000 - val_mae: 53877.0781\n",
            "Epoch 42/200\n",
            "13/13 [==============================] - 0s 5ms/step - loss: 2359683328.0000 - mse: 2359683328.0000 - mae: 40088.7564 - val_loss: 2498003456.0000 - val_mse: 2498003456.0000 - val_mae: 39856.2344\n",
            "Epoch 43/200\n",
            "13/13 [==============================] - 0s 5ms/step - loss: 2350130852.5714 - mse: 2350130852.5714 - mae: 37227.3410 - val_loss: 2151949824.0000 - val_mse: 2151949824.0000 - val_mae: 34658.7031\n",
            "Epoch 44/200\n",
            "13/13 [==============================] - 0s 5ms/step - loss: 2785250130.2857 - mse: 2785250130.2857 - mae: 43712.8281 - val_loss: 1982469504.0000 - val_mse: 1982469504.0000 - val_mae: 33456.8438\n",
            "Epoch 45/200\n",
            "13/13 [==============================] - 0s 6ms/step - loss: 1904869796.5714 - mse: 1904869796.5714 - mae: 35420.9215 - val_loss: 2107960960.0000 - val_mse: 2107960960.0000 - val_mae: 34809.9766\n",
            "Epoch 46/200\n",
            "13/13 [==============================] - 0s 6ms/step - loss: 2290318153.1429 - mse: 2290318153.1429 - mae: 37645.6336 - val_loss: 2661634560.0000 - val_mse: 2661634560.0000 - val_mae: 40720.6211\n",
            "Epoch 47/200\n",
            "13/13 [==============================] - 0s 6ms/step - loss: 2237454573.7143 - mse: 2237454573.7143 - mae: 37377.0971 - val_loss: 2656672000.0000 - val_mse: 2656672000.0000 - val_mae: 39205.8008\n",
            "Epoch 48/200\n",
            "13/13 [==============================] - 0s 6ms/step - loss: 2374150592.0000 - mse: 2374150592.0000 - mae: 39148.5480 - val_loss: 3287823872.0000 - val_mse: 3287823872.0000 - val_mae: 48932.2852\n",
            "Epoch 49/200\n",
            "13/13 [==============================] - 0s 5ms/step - loss: 2139044379.4286 - mse: 2139044379.4286 - mae: 35991.1147 - val_loss: 3690276864.0000 - val_mse: 3690276864.0000 - val_mae: 48337.8203\n",
            "Epoch 50/200\n",
            "13/13 [==============================] - 0s 5ms/step - loss: 2676852534.8571 - mse: 2676852534.8571 - mae: 39793.5530 - val_loss: 2267985664.0000 - val_mse: 2267985920.0000 - val_mae: 35949.3516\n",
            "Epoch 51/200\n",
            "13/13 [==============================] - 0s 6ms/step - loss: 1677094237.7143 - mse: 1677094224.0000 - mae: 29087.3557 - val_loss: 2061316992.0000 - val_mse: 2061316992.0000 - val_mae: 36988.4727\n",
            "Epoch 52/200\n",
            "13/13 [==============================] - 0s 5ms/step - loss: 2782086336.0000 - mse: 2782086336.0000 - mae: 41831.1660 - val_loss: 2317244160.0000 - val_mse: 2317244160.0000 - val_mae: 34226.9648\n",
            "Epoch 53/200\n",
            "13/13 [==============================] - 0s 5ms/step - loss: 2756212498.2857 - mse: 2756212498.2857 - mae: 40686.1197 - val_loss: 2333045504.0000 - val_mse: 2333045504.0000 - val_mae: 34386.5625\n",
            "Epoch 54/200\n",
            "13/13 [==============================] - 0s 6ms/step - loss: 2779357129.1429 - mse: 2779357129.1429 - mae: 36135.6272 - val_loss: 2099058944.0000 - val_mse: 2099058944.0000 - val_mae: 33084.7070\n",
            "Epoch 55/200\n",
            "13/13 [==============================] - 0s 5ms/step - loss: 2426940562.2857 - mse: 2426940379.4286 - mae: 36016.4337 - val_loss: 3179060736.0000 - val_mse: 3179060736.0000 - val_mae: 41840.8828\n",
            "Epoch 56/200\n",
            "13/13 [==============================] - 0s 6ms/step - loss: 3289211008.0000 - mse: 3289211008.0000 - mae: 46564.1334 - val_loss: 1894816000.0000 - val_mse: 1894816000.0000 - val_mae: 34243.2344\n",
            "Epoch 57/200\n",
            "13/13 [==============================] - 0s 6ms/step - loss: 2246288219.4286 - mse: 2246288219.4286 - mae: 35670.1077 - val_loss: 2067819136.0000 - val_mse: 2067819136.0000 - val_mae: 32833.2188\n",
            "Epoch 58/200\n",
            "13/13 [==============================] - 0s 6ms/step - loss: 2830596260.5714 - mse: 2830596260.5714 - mae: 40860.5279 - val_loss: 2667211008.0000 - val_mse: 2667211008.0000 - val_mae: 43736.4414\n",
            "Epoch 59/200\n",
            "13/13 [==============================] - 0s 6ms/step - loss: 2457318555.4286 - mse: 2457318601.1429 - mae: 39084.6253 - val_loss: 2364317952.0000 - val_mse: 2364317440.0000 - val_mae: 37541.4883\n",
            "Epoch 60/200\n",
            "13/13 [==============================] - 0s 6ms/step - loss: 2360146934.8571 - mse: 2360146934.8571 - mae: 37104.1409 - val_loss: 2346831616.0000 - val_mse: 2346831872.0000 - val_mae: 39697.4961\n",
            "Epoch 61/200\n",
            "13/13 [==============================] - 0s 5ms/step - loss: 2673583085.7143 - mse: 2673583085.7143 - mae: 39363.3987 - val_loss: 2590266112.0000 - val_mse: 2590266112.0000 - val_mae: 36166.7969\n",
            "Epoch 62/200\n",
            "13/13 [==============================] - 0s 5ms/step - loss: 2809872100.5714 - mse: 2809872100.5714 - mae: 39114.6152 - val_loss: 1950370816.0000 - val_mse: 1950370816.0000 - val_mae: 34708.8008\n",
            "Epoch 63/200\n",
            "13/13 [==============================] - 0s 5ms/step - loss: 3008814811.4286 - mse: 3008814811.4286 - mae: 42857.7821 - val_loss: 2146465280.0000 - val_mse: 2146465280.0000 - val_mae: 38400.4688\n",
            "Epoch 64/200\n",
            "13/13 [==============================] - 0s 8ms/step - loss: 2803947565.7143 - mse: 2803947565.7143 - mae: 40834.6800 - val_loss: 1910643584.0000 - val_mse: 1910643584.0000 - val_mae: 34460.7344\n",
            "Epoch 65/200\n",
            "13/13 [==============================] - 0s 6ms/step - loss: 2569945664.0000 - mse: 2569945664.0000 - mae: 39602.2037 - val_loss: 2432555776.0000 - val_mse: 2432555776.0000 - val_mae: 37742.4844\n",
            "Epoch 66/200\n",
            "13/13 [==============================] - 0s 5ms/step - loss: 2289646189.7143 - mse: 2289646198.8571 - mae: 37133.2360 - val_loss: 2012434304.0000 - val_mse: 2012434304.0000 - val_mae: 33325.1992\n",
            "Epoch 67/200\n",
            "13/13 [==============================] - 0s 5ms/step - loss: 2692224201.1429 - mse: 2692224201.1429 - mae: 39352.4897 - val_loss: 2011171968.0000 - val_mse: 2011171968.0000 - val_mae: 35993.6992\n",
            "Epoch 68/200\n",
            "13/13 [==============================] - 0s 6ms/step - loss: 2399255414.8571 - mse: 2399255433.1429 - mae: 37134.6138 - val_loss: 2997101312.0000 - val_mse: 2997101312.0000 - val_mae: 40704.4766\n",
            "Epoch 69/200\n",
            "13/13 [==============================] - 0s 6ms/step - loss: 2057623332.5714 - mse: 2057623332.5714 - mae: 34496.6687 - val_loss: 2098721152.0000 - val_mse: 2098721152.0000 - val_mae: 35534.9258\n",
            "Epoch 70/200\n",
            "13/13 [==============================] - 0s 6ms/step - loss: 2436912694.8571 - mse: 2436912694.8571 - mae: 37499.1328 - val_loss: 2080694784.0000 - val_mse: 2080694784.0000 - val_mae: 34034.2734\n",
            "Epoch 71/200\n",
            "13/13 [==============================] - 0s 7ms/step - loss: 2276807881.1429 - mse: 2276807972.5714 - mae: 36758.4999 - val_loss: 2844562688.0000 - val_mse: 2844562688.0000 - val_mae: 43688.2305\n",
            "Epoch 72/200\n",
            "13/13 [==============================] - 0s 6ms/step - loss: 2429207579.4286 - mse: 2429207579.4286 - mae: 40065.7695 - val_loss: 2601441536.0000 - val_mse: 2601441536.0000 - val_mae: 38066.5156\n",
            "Epoch 73/200\n",
            "13/13 [==============================] - 0s 6ms/step - loss: 2416857682.2857 - mse: 2416857682.2857 - mae: 38024.1652 - val_loss: 2169064448.0000 - val_mse: 2169064448.0000 - val_mae: 35685.1992\n",
            "Epoch 74/200\n",
            "13/13 [==============================] - 0s 6ms/step - loss: 2433876068.5714 - mse: 2433875803.4286 - mae: 38533.9145 - val_loss: 2160973824.0000 - val_mse: 2160973824.0000 - val_mae: 33981.6523\n",
            "Epoch 75/200\n",
            "13/13 [==============================] - 0s 6ms/step - loss: 2018786020.5714 - mse: 2018786038.8571 - mae: 33306.2842 - val_loss: 3601878528.0000 - val_mse: 3601878528.0000 - val_mae: 48768.8789\n",
            "Epoch 76/200\n",
            "13/13 [==============================] - 0s 5ms/step - loss: 2471701202.2857 - mse: 2471701229.7143 - mae: 37359.8548 - val_loss: 2098025216.0000 - val_mse: 2098025216.0000 - val_mae: 34020.6680\n",
            "Epoch 77/200\n",
            "13/13 [==============================] - 0s 6ms/step - loss: 2278039744.0000 - mse: 2278039744.0000 - mae: 35869.8468 - val_loss: 2301470720.0000 - val_mse: 2301470720.0000 - val_mae: 37052.7539\n",
            "Epoch 78/200\n",
            "13/13 [==============================] - 0s 6ms/step - loss: 1744134153.1429 - mse: 1744134153.1429 - mae: 30700.7341 - val_loss: 3983685376.0000 - val_mse: 3983685376.0000 - val_mae: 53133.8477\n",
            "Epoch 79/200\n",
            "13/13 [==============================] - 0s 6ms/step - loss: 2468270409.1429 - mse: 2468270409.1429 - mae: 39552.1004 - val_loss: 1913975168.0000 - val_mse: 1913975168.0000 - val_mae: 34831.9141\n",
            "Epoch 80/200\n",
            "13/13 [==============================] - 0s 6ms/step - loss: 1991008969.1429 - mse: 1991008969.1429 - mae: 33683.4180 - val_loss: 1846365440.0000 - val_mse: 1846365440.0000 - val_mae: 33291.7695\n",
            "Epoch 81/200\n",
            "13/13 [==============================] - 0s 6ms/step - loss: 2329798034.2857 - mse: 2329798034.2857 - mae: 37407.0165 - val_loss: 2493193472.0000 - val_mse: 2493193472.0000 - val_mae: 36589.9219\n",
            "Epoch 82/200\n",
            "13/13 [==============================] - 0s 6ms/step - loss: 2893492589.7143 - mse: 2893492589.7143 - mae: 41901.8485 - val_loss: 2119142912.0000 - val_mse: 2119142912.0000 - val_mae: 35222.2930\n",
            "Epoch 83/200\n",
            "13/13 [==============================] - 0s 6ms/step - loss: 2308036845.7143 - mse: 2308036845.7143 - mae: 37574.1994 - val_loss: 2066370944.0000 - val_mse: 2066370944.0000 - val_mae: 34235.1094\n",
            "Epoch 84/200\n",
            "13/13 [==============================] - 0s 6ms/step - loss: 2136987254.8571 - mse: 2136987254.8571 - mae: 35113.6848 - val_loss: 2659343360.0000 - val_mse: 2659343360.0000 - val_mae: 42419.1523\n",
            "Epoch 85/200\n",
            "13/13 [==============================] - 0s 6ms/step - loss: 1908841243.4286 - mse: 1908841243.4286 - mae: 34935.3013 - val_loss: 1943417728.0000 - val_mse: 1943417728.0000 - val_mae: 33292.2930\n",
            "Epoch 86/200\n",
            "13/13 [==============================] - 0s 6ms/step - loss: 2191213952.0000 - mse: 2191213915.4286 - mae: 37156.7838 - val_loss: 2210608384.0000 - val_mse: 2210608384.0000 - val_mae: 35726.8438\n",
            "Epoch 87/200\n",
            "13/13 [==============================] - 0s 6ms/step - loss: 2436255725.7143 - mse: 2436255725.7143 - mae: 37568.3599 - val_loss: 2531275264.0000 - val_mse: 2531275264.0000 - val_mae: 37963.7383\n",
            "Epoch 88/200\n",
            "13/13 [==============================] - 0s 6ms/step - loss: 2304849846.8571 - mse: 2304849920.0000 - mae: 37271.3223 - val_loss: 2122670592.0000 - val_mse: 2122670592.0000 - val_mae: 38840.4727\n",
            "Epoch 89/200\n",
            "13/13 [==============================] - 0s 6ms/step - loss: 2216024086.8571 - mse: 2216024086.8571 - mae: 36228.6052 - val_loss: 2151411968.0000 - val_mse: 2151411968.0000 - val_mae: 35379.3281\n",
            "Epoch 90/200\n",
            "13/13 [==============================] - 0s 5ms/step - loss: 2056775616.0000 - mse: 2056775616.0000 - mae: 35267.8365 - val_loss: 2387929344.0000 - val_mse: 2387929344.0000 - val_mae: 37826.6133\n",
            "Epoch 91/200\n",
            "13/13 [==============================] - 0s 6ms/step - loss: 1942673782.8571 - mse: 1942673782.8571 - mae: 35089.5954 - val_loss: 2716235520.0000 - val_mse: 2716235520.0000 - val_mae: 40176.4297\n",
            "Epoch 92/200\n",
            "13/13 [==============================] - 0s 6ms/step - loss: 2401843968.0000 - mse: 2401843968.0000 - mae: 38043.0636 - val_loss: 2702257664.0000 - val_mse: 2702257664.0000 - val_mae: 39727.9336\n",
            "Epoch 93/200\n",
            "13/13 [==============================] - 0s 5ms/step - loss: 2342682569.1429 - mse: 2342682569.1429 - mae: 38515.1370 - val_loss: 2098799232.0000 - val_mse: 2098799232.0000 - val_mae: 35017.1758\n",
            "Epoch 94/200\n",
            "13/13 [==============================] - 0s 5ms/step - loss: 1903966345.1429 - mse: 1903966345.1429 - mae: 33477.9632 - val_loss: 7430418432.0000 - val_mse: 7430418432.0000 - val_mae: 77880.6875\n",
            "Epoch 95/200\n",
            "13/13 [==============================] - 0s 5ms/step - loss: 3054775552.0000 - mse: 3054775771.4286 - mae: 45123.6465 - val_loss: 1943158784.0000 - val_mse: 1943158784.0000 - val_mae: 34518.6406\n",
            "Epoch 96/200\n",
            "13/13 [==============================] - 0s 6ms/step - loss: 1871497170.2857 - mse: 1871497170.2857 - mae: 33722.1211 - val_loss: 2297638144.0000 - val_mse: 2297638144.0000 - val_mae: 35819.5234\n",
            "Epoch 97/200\n",
            "13/13 [==============================] - 0s 6ms/step - loss: 2138147209.1429 - mse: 2138147090.2857 - mae: 36398.5374 - val_loss: 2043669504.0000 - val_mse: 2043669504.0000 - val_mae: 36988.9258\n",
            "Epoch 98/200\n",
            "13/13 [==============================] - 0s 6ms/step - loss: 2283971602.2857 - mse: 2283971712.0000 - mae: 36163.8125 - val_loss: 1958623488.0000 - val_mse: 1958623488.0000 - val_mae: 33099.3711\n",
            "Epoch 99/200\n",
            "13/13 [==============================] - 0s 6ms/step - loss: 2398529508.5714 - mse: 2398529508.5714 - mae: 38526.0134 - val_loss: 2604184320.0000 - val_mse: 2604184320.0000 - val_mae: 38757.0156\n",
            "Epoch 100/200\n",
            "13/13 [==============================] - 0s 5ms/step - loss: 2087332370.2857 - mse: 2087332489.1429 - mae: 35843.7453 - val_loss: 2099270144.0000 - val_mse: 2099270144.0000 - val_mae: 34899.9219\n",
            "Epoch 101/200\n",
            "13/13 [==============================] - 0s 6ms/step - loss: 2038803300.5714 - mse: 2038803300.5714 - mae: 33153.0756 - val_loss: 2672531200.0000 - val_mse: 2672531200.0000 - val_mae: 37771.3633\n",
            "Epoch 102/200\n",
            "13/13 [==============================] - 0s 6ms/step - loss: 2509927497.1429 - mse: 2509927497.1429 - mae: 36604.2790 - val_loss: 2116106368.0000 - val_mse: 2116106368.0000 - val_mae: 38803.2539\n",
            "Epoch 103/200\n",
            "13/13 [==============================] - 0s 6ms/step - loss: 2265178450.2857 - mse: 2265178450.2857 - mae: 36723.6412 - val_loss: 2267756032.0000 - val_mse: 2267756032.0000 - val_mae: 36617.1289\n",
            "Epoch 104/200\n",
            "13/13 [==============================] - 0s 5ms/step - loss: 1969928182.8571 - mse: 1969928182.8571 - mae: 33511.9598 - val_loss: 1932980608.0000 - val_mse: 1932980608.0000 - val_mae: 35241.1328\n",
            "Epoch 105/200\n",
            "13/13 [==============================] - 0s 6ms/step - loss: 1973440320.0000 - mse: 1973440320.0000 - mae: 35127.1634 - val_loss: 3483044608.0000 - val_mse: 3483044608.0000 - val_mae: 44237.2812\n",
            "Epoch 106/200\n",
            "13/13 [==============================] - 0s 5ms/step - loss: 2229016886.8571 - mse: 2229016886.8571 - mae: 34476.4184 - val_loss: 2380285696.0000 - val_mse: 2380285696.0000 - val_mae: 40910.7227\n",
            "Epoch 107/200\n",
            "13/13 [==============================] - 0s 6ms/step - loss: 2172320813.7143 - mse: 2172320813.7143 - mae: 38041.7871 - val_loss: 3104524544.0000 - val_mse: 3104524544.0000 - val_mae: 46731.0703\n",
            "Epoch 108/200\n",
            "13/13 [==============================] - 0s 6ms/step - loss: 2284583506.2857 - mse: 2284583506.2857 - mae: 38778.0921 - val_loss: 2029432576.0000 - val_mse: 2029432576.0000 - val_mae: 35746.9492\n",
            "Epoch 109/200\n",
            "13/13 [==============================] - 0s 7ms/step - loss: 1944609993.1429 - mse: 1944609993.1429 - mae: 34802.0080 - val_loss: 2981868800.0000 - val_mse: 2981868800.0000 - val_mae: 46401.6172\n",
            "Epoch 110/200\n",
            "13/13 [==============================] - 0s 6ms/step - loss: 2445571693.7143 - mse: 2445571693.7143 - mae: 40562.3954 - val_loss: 2287675648.0000 - val_mse: 2287675648.0000 - val_mae: 36028.0664\n",
            "Epoch 111/200\n",
            "13/13 [==============================] - 0s 7ms/step - loss: 2899035629.7143 - mse: 2899035629.7143 - mae: 39681.9263 - val_loss: 2070663040.0000 - val_mse: 2070663040.0000 - val_mae: 36805.9258\n",
            "Epoch 112/200\n",
            "13/13 [==============================] - 0s 6ms/step - loss: 2252400438.8571 - mse: 2252400438.8571 - mae: 36449.6982 - val_loss: 2395360512.0000 - val_mse: 2395360256.0000 - val_mae: 38354.4258\n",
            "Epoch 113/200\n",
            "13/13 [==============================] - 0s 6ms/step - loss: 2228206162.2857 - mse: 2228206098.2857 - mae: 35584.9919 - val_loss: 2613628160.0000 - val_mse: 2613628160.0000 - val_mae: 38943.3398\n",
            "Epoch 114/200\n",
            "13/13 [==============================] - 0s 5ms/step - loss: 2553175533.7143 - mse: 2553175533.7143 - mae: 38875.6981 - val_loss: 2324699392.0000 - val_mse: 2324699392.0000 - val_mae: 40108.5703\n",
            "Epoch 115/200\n",
            "13/13 [==============================] - 0s 6ms/step - loss: 2079405604.5714 - mse: 2079405604.5714 - mae: 35637.4107 - val_loss: 1910332800.0000 - val_mse: 1910332800.0000 - val_mae: 33318.3125\n",
            "Epoch 116/200\n",
            "13/13 [==============================] - 0s 6ms/step - loss: 2186138934.8571 - mse: 2186138934.8571 - mae: 36118.8048 - val_loss: 2170872832.0000 - val_mse: 2170872832.0000 - val_mae: 33431.4336\n",
            "Epoch 117/200\n",
            "13/13 [==============================] - 0s 6ms/step - loss: 2250423305.1429 - mse: 2250423305.1429 - mae: 37203.3482 - val_loss: 2247294976.0000 - val_mse: 2247294976.0000 - val_mae: 38209.3477\n",
            "Epoch 118/200\n",
            "13/13 [==============================] - 0s 5ms/step - loss: 2093244818.2857 - mse: 2093244818.2857 - mae: 36212.9665 - val_loss: 2071790080.0000 - val_mse: 2071790080.0000 - val_mae: 34356.1602\n",
            "Epoch 119/200\n",
            "13/13 [==============================] - 0s 5ms/step - loss: 1974072923.4286 - mse: 1974072923.4286 - mae: 34309.8747 - val_loss: 2496068096.0000 - val_mse: 2496068096.0000 - val_mae: 38100.9453\n",
            "Epoch 120/200\n",
            "13/13 [==============================] - 0s 6ms/step - loss: 2566824283.4286 - mse: 2566824283.4286 - mae: 39102.0343 - val_loss: 2426545152.0000 - val_mse: 2426545152.0000 - val_mae: 36446.0430\n",
            "Epoch 121/200\n",
            "13/13 [==============================] - 0s 6ms/step - loss: 3233941193.1429 - mse: 3233941193.1429 - mae: 42744.1828 - val_loss: 2002704128.0000 - val_mse: 2002704128.0000 - val_mae: 34644.3594\n",
            "Epoch 122/200\n",
            "13/13 [==============================] - 0s 6ms/step - loss: 2169879030.8571 - mse: 2169879030.8571 - mae: 35633.4985 - val_loss: 2029973120.0000 - val_mse: 2029973120.0000 - val_mae: 33803.7578\n",
            "Epoch 123/200\n",
            "13/13 [==============================] - 0s 6ms/step - loss: 1907325618.2857 - mse: 1907325618.2857 - mae: 33953.7199 - val_loss: 2116059264.0000 - val_mse: 2116059264.0000 - val_mae: 36214.6602\n",
            "Epoch 124/200\n",
            "13/13 [==============================] - 0s 6ms/step - loss: 2183708411.4286 - mse: 2183708411.4286 - mae: 34755.4464 - val_loss: 2968599552.0000 - val_mse: 2968599552.0000 - val_mae: 45992.0039\n",
            "Epoch 125/200\n",
            "13/13 [==============================] - 0s 6ms/step - loss: 2404672512.0000 - mse: 2404672512.0000 - mae: 38190.5410 - val_loss: 2013025664.0000 - val_mse: 2013025664.0000 - val_mae: 33812.2461\n",
            "Epoch 126/200\n",
            "13/13 [==============================] - 0s 7ms/step - loss: 2691908937.1429 - mse: 2691908937.1429 - mae: 41925.9537 - val_loss: 2062891136.0000 - val_mse: 2062891136.0000 - val_mae: 35196.4570\n",
            "Epoch 127/200\n",
            "13/13 [==============================] - 0s 6ms/step - loss: 2032105243.4286 - mse: 2032105243.4286 - mae: 34176.1763 - val_loss: 2317767680.0000 - val_mse: 2317767680.0000 - val_mae: 40180.1484\n",
            "Epoch 128/200\n",
            "13/13 [==============================] - 0s 6ms/step - loss: 2271502299.4286 - mse: 2271502363.4286 - mae: 38471.7812 - val_loss: 1962801280.0000 - val_mse: 1962801280.0000 - val_mae: 33237.7148\n",
            "Epoch 129/200\n",
            "13/13 [==============================] - 0s 6ms/step - loss: 2655383286.8571 - mse: 2655383286.8571 - mae: 39471.0548 - val_loss: 2020761600.0000 - val_mse: 2020761600.0000 - val_mae: 34259.4375\n",
            "Epoch 130/200\n",
            "13/13 [==============================] - 0s 6ms/step - loss: 2522130706.2857 - mse: 2522130706.2857 - mae: 38448.7882 - val_loss: 2972038400.0000 - val_mse: 2972038400.0000 - val_mae: 40044.3086\n",
            "Epoch 131/200\n",
            "13/13 [==============================] - 0s 6ms/step - loss: 2060413312.0000 - mse: 2060413312.0000 - mae: 35281.3269 - val_loss: 2281910784.0000 - val_mse: 2281910784.0000 - val_mae: 37865.3242\n",
            "Epoch 132/200\n",
            "13/13 [==============================] - 0s 6ms/step - loss: 2116559689.1429 - mse: 2116559689.1429 - mae: 37371.8499 - val_loss: 2649093888.0000 - val_mse: 2649093888.0000 - val_mae: 39015.6445\n",
            "Epoch 133/200\n",
            "13/13 [==============================] - 0s 6ms/step - loss: 1922533376.0000 - mse: 1922533376.0000 - mae: 31595.4302 - val_loss: 2448513536.0000 - val_mse: 2448513536.0000 - val_mae: 35509.4297\n",
            "Epoch 134/200\n",
            "13/13 [==============================] - 0s 7ms/step - loss: 2951615616.0000 - mse: 2951615616.0000 - mae: 41893.6057 - val_loss: 2397993472.0000 - val_mse: 2397993472.0000 - val_mae: 37413.7070\n",
            "Epoch 135/200\n",
            "13/13 [==============================] - 0s 5ms/step - loss: 2338123538.2857 - mse: 2338123538.2857 - mae: 35964.9658 - val_loss: 2036199936.0000 - val_mse: 2036199808.0000 - val_mae: 34778.8984\n",
            "Epoch 136/200\n",
            "13/13 [==============================] - 0s 5ms/step - loss: 1905248626.2857 - mse: 1905248626.2857 - mae: 33134.5142 - val_loss: 1994553728.0000 - val_mse: 1994553728.0000 - val_mae: 33463.8242\n",
            "Epoch 137/200\n",
            "13/13 [==============================] - 0s 6ms/step - loss: 1936428251.4286 - mse: 1936428251.4286 - mae: 34857.6274 - val_loss: 2432398592.0000 - val_mse: 2432398592.0000 - val_mae: 38364.3750\n",
            "Epoch 138/200\n",
            "13/13 [==============================] - 0s 6ms/step - loss: 2688276772.5714 - mse: 2688276772.5714 - mae: 41259.4665 - val_loss: 2038865280.0000 - val_mse: 2038865280.0000 - val_mae: 34366.8672\n",
            "Epoch 139/200\n",
            "13/13 [==============================] - 0s 6ms/step - loss: 1657853024.0000 - mse: 1657853097.1429 - mae: 30531.9678 - val_loss: 1925760000.0000 - val_mse: 1925760000.0000 - val_mae: 34170.6641\n",
            "Epoch 140/200\n",
            "13/13 [==============================] - 0s 6ms/step - loss: 2010091620.5714 - mse: 2010091620.5714 - mae: 34400.0165 - val_loss: 1982538240.0000 - val_mse: 1982538240.0000 - val_mae: 33671.7344\n",
            "Epoch 141/200\n",
            "13/13 [==============================] - 0s 6ms/step - loss: 2137768338.2857 - mse: 2137768338.2857 - mae: 35642.0255 - val_loss: 2436119552.0000 - val_mse: 2436119552.0000 - val_mae: 38547.0352\n",
            "Epoch 142/200\n",
            "13/13 [==============================] - 0s 6ms/step - loss: 2491359488.0000 - mse: 2491359488.0000 - mae: 39692.3094 - val_loss: 2028432384.0000 - val_mse: 2028432384.0000 - val_mae: 34012.0234\n",
            "Epoch 143/200\n",
            "13/13 [==============================] - 0s 6ms/step - loss: 2598552585.1429 - mse: 2598552585.1429 - mae: 40581.6973 - val_loss: 1865217792.0000 - val_mse: 1865217792.0000 - val_mae: 34380.7148\n",
            "Epoch 144/200\n",
            "13/13 [==============================] - 0s 6ms/step - loss: 2142124324.5714 - mse: 2142124324.5714 - mae: 36543.7040 - val_loss: 3413455360.0000 - val_mse: 3413455360.0000 - val_mae: 48072.0039\n",
            "Epoch 145/200\n",
            "13/13 [==============================] - 0s 6ms/step - loss: 2476221138.2857 - mse: 2476221092.5714 - mae: 39448.7796 - val_loss: 1908614912.0000 - val_mse: 1908614912.0000 - val_mae: 32717.2871\n",
            "Epoch 146/200\n",
            "13/13 [==============================] - 0s 6ms/step - loss: 1979080347.4286 - mse: 1979080347.4286 - mae: 34686.1927 - val_loss: 1980673280.0000 - val_mse: 1980673280.0000 - val_mae: 35453.9375\n",
            "Epoch 147/200\n",
            "13/13 [==============================] - 0s 6ms/step - loss: 1903272822.8571 - mse: 1903272822.8571 - mae: 34300.9395 - val_loss: 3664818944.0000 - val_mse: 3664818944.0000 - val_mae: 50273.1914\n",
            "Epoch 148/200\n",
            "13/13 [==============================] - 0s 6ms/step - loss: 1963525312.0000 - mse: 1963525312.0000 - mae: 35347.8189 - val_loss: 2144364928.0000 - val_mse: 2144364928.0000 - val_mae: 36475.5977\n",
            "Epoch 149/200\n",
            "13/13 [==============================] - 0s 6ms/step - loss: 1903468507.4286 - mse: 1903468507.4286 - mae: 34097.8987 - val_loss: 3660616960.0000 - val_mse: 3660616960.0000 - val_mae: 47088.0195\n",
            "Epoch 150/200\n",
            "13/13 [==============================] - 0s 5ms/step - loss: 2571454902.8571 - mse: 2571454902.8571 - mae: 39790.5022 - val_loss: 2118945024.0000 - val_mse: 2118945024.0000 - val_mae: 33262.2383\n",
            "Epoch 151/200\n",
            "13/13 [==============================] - 0s 6ms/step - loss: 2379649298.2857 - mse: 2379649298.2857 - mae: 38520.6610 - val_loss: 2067812608.0000 - val_mse: 2067812608.0000 - val_mae: 33751.2773\n",
            "Epoch 152/200\n",
            "13/13 [==============================] - 0s 6ms/step - loss: 2024247030.8571 - mse: 2024247030.8571 - mae: 35203.5018 - val_loss: 2186616320.0000 - val_mse: 2186616320.0000 - val_mae: 38733.9883\n",
            "Epoch 153/200\n",
            "13/13 [==============================] - 0s 6ms/step - loss: 2153640429.7143 - mse: 2153640658.2857 - mae: 36369.4082 - val_loss: 1914025088.0000 - val_mse: 1914025088.0000 - val_mae: 34227.8984\n",
            "Epoch 154/200\n",
            "13/13 [==============================] - 0s 6ms/step - loss: 2099598802.2857 - mse: 2099598802.2857 - mae: 36014.1023 - val_loss: 2028066432.0000 - val_mse: 2028066432.0000 - val_mae: 33666.4492\n",
            "Epoch 155/200\n",
            "13/13 [==============================] - 0s 6ms/step - loss: 2145286811.4286 - mse: 2145286811.4286 - mae: 36247.7168 - val_loss: 2379950336.0000 - val_mse: 2379950336.0000 - val_mae: 39627.4492\n",
            "Epoch 156/200\n",
            "13/13 [==============================] - 0s 6ms/step - loss: 2871845394.2857 - mse: 2871845430.8571 - mae: 44238.7520 - val_loss: 2206318592.0000 - val_mse: 2206318592.0000 - val_mae: 38548.7734\n",
            "Epoch 157/200\n",
            "13/13 [==============================] - 0s 5ms/step - loss: 2225596150.8571 - mse: 2225596150.8571 - mae: 35899.6705 - val_loss: 2503534080.0000 - val_mse: 2503534080.0000 - val_mae: 41294.1016\n",
            "Epoch 158/200\n",
            "13/13 [==============================] - 0s 6ms/step - loss: 2130548498.2857 - mse: 2130548498.2857 - mae: 35890.6117 - val_loss: 2048926464.0000 - val_mse: 2048926464.0000 - val_mae: 34092.9766\n",
            "Epoch 159/200\n",
            "13/13 [==============================] - 0s 7ms/step - loss: 2197533677.7143 - mse: 2197533677.7143 - mae: 35489.7549 - val_loss: 1881565696.0000 - val_mse: 1881565696.0000 - val_mae: 32931.2148\n",
            "Epoch 160/200\n",
            "13/13 [==============================] - 0s 6ms/step - loss: 2589408402.2857 - mse: 2589408402.2857 - mae: 38402.6346 - val_loss: 2856719360.0000 - val_mse: 2856719360.0000 - val_mae: 43499.0312\n",
            "Epoch 161/200\n",
            "13/13 [==============================] - 0s 5ms/step - loss: 2473468251.4286 - mse: 2473468251.4286 - mae: 40956.1549 - val_loss: 1889024896.0000 - val_mse: 1889024896.0000 - val_mae: 32188.0586\n",
            "Epoch 162/200\n",
            "13/13 [==============================] - 0s 6ms/step - loss: 1897498112.0000 - mse: 1897498093.7143 - mae: 33921.9138 - val_loss: 1877358336.0000 - val_mse: 1877358336.0000 - val_mae: 32464.8926\n",
            "Epoch 163/200\n",
            "13/13 [==============================] - 0s 6ms/step - loss: 2367149760.0000 - mse: 2367149760.0000 - mae: 37849.0914 - val_loss: 2193053184.0000 - val_mse: 2193053184.0000 - val_mae: 37994.2852\n",
            "Epoch 164/200\n",
            "13/13 [==============================] - 0s 6ms/step - loss: 1850152562.2857 - mse: 1850152562.2857 - mae: 33629.8071 - val_loss: 2424115968.0000 - val_mse: 2424115968.0000 - val_mae: 38311.9961\n",
            "Epoch 165/200\n",
            "13/13 [==============================] - 0s 5ms/step - loss: 2105937380.5714 - mse: 2105937380.5714 - mae: 35772.2529 - val_loss: 2195849216.0000 - val_mse: 2195849216.0000 - val_mae: 35653.6406\n",
            "Epoch 166/200\n",
            "13/13 [==============================] - 0s 6ms/step - loss: 1751014646.8571 - mse: 1751014464.0000 - mae: 33051.0776 - val_loss: 1944428416.0000 - val_mse: 1944428416.0000 - val_mae: 35241.7188\n",
            "Epoch 167/200\n",
            "13/13 [==============================] - 0s 5ms/step - loss: 2228499492.5714 - mse: 2228499492.5714 - mae: 35826.7797 - val_loss: 2305568000.0000 - val_mse: 2305568000.0000 - val_mae: 39648.9102\n",
            "Epoch 168/200\n",
            "13/13 [==============================] - 0s 6ms/step - loss: 2108795309.7143 - mse: 2108795309.7143 - mae: 36206.8401 - val_loss: 2061385856.0000 - val_mse: 2061385856.0000 - val_mae: 34973.5977\n",
            "Epoch 169/200\n",
            "13/13 [==============================] - 0s 6ms/step - loss: 1888645275.4286 - mse: 1888645275.4286 - mae: 34776.4053 - val_loss: 1988806272.0000 - val_mse: 1988806272.0000 - val_mae: 32992.8242\n",
            "Epoch 170/200\n",
            "13/13 [==============================] - 0s 6ms/step - loss: 2327361188.5714 - mse: 2327360960.0000 - mae: 38526.4573 - val_loss: 2139206144.0000 - val_mse: 2139206144.0000 - val_mae: 34244.9062\n",
            "Epoch 171/200\n",
            "13/13 [==============================] - 0s 7ms/step - loss: 1926232786.2857 - mse: 1926232786.2857 - mae: 33718.2511 - val_loss: 1996329216.0000 - val_mse: 1996329216.0000 - val_mae: 33734.8555\n",
            "Epoch 172/200\n",
            "13/13 [==============================] - 0s 6ms/step - loss: 2018973120.0000 - mse: 2018973120.0000 - mae: 35498.7616 - val_loss: 3345022720.0000 - val_mse: 3345022720.0000 - val_mae: 49154.6914\n",
            "Epoch 173/200\n",
            "13/13 [==============================] - 0s 6ms/step - loss: 2246292736.0000 - mse: 2246292626.2857 - mae: 37785.4629 - val_loss: 1931869824.0000 - val_mse: 1931869824.0000 - val_mae: 33695.8438\n",
            "Epoch 174/200\n",
            "13/13 [==============================] - 0s 6ms/step - loss: 2175638884.5714 - mse: 2175638884.5714 - mae: 37058.4581 - val_loss: 2007698048.0000 - val_mse: 2007698048.0000 - val_mae: 32943.1016\n",
            "Epoch 175/200\n",
            "13/13 [==============================] - 0s 6ms/step - loss: 2167803894.8571 - mse: 2167803894.8571 - mae: 36396.7227 - val_loss: 2174379008.0000 - val_mse: 2174379008.0000 - val_mae: 38097.9922\n",
            "Epoch 176/200\n",
            "13/13 [==============================] - 0s 6ms/step - loss: 2060559872.0000 - mse: 2060559872.0000 - mae: 36615.2252 - val_loss: 1864812288.0000 - val_mse: 1864812288.0000 - val_mae: 34005.8945\n",
            "Epoch 177/200\n",
            "13/13 [==============================] - 0s 6ms/step - loss: 1785933165.7143 - mse: 1785933147.4286 - mae: 33061.2132 - val_loss: 2788670464.0000 - val_mse: 2788670464.0000 - val_mae: 42702.4375\n",
            "Epoch 178/200\n",
            "13/13 [==============================] - 0s 6ms/step - loss: 2344660141.7143 - mse: 2344660141.7143 - mae: 37726.4289 - val_loss: 2041423104.0000 - val_mse: 2041423104.0000 - val_mae: 35167.0234\n",
            "Epoch 179/200\n",
            "13/13 [==============================] - 0s 6ms/step - loss: 2115397440.0000 - mse: 2115397522.2857 - mae: 35438.8443 - val_loss: 2414830848.0000 - val_mse: 2414830848.0000 - val_mae: 35723.8008\n",
            "Epoch 180/200\n",
            "13/13 [==============================] - 0s 6ms/step - loss: 2182523712.0000 - mse: 2182523712.0000 - mae: 37439.1250 - val_loss: 1924060544.0000 - val_mse: 1924060544.0000 - val_mae: 33478.2148\n",
            "Epoch 181/200\n",
            "13/13 [==============================] - 0s 6ms/step - loss: 2456973604.5714 - mse: 2456973421.7143 - mae: 39533.7146 - val_loss: 2530521856.0000 - val_mse: 2530521856.0000 - val_mae: 39924.0234\n",
            "Epoch 182/200\n",
            "13/13 [==============================] - 0s 6ms/step - loss: 2183559725.7143 - mse: 2183559725.7143 - mae: 37438.8736 - val_loss: 2704806400.0000 - val_mse: 2704806400.0000 - val_mae: 39402.8594\n",
            "Epoch 183/200\n",
            "13/13 [==============================] - 0s 6ms/step - loss: 2438826459.4286 - mse: 2438826459.4286 - mae: 39907.6808 - val_loss: 1999687552.0000 - val_mse: 1999687552.0000 - val_mae: 33505.0664\n",
            "Epoch 184/200\n",
            "13/13 [==============================] - 0s 6ms/step - loss: 2089966244.5714 - mse: 2089966262.8571 - mae: 36171.1881 - val_loss: 2105983488.0000 - val_mse: 2105983488.0000 - val_mae: 33956.1680\n",
            "Epoch 185/200\n",
            "13/13 [==============================] - 0s 6ms/step - loss: 2628253494.8571 - mse: 2628253494.8571 - mae: 40919.1007 - val_loss: 1834245632.0000 - val_mse: 1834245632.0000 - val_mae: 33163.5898\n",
            "Epoch 186/200\n",
            "13/13 [==============================] - 0s 6ms/step - loss: 1943521581.7143 - mse: 1943521581.7143 - mae: 34909.0021 - val_loss: 2099186816.0000 - val_mse: 2099186816.0000 - val_mae: 35278.4883\n",
            "Epoch 187/200\n",
            "13/13 [==============================] - 0s 6ms/step - loss: 2183138057.1429 - mse: 2183138057.1429 - mae: 35142.8807 - val_loss: 2083021440.0000 - val_mse: 2083021440.0000 - val_mae: 34744.3125\n",
            "Epoch 188/200\n",
            "13/13 [==============================] - 0s 6ms/step - loss: 1996465552.0000 - mse: 1996465552.0000 - mae: 34362.7150 - val_loss: 2020637440.0000 - val_mse: 2020637440.0000 - val_mae: 33455.0898\n",
            "Epoch 189/200\n",
            "13/13 [==============================] - 0s 6ms/step - loss: 1643836749.7143 - mse: 1643836749.7143 - mae: 31689.4989 - val_loss: 2220779008.0000 - val_mse: 2220779008.0000 - val_mae: 34597.4375\n",
            "Epoch 190/200\n",
            "13/13 [==============================] - 0s 6ms/step - loss: 1980401024.0000 - mse: 1980401024.0000 - mae: 35118.9732 - val_loss: 2149608960.0000 - val_mse: 2149608960.0000 - val_mae: 35838.4453\n",
            "Epoch 191/200\n",
            "13/13 [==============================] - 0s 6ms/step - loss: 2408599707.4286 - mse: 2408599670.8571 - mae: 37028.3742 - val_loss: 5165213184.0000 - val_mse: 5165213184.0000 - val_mae: 62460.3242\n",
            "Epoch 192/200\n",
            "13/13 [==============================] - 0s 6ms/step - loss: 2708037083.4286 - mse: 2708036918.8571 - mae: 41164.6219 - val_loss: 1894148992.0000 - val_mse: 1894148992.0000 - val_mae: 32960.2617\n",
            "Epoch 193/200\n",
            "13/13 [==============================] - 0s 6ms/step - loss: 1933615588.5714 - mse: 1933615588.5714 - mae: 34366.9026 - val_loss: 2308802816.0000 - val_mse: 2308802816.0000 - val_mae: 39910.8203\n",
            "Epoch 194/200\n",
            "13/13 [==============================] - 0s 7ms/step - loss: 2000914313.1429 - mse: 2000914230.8571 - mae: 35954.6501 - val_loss: 1940109952.0000 - val_mse: 1940109952.0000 - val_mae: 32888.4688\n",
            "Epoch 195/200\n",
            "13/13 [==============================] - 0s 6ms/step - loss: 2077956804.5714 - mse: 2077956804.5714 - mae: 34867.3299 - val_loss: 1947789568.0000 - val_mse: 1947789568.0000 - val_mae: 34925.4219\n",
            "Epoch 196/200\n",
            "13/13 [==============================] - 0s 7ms/step - loss: 2083671625.1429 - mse: 2083671625.1429 - mae: 35707.5146 - val_loss: 2177213440.0000 - val_mse: 2177213440.0000 - val_mae: 36142.1992\n",
            "Epoch 197/200\n",
            "13/13 [==============================] - 0s 6ms/step - loss: 2422785216.0000 - mse: 2422785216.0000 - mae: 39221.0555 - val_loss: 2897531392.0000 - val_mse: 2897531392.0000 - val_mae: 45120.1797\n",
            "Epoch 198/200\n",
            "13/13 [==============================] - 0s 6ms/step - loss: 2053635364.5714 - mse: 2053635474.2857 - mae: 35331.1057 - val_loss: 1911469184.0000 - val_mse: 1911469184.0000 - val_mae: 34419.3594\n",
            "Epoch 199/200\n",
            "13/13 [==============================] - 0s 6ms/step - loss: 2502466304.0000 - mse: 2502466304.0000 - mae: 39063.6844 - val_loss: 1930385024.0000 - val_mse: 1930385024.0000 - val_mae: 35146.1289\n",
            "Epoch 200/200\n",
            "13/13 [==============================] - 0s 6ms/step - loss: 2500416329.1429 - mse: 2500416329.1429 - mae: 38458.4096 - val_loss: 2131237760.0000 - val_mse: 2131237760.0000 - val_mae: 35283.5039\n"
          ],
          "name": "stdout"
        }
      ]
    },
    {
      "cell_type": "markdown",
      "metadata": {
        "id": "QnlYs5BDUfK5"
      },
      "source": [
        "**Loading a Checkpoint Model**"
      ]
    },
    {
      "cell_type": "code",
      "metadata": {
        "colab": {
          "base_uri": "https://localhost:8080/"
        },
        "id": "QGhasrYlUjFD",
        "outputId": "1aa771c4-086b-4053-9c86-5be5b2d24fd4"
      },
      "source": [
        "model = tf.keras.models.Sequential()\r\n",
        "model.add(tf.keras.layers.Dense(250, activation='relu', input_shape=(n_cols,)))\r\n",
        "model.add(tf.keras.layers.Dense(250, activation='relu'))\r\n",
        "model.add(tf.keras.layers.Dense(1))\r\n",
        "\r\n",
        "optimizer = tf.keras.optimizers.RMSprop(learning_rate)\r\n",
        "\r\n",
        "# load weights of best_model learned from ModelCheckpoint\r\n",
        "model.load_weights('rr_model.hdf5')\r\n",
        "\r\n",
        "model.compile(optimizer=optimizer, loss='mean_squared_error', metrics=['mse', 'mae'])\r\n",
        "\r\n",
        "score = model.evaluate(test_features, test_labels, verbose=0)\r\n",
        "print('%s: %.2f%%' % (model.metrics_names[2], score[2]))"
      ],
      "execution_count": 53,
      "outputs": [
        {
          "output_type": "stream",
          "text": [
            "mae: 32188.06%\n"
          ],
          "name": "stdout"
        }
      ]
    },
    {
      "cell_type": "markdown",
      "metadata": {
        "id": "MAOjz5RYYFHR"
      },
      "source": [
        "**Plot Loss curve for Model trained with ModelCheckpoint callback**"
      ]
    },
    {
      "cell_type": "code",
      "metadata": {
        "colab": {
          "base_uri": "https://localhost:8080/",
          "height": 552
        },
        "id": "O8K1vsHsYJUg",
        "outputId": "2643f4ce-7abe-4124-c3db-93118652db97"
      },
      "source": [
        "plot_history(history)"
      ],
      "execution_count": 54,
      "outputs": [
        {
          "output_type": "display_data",
          "data": {
            "image/png": "[encoded data removed]",
            "text/plain": [
              "<Figure size 432x288 with 1 Axes>"
            ]
          },
          "metadata": {
            "tags": [],
            "needs_background": "light"
          }
        },
        {
          "output_type": "display_data",
          "data": {
            "image/png": "[encoded data removed]",
            "text/plain": [
              "<Figure size 432x288 with 1 Axes>"
            ]
          },
          "metadata": {
            "tags": [],
            "needs_background": "light"
          }
        }
      ]
    },
    {
      "cell_type": "markdown",
      "metadata": {
        "id": "m-7HuW61-zcf"
      },
      "source": [
        "**Plot to evaluate if Model Needs more Data**"
      ]
    },
    {
      "cell_type": "code",
      "metadata": {
        "colab": {
          "base_uri": "https://localhost:8080/",
          "height": 280
        },
        "id": "zene0ZYGSTtL",
        "outputId": "1ae9a097-8063-45f9-c139-d251a52e403c"
      },
      "source": [
        "def plot_sample_vs_metrics(model):\r\n",
        "  \"\"\"Create line plots of train and test metrics per given sample and helps us identify if model needs more data\"\"\"\r\n",
        "\r\n",
        "  # init_weights = model.get_weights()\r\n",
        "  train_maes = []\r\n",
        "  test_maes = []\r\n",
        "\r\n",
        "  train_sizes = [15,30,46,61,77,92,108,123,139]\r\n",
        "\r\n",
        "  from sklearn.model_selection import train_test_split\r\n",
        "  \r\n",
        "  for train_size in train_sizes:\r\n",
        "    X_train_frac, _ , y_train_frac, _ = train_test_split(train_features, train_labels, train_size=train_size)\r\n",
        "\r\n",
        "    # model.set_weights(init_weights)\r\n",
        "    early_stopping = EarlyStopping(monitor='mae', patience=5)\r\n",
        "\r\n",
        "    model.fit(X_train_frac, y_train_frac, epochs=100, callbacks=[early_stopping], verbose=0)\r\n",
        "\r\n",
        "    train_mae = model.evaluate(X_train_frac, y_train_frac, verbose=0)[2]\r\n",
        "    train_maes.append(train_mae)\r\n",
        "\r\n",
        "    test_mae = model.evaluate(test_features, test_labels, verbose=0)[2]\r\n",
        "    test_maes.append(test_mae)\r\n",
        "\r\n",
        "  training_samples = [15,30,46,61,77,92,108,123,139]\r\n",
        "\r\n",
        "  plt.figure()\r\n",
        "  plt.plot(training_samples, train_maes, label='Train MAE')\r\n",
        "  plt.plot(training_samples, test_maes, label='Test MAE')\r\n",
        "  plt.xlabel('Training_Samples')\r\n",
        "  plt.ylabel('Mean Absolute Error')\r\n",
        "  plt.legend()\r\n",
        "  plt.show()\r\n",
        "\r\n",
        "plot_sample_vs_metrics(model)"
      ],
      "execution_count": 55,
      "outputs": [
        {
          "output_type": "display_data",
          "data": {
            "image/png": "[encoded data removed]",
            "text/plain": [
              "<Figure size 432x288 with 1 Axes>"
            ]
          },
          "metadata": {
            "tags": [],
            "needs_background": "light"
          }
        }
      ]
    },
    {
      "cell_type": "markdown",
      "metadata": {
        "id": "5fwEqDd4wXcV"
      },
      "source": [
        "**Comparing Activation Functions**"
      ]
    },
    {
      "cell_type": "code",
      "metadata": {
        "id": "JNRGJAtnxk9m"
      },
      "source": [
        "%tensorflow_version 2.x\r\n",
        "import tensorflow as tf\r\n",
        "from keras.models import Sequential\r\n",
        "from keras.layers import Dense\r\n",
        "import pandas as pd"
      ],
      "execution_count": 56,
      "outputs": []
    },
    {
      "cell_type": "code",
      "metadata": {
        "colab": {
          "base_uri": "https://localhost:8080/",
          "height": 269
        },
        "id": "1zABZgqIwrbD",
        "outputId": "87ec16fa-cc2f-4a3c-da0e-631d12987776"
      },
      "source": [
        "def create_model_act_func(act_func):\r\n",
        "  \"\"\"creates keras Sequential model for given activation function - Sigmoid, Relu, tanh, leaky_relu\"\"\"\r\n",
        "\r\n",
        "  model = Sequential()\r\n",
        "  model.add(Dense(250, input_shape=(n_cols,), activation=act_func))\r\n",
        "  model.add(Dense(250, activation=act_func))\r\n",
        "  model.add(Dense(1))\r\n",
        "\r\n",
        "  optimizer = tf.keras.optimizers.RMSprop(learning_rate)\r\n",
        "  model.compile(optimizer=optimizer, loss='mean_squared_error', metrics=['mse', 'mae'])\r\n",
        "\r\n",
        "  return model\r\n",
        "\r\n",
        "activations = ['relu', 'sigmoid', 'tanh']\r\n",
        "\r\n",
        "activation_results = {}\r\n",
        "\r\n",
        "for func in activations:\r\n",
        "  model = create_model_act_func(act_func=func)\r\n",
        "  history = model.fit(train_features, train_labels, validation_data=(test_features, test_labels), epochs=100, batch_size=12, verbose=0)\r\n",
        "\r\n",
        "  activation_results[func] = history\r\n",
        "\r\n",
        "val_loss_per_func = {key: value.history['val_mae'] for key, value in activation_results.items()}\r\n",
        "\r\n",
        "val_loss_curve = pd.DataFrame(val_loss_per_func)\r\n",
        "\r\n",
        "# val_loss_curve.plot(title='Loss per Activation Function')\r\n",
        "plt.figure()\r\n",
        "plt.plot(val_loss_curve['relu'], label='relu')\r\n",
        "plt.plot(val_loss_curve['sigmoid'], label='sigmoid')\r\n",
        "plt.plot(val_loss_curve['tanh'], label='tanh')\r\n",
        "plt.legend()\r\n",
        "plt.show()"
      ],
      "execution_count": 57,
      "outputs": [
        {
          "output_type": "display_data",
          "data": {
            "image/png": "[encoded data removed]",
            "text/plain": [
              "<Figure size 432x288 with 1 Axes>"
            ]
          },
          "metadata": {
            "tags": [],
            "needs_background": "light"
          }
        }
      ]
    },
    {
      "cell_type": "markdown",
      "metadata": {
        "id": "vAwMN2nt-l3y"
      },
      "source": [
        "**HyperParameter Tuning - Using Sklearn RandomizedSearch CV**"
      ]
    },
    {
      "cell_type": "code",
      "metadata": {
        "id": "6L52YUugLOFZ"
      },
      "source": [
        "# def create_model_sk(optimizer='adam', activation='relu'):\r\n",
        "#   \"\"\"Creates a model to be used for HyperParameter Tuning\"\"\"\r\n",
        "\r\n",
        "#   model = Sequential()\r\n",
        "#   model.add(Dense(250, input_shape=(n_cols,), activation=activation))\r\n",
        "#   model.add(Dense(250, activation=activation))\r\n",
        "#   model.add(Dense(1))\r\n",
        "  \r\n",
        "#   model.compile(optimizer=optimizer, loss='mean_squared_error', metrics=['mae', 'mse'])\r\n",
        "\r\n",
        "#   return model\r\n"
      ],
      "execution_count": 58,
      "outputs": []
    },
    {
      "cell_type": "markdown",
      "metadata": {
        "id": "ICuVJtjUOy5I"
      },
      "source": [
        "**Performing Cross_Validation**"
      ]
    },
    {
      "cell_type": "code",
      "metadata": {
        "id": "nGLrq6T0O2oh"
      },
      "source": [
        "# from sklearn.model_selection import cross_val_score\r\n",
        "\r\n",
        "# kfold = cross_val_score(model_1, train_features, train_labels, cv=5)\r\n",
        "# print(kfold)"
      ],
      "execution_count": 59,
      "outputs": []
    },
    {
      "cell_type": "code",
      "metadata": {
        "id": "7P7mPREQSTbk"
      },
      "source": [
        "# from keras.wrappers.scikit_learn import KerasRegressor\r\n",
        "\r\n",
        "# param_dict = {'optimizer' : ['adam', 'sgd']}\r\n",
        "\r\n",
        "# from sklearn.model_selection import RandomizedSearchCV\r\n",
        "# model_1 = KerasRegressor(build_fn=create_model_sk, epochs=50, batch_size=12)\r\n",
        "\r\n",
        "\r\n",
        "# random_search = RandomizedSearchCV(model_1, param_distributions=param_dict, cv=3)\r\n",
        "\r\n",
        "# random_search_result = random_search.fit(train_features, train_labels, callbacks=[EarlyStopping(monitor='mae', patience=3)])\r\n",
        "\r\n",
        "# print('Best MAE:{} using {}'.format(random_search_result.best_score_, random_search_result.best_params_))"
      ],
      "execution_count": 60,
      "outputs": []
    },
    {
      "cell_type": "markdown",
      "metadata": {
        "id": "z7SjfF16hO63"
      },
      "source": [
        "**Plot TestLabels and Predictions**"
      ]
    },
    {
      "cell_type": "code",
      "metadata": {
        "id": "zG_VqLgQNJ1B"
      },
      "source": [
        "# Running this model as last model uses tanh as activation function and throws of Plot of Predictions and Errors\r\n",
        "\r\n",
        "model = tf.keras.models.Sequential()\r\n",
        "model.add(tf.keras.layers.Dense(250, activation='relu', input_shape=(n_cols,)))\r\n",
        "model.add(tf.keras.layers.Dense(250, activation='relu'))\r\n",
        "model.add(tf.keras.layers.Dense(1))\r\n",
        "\r\n",
        "optimizer = tf.keras.optimizers.RMSprop(learning_rate)\r\n",
        "\r\n",
        "# load weights of best_model learned from ModelCheckpoint\r\n",
        "model.load_weights('rr_model.hdf5')\r\n",
        "\r\n",
        "model.compile(optimizer=optimizer, loss='mean_squared_error', metrics=['mse', 'mae'])\r\n",
        "\r\n",
        "score = model.evaluate(test_features, test_labels, verbose=0)"
      ],
      "execution_count": 61,
      "outputs": []
    },
    {
      "cell_type": "code",
      "metadata": {
        "colab": {
          "base_uri": "https://localhost:8080/",
          "height": 279
        },
        "id": "hmq_yDUuSTWr",
        "outputId": "6e4e96d0-bd74-4ebe-d982-db178228166a"
      },
      "source": [
        "test_predictions = model.predict(test_features).flatten()\r\n",
        "\r\n",
        "plt.scatter(test_labels, test_predictions)\r\n",
        "plt.xlabel('True Labels (Price in $)')\r\n",
        "plt.ylabel('Predictions (Price in $)')\r\n",
        "# plt.axis('equal')\r\n",
        "# plt.axis('square')\r\n",
        "plt.xlim([0, plt.xlim()[1]])\r\n",
        "plt.ylim([0, plt.ylim()[1]])\r\n",
        "_ = plt.plot([-100, 400000], [-100, 400000])\r\n",
        "\r\n",
        "\r\n",
        "# a perfect prediction would entail that all these points be on the line"
      ],
      "execution_count": 62,
      "outputs": [
        {
          "output_type": "display_data",
          "data": {
            "image/png": "[encoded data removed]",
            "text/plain": [
              "<Figure size 432x288 with 1 Axes>"
            ]
          },
          "metadata": {
            "tags": [],
            "needs_background": "light"
          }
        }
      ]
    },
    {
      "cell_type": "markdown",
      "metadata": {
        "id": "s_3VlTLGvG1L"
      },
      "source": [
        "**Error Distribution**"
      ]
    },
    {
      "cell_type": "code",
      "metadata": {
        "colab": {
          "base_uri": "https://localhost:8080/",
          "height": 279
        },
        "id": "pg0uFPsfvQYA",
        "outputId": "9f42d9b8-93dc-4fe7-ae92-155d2ca1f726"
      },
      "source": [
        "error = test_predictions - test_labels\r\n",
        "plt.hist(error, bins=20)\r\n",
        "plt.xlabel('Prediction Error (Price in $)')\r\n",
        "plt.show()\r\n",
        "\r\n",
        "# our error is approximately gaussian distributed and it's centered around 0"
      ],
      "execution_count": 63,
      "outputs": [
        {
          "output_type": "display_data",
          "data": {
            "image/png": "[encoded data removed]",
            "text/plain": [
              "<Figure size 432x288 with 1 Axes>"
            ]
          },
          "metadata": {
            "tags": [],
            "needs_background": "light"
          }
        }
      ]
    },
    {
      "cell_type": "markdown",
      "metadata": {
        "id": "5AJvI0XQDvmy"
      },
      "source": [
        "**Comparing Train vs Test results**"
      ]
    },
    {
      "cell_type": "code",
      "metadata": {
        "colab": {
          "base_uri": "https://localhost:8080/"
        },
        "id": "h01AIWt5DYH_",
        "outputId": "d0bd87c1-1e3a-4e87-a091-b97a17d903fe"
      },
      "source": [
        "train_mae = model.evaluate(train_features, train_labels, batch_size=12, verbose=0)\r\n",
        "\r\n",
        "print('Train MAE: {}'.format(train_mae[2]))"
      ],
      "execution_count": 64,
      "outputs": [
        {
          "output_type": "stream",
          "text": [
            "Train MAE: 33156.078125\n"
          ],
          "name": "stdout"
        }
      ]
    },
    {
      "cell_type": "code",
      "metadata": {
        "colab": {
          "base_uri": "https://localhost:8080/"
        },
        "id": "wOZ-tzFQDQL2",
        "outputId": "8deae16f-5b08-4f07-e088-adb5f4cc92f7"
      },
      "source": [
        "test_mae = model.evaluate(test_features, test_labels, batch_size=12, verbose=0)\r\n",
        "print('Test MAE: {}'.format(test_mae[2]))"
      ],
      "execution_count": 65,
      "outputs": [
        {
          "output_type": "stream",
          "text": [
            "Test MAE: 32188.05859375\n"
          ],
          "name": "stdout"
        }
      ]
    },
    {
      "cell_type": "code",
      "metadata": {
        "colab": {
          "base_uri": "https://localhost:8080/"
        },
        "id": "gVQ3uULTVOwo",
        "outputId": "869ff147-e6d5-4e05-c1d4-eb1fbc7f9d36"
      },
      "source": [
        "print('Test RMSE: {:.3f}'.format(np.sqrt(test_mae[1])))\r\n",
        "print('Train RMSE: {:.3f}'.format(np.sqrt(train_mae[1])))"
      ],
      "execution_count": 66,
      "outputs": [
        {
          "output_type": "stream",
          "text": [
            "Test RMSE: 43462.914\n",
            "Train RMSE: 45065.022\n"
          ],
          "name": "stdout"
        }
      ]
    },
    {
      "cell_type": "markdown",
      "metadata": {
        "id": "vENdWQKO2lOF"
      },
      "source": [
        "### Analysis of Sequential Modelling"
      ]
    },
    {
      "cell_type": "markdown",
      "metadata": {
        "id": "_4-2VU3Sx-1p"
      },
      "source": [
        "**Analysis of Sequential Model**\r\n",
        "\r\n",
        "Through our modelling, we achieved a validation mae which is similar to train mae, and on further evaluation both values are actually close. \r\n",
        "\r\n",
        "However, our test_rmse is significantly higher than train_rmse signalling overfitting. To reduce overfitting, here are some remedial measures: \r\n",
        "\r\n",
        "*Remedies:*\r\n",
        "1.   Remove Year and Mileage Feature as they are available in bucketed_form\r\n",
        "2.   Reduce Nodes in Hidden Layer, reduce learning_rate, increase batch_size and reduce epochs.\r\n",
        "3.   Introduce Cross_Features\r\n",
        "4.   Introduce Regularization in the model\r\n"
      ]
    },
    {
      "cell_type": "markdown",
      "metadata": {
        "id": "5pzNiG142ddD"
      },
      "source": [
        "### Cross_Features"
      ]
    },
    {
      "cell_type": "markdown",
      "metadata": {
        "id": "N48t5VE_qcKO"
      },
      "source": [
        "**Cross Products of Features**"
      ]
    },
    {
      "cell_type": "code",
      "metadata": {
        "colab": {
          "base_uri": "https://localhost:8080/"
        },
        "id": "B_lxuZ0zpEcB",
        "outputId": "fa604c25-b62b-46d4-ed45-ab0945808dc4"
      },
      "source": [
        "rr2_train.columns"
      ],
      "execution_count": 67,
      "outputs": [
        {
          "output_type": "execute_result",
          "data": {
            "text/plain": [
              "Index(['Year', 'Mileage', 'Model_Cullinan', 'Model_Dawn', 'Model_Ghost',\n",
              "       'Model_Phantom', 'Seller_Type_Dealer', 'Seller_Type_Individual',\n",
              "       'Year_Binned_2004_2008', 'Year_Binned_2009_2011',\n",
              "       'Year_Binned_2012_2014', 'Year_Binned_2015_2017',\n",
              "       'Year_Binned_2018_2019', 'Year_Binned_2020_2021', 'Mileage_Norm'],\n",
              "      dtype='object')"
            ]
          },
          "metadata": {
            "tags": []
          },
          "execution_count": 67
        }
      ]
    },
    {
      "cell_type": "code",
      "metadata": {
        "id": "U9xc3aKKWYIW"
      },
      "source": [
        "# create function to create_model with feature_layers\r\n",
        "def create_model_cross(my_learning_rate, feature_layer, n_cols):\r\n",
        "  \"\"\"creates a model with feature_layers \"\"\"\r\n",
        "\r\n",
        "  model = Sequential()\r\n",
        "  model.add(feature_layer)\r\n",
        "  model.add(Dense(128,input_shape=(n_cols,), activation='relu'))\r\n",
        "  model.add(Dense(256, activation='relu'))\r\n",
        "  model.add(Dense(1))\r\n",
        "\r\n",
        "  model.compile(optimizer=tf.keras.optimizers.RMSprop(my_learning_rate), loss='mean_squared_error', metrics=[tf.keras.metrics.RootMeanSquaredError()])\r\n",
        "\r\n",
        "  return model\r\n",
        "\r\n",
        "# create function to train_model\r\n",
        "def train_model(model, features, labels, epochs, batch_size):\r\n",
        "  history = model.fit(x=features, y=labels, \r\n",
        "                      batch_size=batch_size, epochs=epochs, \r\n",
        "                      verbose=1, \r\n",
        "                      callbacks=[EarlyStopping(monitor='val_root_mean_squared_error', patience=20)], \r\n",
        "                      validation_split=0.2)\r\n",
        "\r\n",
        "  epochs = history.epoch\r\n",
        "  hist = pd.DataFrame(history.history)\r\n",
        "  train_rmse = hist['root_mean_squared_error']\r\n",
        "  val_rmse = hist['val_root_mean_squared_error']\r\n",
        "\r\n",
        "  return epochs, train_rmse, val_rmse\r\n",
        "\r\n",
        "# create function to plot loss_curve\r\n",
        "def plot_loss_curve(epochs, train_mse, val_mse):\r\n",
        "  plt.plot(epochs, train_rmse, label='Train')\r\n",
        "  plt.plot(epochs, val_rmse, label='Validation')\r\n",
        "  plt.xlabel('Epochs')\r\n",
        "  plt.ylabel('RMSE')\r\n",
        "  plt.legend()\r\n",
        "  plt.show()\r\n"
      ],
      "execution_count": 68,
      "outputs": []
    },
    {
      "cell_type": "markdown",
      "metadata": {
        "id": "C_fiM0ovLNXq"
      },
      "source": [
        "**Year and Mileage as Features- Non Normalized**"
      ]
    },
    {
      "cell_type": "code",
      "metadata": {
        "id": "l9Afqf37zM3W"
      },
      "source": [
        "# create feature_columns from tf.feature_columns\r\n",
        "\r\n",
        "feature_columns = []\r\n",
        "year = tf.feature_column.numeric_column('Year', dtype=tf.int32)\r\n",
        "feature_columns.append(year)\r\n",
        "\r\n",
        "mileage = tf.feature_column.numeric_column('Mileage', dtype=tf.int32)\r\n",
        "feature_columns.append(mileage)\r\n",
        "\r\n",
        "from keras import layers\r\n",
        "feature_layer = layers.DenseFeatures(feature_columns)"
      ],
      "execution_count": 69,
      "outputs": []
    },
    {
      "cell_type": "code",
      "metadata": {
        "id": "DS6MkMxC-qLj",
        "colab": {
          "base_uri": "https://localhost:8080/",
          "height": 1000
        },
        "outputId": "c7ea5261-5c11-4621-db0b-d3bcb5a936be"
      },
      "source": [
        "features_dict = {'Year': train_features[:,0], 'Mileage': train_features[:,1]}\r\n",
        "test_features_dict = {'Year': test_features[:,0], 'Mileage':test_features[:,1]}\r\n",
        "\r\n",
        "n_cols = len(features_dict)\r\n",
        "model = create_model_cross(my_learning_rate=0.01, feature_layer=feature_layer, n_cols=n_cols)\r\n",
        "\r\n",
        "epochs, train_rmse, val_rmse = train_model(model, features_dict, train_labels, epochs=100, batch_size=12)\r\n",
        "\r\n",
        "plot_loss_curve(epochs, train_rmse, val_rmse)"
      ],
      "execution_count": 70,
      "outputs": [
        {
          "output_type": "stream",
          "text": [
            "Epoch 1/100\n",
            "WARNING:tensorflow:Layers in a Sequential model should only have a single input tensor, but we receive a <class 'dict'> input: {'Year': <tf.Tensor 'ExpandDims_1:0' shape=(None, 1) dtype=float32>, 'Mileage': <tf.Tensor 'ExpandDims:0' shape=(None, 1) dtype=float32>}\n",
            "Consider rewriting this model with the Functional API.\n",
            "WARNING:tensorflow:Layers in a Sequential model should only have a single input tensor, but we receive a <class 'dict'> input: {'Year': <tf.Tensor 'ExpandDims_1:0' shape=(None, 1) dtype=float32>, 'Mileage': <tf.Tensor 'ExpandDims:0' shape=(None, 1) dtype=float32>}\n",
            "Consider rewriting this model with the Functional API.\n",
            " 1/11 [=>............................] - ETA: 5s - loss: 25471492096.0000 - root_mean_squared_error: 159597.9062WARNING:tensorflow:Layers in a Sequential model should only have a single input tensor, but we receive a <class 'dict'> input: {'Year': <tf.Tensor 'ExpandDims_1:0' shape=(None, 1) dtype=float32>, 'Mileage': <tf.Tensor 'ExpandDims:0' shape=(None, 1) dtype=float32>}\n",
            "Consider rewriting this model with the Functional API.\n",
            "11/11 [==============================] - 1s 23ms/step - loss: 26619411626.6667 - root_mean_squared_error: 163109.3867 - val_loss: 25388634112.0000 - val_root_mean_squared_error: 159338.1094\n",
            "Epoch 2/100\n",
            "11/11 [==============================] - 0s 7ms/step - loss: 19046820864.0000 - root_mean_squared_error: 137929.7676 - val_loss: 21349292032.0000 - val_root_mean_squared_error: 146113.9688\n",
            "Epoch 3/100\n",
            "11/11 [==============================] - 0s 7ms/step - loss: 11192491520.0000 - root_mean_squared_error: 105366.5632 - val_loss: 4436379136.0000 - val_root_mean_squared_error: 66606.1484\n",
            "Epoch 4/100\n",
            "11/11 [==============================] - 0s 7ms/step - loss: 3442008085.3333 - root_mean_squared_error: 58522.1462 - val_loss: 2823372544.0000 - val_root_mean_squared_error: 53135.4180\n",
            "Epoch 5/100\n",
            "11/11 [==============================] - 0s 8ms/step - loss: 2379936714.6667 - root_mean_squared_error: 48589.6891 - val_loss: 4376983040.0000 - val_root_mean_squared_error: 66158.7734\n",
            "Epoch 6/100\n",
            "11/11 [==============================] - 0s 7ms/step - loss: 2601527306.6667 - root_mean_squared_error: 50530.8278 - val_loss: 1978667136.0000 - val_root_mean_squared_error: 44482.2148\n",
            "Epoch 7/100\n",
            "11/11 [==============================] - 0s 7ms/step - loss: 2870583040.0000 - root_mean_squared_error: 53308.5192 - val_loss: 2864859392.0000 - val_root_mean_squared_error: 53524.3828\n",
            "Epoch 8/100\n",
            "11/11 [==============================] - 0s 7ms/step - loss: 2519932970.6667 - root_mean_squared_error: 50154.0472 - val_loss: 6009455616.0000 - val_root_mean_squared_error: 77520.6797\n",
            "Epoch 9/100\n",
            "11/11 [==============================] - 0s 6ms/step - loss: 3388965888.0000 - root_mean_squared_error: 57679.7471 - val_loss: 2794424064.0000 - val_root_mean_squared_error: 52862.3125\n",
            "Epoch 10/100\n",
            "11/11 [==============================] - 0s 7ms/step - loss: 3016107306.6667 - root_mean_squared_error: 54888.7767 - val_loss: 2692840192.0000 - val_root_mean_squared_error: 51892.5820\n",
            "Epoch 11/100\n",
            "11/11 [==============================] - 0s 7ms/step - loss: 2719839573.3333 - root_mean_squared_error: 52063.8434 - val_loss: 2190306816.0000 - val_root_mean_squared_error: 46800.7148\n",
            "Epoch 12/100\n",
            "11/11 [==============================] - 0s 7ms/step - loss: 2492654117.3333 - root_mean_squared_error: 49413.5260 - val_loss: 2109076096.0000 - val_root_mean_squared_error: 45924.6797\n",
            "Epoch 13/100\n",
            "11/11 [==============================] - 0s 7ms/step - loss: 3224187925.3333 - root_mean_squared_error: 56715.0628 - val_loss: 3494098176.0000 - val_root_mean_squared_error: 59110.8984\n",
            "Epoch 14/100\n",
            "11/11 [==============================] - 0s 6ms/step - loss: 2618161002.6667 - root_mean_squared_error: 51083.8734 - val_loss: 2715748864.0000 - val_root_mean_squared_error: 52112.8477\n",
            "Epoch 15/100\n",
            "11/11 [==============================] - 0s 7ms/step - loss: 2474784757.3333 - root_mean_squared_error: 49694.4492 - val_loss: 3924801792.0000 - val_root_mean_squared_error: 62648.2383\n",
            "Epoch 16/100\n",
            "11/11 [==============================] - 0s 7ms/step - loss: 2511462698.6667 - root_mean_squared_error: 50091.0208 - val_loss: 1895675392.0000 - val_root_mean_squared_error: 43539.3555\n",
            "Epoch 17/100\n",
            "11/11 [==============================] - 0s 7ms/step - loss: 2098018565.3333 - root_mean_squared_error: 45044.7583 - val_loss: 4592405504.0000 - val_root_mean_squared_error: 67767.2891\n",
            "Epoch 18/100\n",
            "11/11 [==============================] - 0s 7ms/step - loss: 3353750656.0000 - root_mean_squared_error: 57633.9215 - val_loss: 2697591808.0000 - val_root_mean_squared_error: 51938.3477\n",
            "Epoch 19/100\n",
            "11/11 [==============================] - 0s 8ms/step - loss: 2510242154.6667 - root_mean_squared_error: 49988.8818 - val_loss: 2874498304.0000 - val_root_mean_squared_error: 53614.3477\n",
            "Epoch 20/100\n",
            "11/11 [==============================] - 0s 7ms/step - loss: 2199882581.3333 - root_mean_squared_error: 46720.6781 - val_loss: 3069704704.0000 - val_root_mean_squared_error: 55404.9141\n",
            "Epoch 21/100\n",
            "11/11 [==============================] - 0s 7ms/step - loss: 3025930517.3333 - root_mean_squared_error: 54872.1432 - val_loss: 1847806208.0000 - val_root_mean_squared_error: 42986.1172\n",
            "Epoch 22/100\n",
            "11/11 [==============================] - 0s 7ms/step - loss: 2491933418.6667 - root_mean_squared_error: 49816.4717 - val_loss: 7093116416.0000 - val_root_mean_squared_error: 84220.6406\n",
            "Epoch 23/100\n",
            "11/11 [==============================] - 0s 8ms/step - loss: 3933771285.3333 - root_mean_squared_error: 62447.4346 - val_loss: 2052503296.0000 - val_root_mean_squared_error: 45304.5625\n",
            "Epoch 24/100\n",
            "11/11 [==============================] - 0s 7ms/step - loss: 2508826874.6667 - root_mean_squared_error: 49754.3107 - val_loss: 2157455616.0000 - val_root_mean_squared_error: 46448.4180\n",
            "Epoch 25/100\n",
            "11/11 [==============================] - 0s 7ms/step - loss: 2740290976.0000 - root_mean_squared_error: 52193.3265 - val_loss: 3152362752.0000 - val_root_mean_squared_error: 56145.9062\n",
            "Epoch 26/100\n",
            "11/11 [==============================] - 0s 7ms/step - loss: 2123571562.6667 - root_mean_squared_error: 45771.7705 - val_loss: 2558351872.0000 - val_root_mean_squared_error: 50580.1523\n",
            "Epoch 27/100\n",
            "11/11 [==============================] - 0s 6ms/step - loss: 2649403221.3333 - root_mean_squared_error: 51391.0739 - val_loss: 1975662208.0000 - val_root_mean_squared_error: 44448.4219\n",
            "Epoch 28/100\n",
            "11/11 [==============================] - 0s 7ms/step - loss: 2135107626.6667 - root_mean_squared_error: 45478.2746 - val_loss: 2272431360.0000 - val_root_mean_squared_error: 47670.0273\n",
            "Epoch 29/100\n",
            "11/11 [==============================] - 0s 6ms/step - loss: 2187177109.3333 - root_mean_squared_error: 46497.5921 - val_loss: 2785184256.0000 - val_root_mean_squared_error: 52774.8438\n",
            "Epoch 30/100\n",
            "11/11 [==============================] - 0s 6ms/step - loss: 2742377301.3333 - root_mean_squared_error: 52239.1670 - val_loss: 2874053632.0000 - val_root_mean_squared_error: 53610.1992\n",
            "Epoch 31/100\n",
            "11/11 [==============================] - 0s 6ms/step - loss: 2578059328.0000 - root_mean_squared_error: 50704.9577 - val_loss: 6718281728.0000 - val_root_mean_squared_error: 81965.1250\n",
            "Epoch 32/100\n",
            "11/11 [==============================] - 0s 7ms/step - loss: 3595981930.6667 - root_mean_squared_error: 59323.4932 - val_loss: 2173008384.0000 - val_root_mean_squared_error: 46615.5391\n",
            "Epoch 33/100\n",
            "11/11 [==============================] - 0s 7ms/step - loss: 2158125088.0000 - root_mean_squared_error: 46215.3480 - val_loss: 1853607040.0000 - val_root_mean_squared_error: 43053.5352\n",
            "Epoch 34/100\n",
            "11/11 [==============================] - 0s 7ms/step - loss: 2802957184.0000 - root_mean_squared_error: 52876.0830 - val_loss: 1952025216.0000 - val_root_mean_squared_error: 44181.7305\n",
            "Epoch 35/100\n",
            "11/11 [==============================] - 0s 6ms/step - loss: 3064043690.6667 - root_mean_squared_error: 55114.0827 - val_loss: 2067685376.0000 - val_root_mean_squared_error: 45471.8086\n",
            "Epoch 36/100\n",
            "11/11 [==============================] - 0s 7ms/step - loss: 1879446426.6667 - root_mean_squared_error: 42765.2100 - val_loss: 2472451840.0000 - val_root_mean_squared_error: 49723.7539\n",
            "Epoch 37/100\n",
            "11/11 [==============================] - 0s 7ms/step - loss: 2537842645.3333 - root_mean_squared_error: 50326.0999 - val_loss: 2016814848.0000 - val_root_mean_squared_error: 44908.9609\n",
            "Epoch 38/100\n",
            "11/11 [==============================] - 0s 7ms/step - loss: 2710422325.3333 - root_mean_squared_error: 51920.6338 - val_loss: 2215946496.0000 - val_root_mean_squared_error: 47073.8398\n",
            "Epoch 39/100\n",
            "11/11 [==============================] - 0s 7ms/step - loss: 2630190741.3333 - root_mean_squared_error: 51202.0007 - val_loss: 2540838144.0000 - val_root_mean_squared_error: 50406.7266\n",
            "Epoch 40/100\n",
            "11/11 [==============================] - 0s 7ms/step - loss: 3201211498.6667 - root_mean_squared_error: 56437.1178 - val_loss: 1931086720.0000 - val_root_mean_squared_error: 43944.1328\n",
            "Epoch 41/100\n",
            "11/11 [==============================] - 0s 7ms/step - loss: 2589971336.0000 - root_mean_squared_error: 50016.3630 - val_loss: 2266880000.0000 - val_root_mean_squared_error: 47611.7617\n"
          ],
          "name": "stdout"
        },
        {
          "output_type": "display_data",
          "data": {
            "image/png": "[encoded data removed]",
            "text/plain": [
              "<Figure size 432x288 with 1 Axes>"
            ]
          },
          "metadata": {
            "tags": [],
            "needs_background": "light"
          }
        }
      ]
    },
    {
      "cell_type": "code",
      "metadata": {
        "colab": {
          "base_uri": "https://localhost:8080/"
        },
        "id": "j3If_aWKzDjj",
        "outputId": "5ead698b-de64-4e36-d0b4-0f745c129507"
      },
      "source": [
        "batch_size = 12\r\n",
        "test_rmse_Year_Mileage = model.evaluate(test_features_dict, test_labels, batch_size=batch_size, verbose=0)[1]\r\n",
        "print('Test RMSE with Year and Mileage as Features: {:.3f}'.format(test_rmse_Year_Mileage))"
      ],
      "execution_count": 71,
      "outputs": [
        {
          "output_type": "stream",
          "text": [
            "Test RMSE with Year and Mileage as Features: 45207.551\n"
          ],
          "name": "stdout"
        }
      ]
    },
    {
      "cell_type": "markdown",
      "metadata": {
        "id": "xJMuTsuP2Enj"
      },
      "source": [
        "**Use Feature Cross with Year_Binned and Mileage_Norm**"
      ]
    },
    {
      "cell_type": "code",
      "metadata": {
        "id": "wcykMaxl4ncN"
      },
      "source": [
        "# boundaries = [2004, 2008, 2011, 2014, 2017, 2020]"
      ],
      "execution_count": 72,
      "outputs": []
    },
    {
      "cell_type": "code",
      "metadata": {
        "id": "KsqpjTmI5VLR"
      },
      "source": [
        "rr3 = rr2_train.copy()\r\n",
        "\r\n",
        "rr3['2015_2017_Mileage_Norm'] = rr3['Year_Binned_2015_2017']*rr3['Mileage_Norm']\r\n",
        "rr3['2004_2008_Mileage_Norm'] = rr3['Year_Binned_2004_2008']*rr3['Mileage_Norm']\r\n",
        "rr3['2009_2011_Mileage_Norm'] = rr3['Year_Binned_2009_2011']*rr3['Mileage_Norm']\r\n",
        "rr3['2012_2014_Mileage_Norm'] = rr3['Year_Binned_2012_2014']*rr3['Mileage_Norm']\r\n",
        "rr3['2018_2019_Mileage_Norm'] = rr3['Year_Binned_2018_2019']*rr3['Mileage_Norm']\r\n",
        "rr3['2020_2021_Mileage_Norm'] = rr3['Year_Binned_2020_2021']*rr3['Mileage_Norm']"
      ],
      "execution_count": 73,
      "outputs": []
    },
    {
      "cell_type": "code",
      "metadata": {
        "id": "Lt_Iz63Q60se"
      },
      "source": [
        "rr3_test = rr2_test.copy()\r\n",
        "\r\n",
        "rr3_test['2015_2017_Mileage_Norm'] = rr3_test['Year_Binned_2015_2017']*rr3_test['Mileage_Norm']\r\n",
        "rr3_test['2004_2008_Mileage_Norm'] = rr3_test['Year_Binned_2004_2008']*rr3_test['Mileage_Norm']\r\n",
        "rr3_test['2009_2011_Mileage_Norm'] = rr3_test['Year_Binned_2009_2011']*rr3_test['Mileage_Norm']\r\n",
        "rr3_test['2012_2014_Mileage_Norm'] = rr3_test['Year_Binned_2012_2014']*rr3_test['Mileage_Norm']\r\n",
        "rr3_test['2018_2019_Mileage_Norm'] = rr3_test['Year_Binned_2018_2019']*rr3_test['Mileage_Norm']\r\n",
        "rr3_test['2020_2021_Mileage_Norm'] = rr3_test['Year_Binned_2020_2021']*rr3_test['Mileage_Norm']"
      ],
      "execution_count": 74,
      "outputs": []
    },
    {
      "cell_type": "code",
      "metadata": {
        "id": "K4GHE_BBwKAU"
      },
      "source": [
        "rr3_test['04_08_MilNorm_Cullinan'] = rr3_test['2004_2008_Mileage_Norm']*rr3_test['Model_Cullinan'] \r\n",
        "rr3_test['09_11_MilNorm_Cullinan'] = rr3_test['2009_2011_Mileage_Norm']*rr3_test['Model_Cullinan']\r\n",
        "rr3_test['12_14_MilNorm_Cullinan'] = rr3_test['2012_2014_Mileage_Norm']*rr3_test['Model_Cullinan']\r\n",
        "rr3_test['15_17_MilNorm_Cullinan'] = rr3_test['2015_2017_Mileage_Norm']*rr3_test['Model_Cullinan']\r\n",
        "rr3_test['18_19_MilNorm_Cullinan'] = rr3_test['2018_2019_Mileage_Norm']*rr3_test['Model_Cullinan']\r\n",
        "rr3_test['20_21_MilNorm_Cullinan'] = rr3_test['2020_2021_Mileage_Norm']*rr3_test['Model_Cullinan']\r\n",
        "\r\n",
        "rr3_test['04_08_MilNorm_Ghost'] = rr3_test['2004_2008_Mileage_Norm']*rr3_test['Model_Ghost'] \r\n",
        "rr3_test['09_11_MilNorm_Ghost'] = rr3_test['2009_2011_Mileage_Norm']*rr3_test['Model_Ghost']\r\n",
        "rr3_test['12_14_MilNorm_Ghost'] = rr3_test['2012_2014_Mileage_Norm']*rr3_test['Model_Ghost']\r\n",
        "rr3_test['15_17_MilNorm_Ghost'] = rr3_test['2015_2017_Mileage_Norm']*rr3_test['Model_Ghost']\r\n",
        "rr3_test['18_19_MilNorm_Ghost'] = rr3_test['2018_2019_Mileage_Norm']*rr3_test['Model_Ghost']\r\n",
        "rr3_test['20_21_MilNorm_Ghost'] = rr3_test['2020_2021_Mileage_Norm']*rr3_test['Model_Ghost']\r\n",
        "\r\n",
        "rr3_test['04_08_MilNorm_Dawn'] = rr3_test['2004_2008_Mileage_Norm']*rr3_test['Model_Dawn'] \r\n",
        "rr3_test['09_11_MilNorm_Dawn'] = rr3_test['2009_2011_Mileage_Norm']*rr3_test['Model_Dawn']\r\n",
        "rr3_test['12_14_MilNorm_Dawn'] = rr3_test['2012_2014_Mileage_Norm']*rr3_test['Model_Dawn']\r\n",
        "rr3_test['15_17_MilNorm_Dawn'] = rr3_test['2015_2017_Mileage_Norm']*rr3_test['Model_Dawn']\r\n",
        "rr3_test['18_19_MilNorm_Dawn'] = rr3_test['2018_2019_Mileage_Norm']*rr3_test['Model_Dawn']\r\n",
        "rr3_test['20_21_MilNorm_Dawn'] = rr3_test['2020_2021_Mileage_Norm']*rr3_test['Model_Dawn']\r\n",
        "\r\n",
        "rr3_test['04_08_MilNorm_Phantom'] = rr3_test['2004_2008_Mileage_Norm']*rr3_test['Model_Phantom'] \r\n",
        "rr3_test['09_11_MilNorm_Phantom'] = rr3_test['2009_2011_Mileage_Norm']*rr3_test['Model_Phantom']\r\n",
        "rr3_test['12_14_MilNorm_Phantom'] = rr3_test['2012_2014_Mileage_Norm']*rr3_test['Model_Phantom']\r\n",
        "rr3_test['15_17_MilNorm_Phantom'] = rr3_test['2015_2017_Mileage_Norm']*rr3_test['Model_Phantom']\r\n",
        "rr3_test['18_19_MilNorm_Phantom'] = rr3_test['2018_2019_Mileage_Norm']*rr3_test['Model_Phantom']\r\n",
        "rr3_test['20_21_MilNorm_Phantom'] = rr3_test['2020_2021_Mileage_Norm']*rr3_test['Model_Phantom']"
      ],
      "execution_count": 75,
      "outputs": []
    },
    {
      "cell_type": "code",
      "metadata": {
        "colab": {
          "base_uri": "https://localhost:8080/"
        },
        "id": "PI6Dc9goxJQJ",
        "outputId": "6cefc7b3-e6d3-4af2-c9db-141f15a1fa3b"
      },
      "source": [
        "rr3_test.shape"
      ],
      "execution_count": 76,
      "outputs": [
        {
          "output_type": "execute_result",
          "data": {
            "text/plain": [
              "(51, 45)"
            ]
          },
          "metadata": {
            "tags": []
          },
          "execution_count": 76
        }
      ]
    },
    {
      "cell_type": "code",
      "metadata": {
        "id": "iOCGUMvSAun_"
      },
      "source": [
        "# create feature_columns from tf.feature_columns\r\n",
        "\r\n",
        "feature_columns = []\r\n",
        "Mileage2015_17 = tf.feature_column.numeric_column('2015_2017_Mileage_Norm')\r\n",
        "feature_columns.append(Mileage2015_17)\r\n",
        "\r\n",
        "Mileage2004_08 = tf.feature_column.numeric_column('2004_2008_Mileage_Norm')\r\n",
        "feature_columns.append(Mileage2004_08)\r\n",
        "\r\n",
        "Mileage2009_11 = tf.feature_column.numeric_column('2009_2011_Mileage_Norm')\r\n",
        "feature_columns.append(Mileage2009_11)\r\n",
        "\r\n",
        "Mileage2012_14 = tf.feature_column.numeric_column('2012_2014_Mileage_Norm')\r\n",
        "feature_columns.append(Mileage2012_14)\r\n",
        "\r\n",
        "Mileage2018_19 = tf.feature_column.numeric_column('2018_2019_Mileage_Norm')\r\n",
        "feature_columns.append(Mileage2018_19)\r\n",
        "\r\n",
        "Mileage2020_21 = tf.feature_column.numeric_column('2020_2021_Mileage_Norm')\r\n",
        "feature_columns.append(Mileage2020_21)\r\n",
        "\r\n",
        "from keras import layers\r\n",
        "feature_layer = layers.DenseFeatures(feature_columns)"
      ],
      "execution_count": 77,
      "outputs": []
    },
    {
      "cell_type": "code",
      "metadata": {
        "id": "PDtbIA1TDGB8"
      },
      "source": [
        "# rr3.values[:, 15:21]"
      ],
      "execution_count": 78,
      "outputs": []
    },
    {
      "cell_type": "code",
      "metadata": {
        "id": "4wvMVGV4DnmO"
      },
      "source": [
        "# rr3.iloc[:, 16].values"
      ],
      "execution_count": 79,
      "outputs": []
    },
    {
      "cell_type": "code",
      "metadata": {
        "colab": {
          "base_uri": "https://localhost:8080/",
          "height": 1000
        },
        "id": "U94qZAusCk0M",
        "outputId": "4e8775f6-533b-4153-f5a9-0744c847f634"
      },
      "source": [
        "epochs = 100\r\n",
        "learning_rate = 0.01\r\n",
        "batch_size = 12\r\n",
        "\r\n",
        "\r\n",
        "features_dict = {\r\n",
        "    '2004_2008_Mileage_Norm' : rr3.iloc[:,16].values,\r\n",
        "    '2009_2011_Mileage_Norm' : rr3.iloc[:,17].values,\r\n",
        "    '2012_2014_Mileage_Norm' : rr3.iloc[:,18].values,\r\n",
        "    '2015_2017_Mileage_Norm' : rr3.iloc[:,15].values,\r\n",
        "    '2018_2019_Mileage_Norm' : rr3.iloc[:,19].values,\r\n",
        "    '2020_2021_Mileage_Norm' : rr3.iloc[:,20].values\r\n",
        "}\r\n",
        "\r\n",
        "test_features_dict = {\r\n",
        "    '2004_2008_Mileage_Norm' : rr3_test.iloc[:,16].values,\r\n",
        "    '2009_2011_Mileage_Norm' : rr3_test.iloc[:,17].values,\r\n",
        "    '2012_2014_Mileage_Norm' : rr3_test.iloc[:,18].values,\r\n",
        "    '2015_2017_Mileage_Norm' : rr3_test.iloc[:,15].values,\r\n",
        "    '2018_2019_Mileage_Norm' : rr3_test.iloc[:,19].values,\r\n",
        "    '2020_2021_Mileage_Norm' : rr3_test.iloc[:,20].values\r\n",
        "}\r\n",
        "\r\n",
        "n_cols = len(features_dict)\r\n",
        "\r\n",
        "model = create_model_cross(0.01, feature_layer, n_cols=n_cols)\r\n",
        "\r\n",
        "epochs, train_rmse, val_rmse = train_model(model, features_dict, train_labels, epochs=epochs, batch_size=batch_size)\r\n",
        "\r\n",
        "plot_loss_curve(epochs, train_rmse, val_rmse)"
      ],
      "execution_count": 80,
      "outputs": [
        {
          "output_type": "stream",
          "text": [
            "Epoch 1/100\n",
            "WARNING:tensorflow:Layers in a Sequential model should only have a single input tensor, but we receive a <class 'dict'> input: {'2004_2008_Mileage_Norm': <tf.Tensor 'ExpandDims:0' shape=(None, 1) dtype=float32>, '2009_2011_Mileage_Norm': <tf.Tensor 'ExpandDims_1:0' shape=(None, 1) dtype=float32>, '2012_2014_Mileage_Norm': <tf.Tensor 'ExpandDims_2:0' shape=(None, 1) dtype=float32>, '2015_2017_Mileage_Norm': <tf.Tensor 'ExpandDims_3:0' shape=(None, 1) dtype=float32>, '2018_2019_Mileage_Norm': <tf.Tensor 'ExpandDims_4:0' shape=(None, 1) dtype=float32>, '2020_2021_Mileage_Norm': <tf.Tensor 'ExpandDims_5:0' shape=(None, 1) dtype=float32>}\n",
            "Consider rewriting this model with the Functional API.\n",
            "WARNING:tensorflow:Layers in a Sequential model should only have a single input tensor, but we receive a <class 'dict'> input: {'2004_2008_Mileage_Norm': <tf.Tensor 'ExpandDims:0' shape=(None, 1) dtype=float32>, '2009_2011_Mileage_Norm': <tf.Tensor 'ExpandDims_1:0' shape=(None, 1) dtype=float32>, '2012_2014_Mileage_Norm': <tf.Tensor 'ExpandDims_2:0' shape=(None, 1) dtype=float32>, '2015_2017_Mileage_Norm': <tf.Tensor 'ExpandDims_3:0' shape=(None, 1) dtype=float32>, '2018_2019_Mileage_Norm': <tf.Tensor 'ExpandDims_4:0' shape=(None, 1) dtype=float32>, '2020_2021_Mileage_Norm': <tf.Tensor 'ExpandDims_5:0' shape=(None, 1) dtype=float32>}\n",
            "Consider rewriting this model with the Functional API.\n",
            " 1/11 [=>............................] - ETA: 5s - loss: 22240745472.0000 - root_mean_squared_error: 149133.3125WARNING:tensorflow:Layers in a Sequential model should only have a single input tensor, but we receive a <class 'dict'> input: {'2004_2008_Mileage_Norm': <tf.Tensor 'ExpandDims:0' shape=(None, 1) dtype=float32>, '2009_2011_Mileage_Norm': <tf.Tensor 'ExpandDims_1:0' shape=(None, 1) dtype=float32>, '2012_2014_Mileage_Norm': <tf.Tensor 'ExpandDims_2:0' shape=(None, 1) dtype=float32>, '2015_2017_Mileage_Norm': <tf.Tensor 'ExpandDims_3:0' shape=(None, 1) dtype=float32>, '2018_2019_Mileage_Norm': <tf.Tensor 'ExpandDims_4:0' shape=(None, 1) dtype=float32>, '2020_2021_Mileage_Norm': <tf.Tensor 'ExpandDims_5:0' shape=(None, 1) dtype=float32>}\n",
            "Consider rewriting this model with the Functional API.\n",
            "11/11 [==============================] - 1s 27ms/step - loss: 30152106666.6667 - root_mean_squared_error: 173462.3190 - val_loss: 31802900480.0000 - val_root_mean_squared_error: 178333.6719\n",
            "Epoch 2/100\n",
            "11/11 [==============================] - 0s 8ms/step - loss: 31903020714.6667 - root_mean_squared_error: 178300.8138 - val_loss: 31157256192.0000 - val_root_mean_squared_error: 176514.1875\n",
            "Epoch 3/100\n",
            "11/11 [==============================] - 0s 7ms/step - loss: 28896926378.6667 - root_mean_squared_error: 169463.6393 - val_loss: 30134874112.0000 - val_root_mean_squared_error: 173593.9844\n",
            "Epoch 4/100\n",
            "11/11 [==============================] - 0s 7ms/step - loss: 32179089920.0000 - root_mean_squared_error: 179038.0169 - val_loss: 28614586368.0000 - val_root_mean_squared_error: 169158.4688\n",
            "Epoch 5/100\n",
            "11/11 [==============================] - 0s 7ms/step - loss: 30462140586.6667 - root_mean_squared_error: 174187.1315 - val_loss: 26670929920.0000 - val_root_mean_squared_error: 163312.3750\n",
            "Epoch 6/100\n",
            "11/11 [==============================] - 0s 7ms/step - loss: 25734216362.6667 - root_mean_squared_error: 160133.6576 - val_loss: 24303310848.0000 - val_root_mean_squared_error: 155895.1875\n",
            "Epoch 7/100\n",
            "11/11 [==============================] - 0s 8ms/step - loss: 21274156544.0000 - root_mean_squared_error: 145526.9707 - val_loss: 21624379392.0000 - val_root_mean_squared_error: 147052.2969\n",
            "Epoch 8/100\n",
            "11/11 [==============================] - 0s 7ms/step - loss: 21755723946.6667 - root_mean_squared_error: 147295.1257 - val_loss: 18784321536.0000 - val_root_mean_squared_error: 137055.9062\n",
            "Epoch 9/100\n",
            "11/11 [==============================] - 0s 7ms/step - loss: 16056690432.0000 - root_mean_squared_error: 126693.2057 - val_loss: 15536969728.0000 - val_root_mean_squared_error: 124647.3828\n",
            "Epoch 10/100\n",
            "11/11 [==============================] - 0s 7ms/step - loss: 13040308565.3333 - root_mean_squared_error: 114037.8405 - val_loss: 12594716672.0000 - val_root_mean_squared_error: 112226.1875\n",
            "Epoch 11/100\n",
            "11/11 [==============================] - 0s 7ms/step - loss: 12282620672.0000 - root_mean_squared_error: 110728.0527 - val_loss: 9879880704.0000 - val_root_mean_squared_error: 99397.5859\n",
            "Epoch 12/100\n",
            "11/11 [==============================] - 0s 7ms/step - loss: 10043019605.3333 - root_mean_squared_error: 99933.0456 - val_loss: 7239022592.0000 - val_root_mean_squared_error: 85082.4453\n",
            "Epoch 13/100\n",
            "11/11 [==============================] - 0s 7ms/step - loss: 7244813696.0000 - root_mean_squared_error: 84934.7760 - val_loss: 5352636416.0000 - val_root_mean_squared_error: 73161.7188\n",
            "Epoch 14/100\n",
            "11/11 [==============================] - 0s 8ms/step - loss: 6430811818.6667 - root_mean_squared_error: 79403.7161 - val_loss: 3991581184.0000 - val_root_mean_squared_error: 63178.9609\n",
            "Epoch 15/100\n",
            "11/11 [==============================] - 0s 9ms/step - loss: 4399110421.3333 - root_mean_squared_error: 66206.0794 - val_loss: 3119625216.0000 - val_root_mean_squared_error: 55853.6055\n",
            "Epoch 16/100\n",
            "11/11 [==============================] - 0s 7ms/step - loss: 4303872533.3333 - root_mean_squared_error: 65123.6169 - val_loss: 2698016768.0000 - val_root_mean_squared_error: 51942.4375\n",
            "Epoch 17/100\n",
            "11/11 [==============================] - 0s 7ms/step - loss: 2985407658.6667 - root_mean_squared_error: 54454.8285 - val_loss: 2358828288.0000 - val_root_mean_squared_error: 48567.7695\n",
            "Epoch 18/100\n",
            "11/11 [==============================] - 0s 7ms/step - loss: 2929743402.6667 - root_mean_squared_error: 53989.8828 - val_loss: 2071719424.0000 - val_root_mean_squared_error: 45516.1445\n",
            "Epoch 19/100\n",
            "11/11 [==============================] - 0s 7ms/step - loss: 3054647317.3333 - root_mean_squared_error: 54565.8877 - val_loss: 1881412224.0000 - val_root_mean_squared_error: 43375.2500\n",
            "Epoch 20/100\n",
            "11/11 [==============================] - 0s 8ms/step - loss: 1944673301.3333 - root_mean_squared_error: 43982.6536 - val_loss: 1733118336.0000 - val_root_mean_squared_error: 41630.7383\n",
            "Epoch 21/100\n",
            "11/11 [==============================] - 0s 8ms/step - loss: 2465468394.6667 - root_mean_squared_error: 49567.3903 - val_loss: 1625217792.0000 - val_root_mean_squared_error: 40313.9883\n",
            "Epoch 22/100\n",
            "11/11 [==============================] - 0s 8ms/step - loss: 2448948458.6667 - root_mean_squared_error: 49285.4141 - val_loss: 1522511232.0000 - val_root_mean_squared_error: 39019.3711\n",
            "Epoch 23/100\n",
            "11/11 [==============================] - 0s 8ms/step - loss: 2478774496.0000 - root_mean_squared_error: 49403.3551 - val_loss: 1462320128.0000 - val_root_mean_squared_error: 38240.2930\n",
            "Epoch 24/100\n",
            "11/11 [==============================] - 0s 7ms/step - loss: 1767979168.0000 - root_mean_squared_error: 41934.8040 - val_loss: 1404428672.0000 - val_root_mean_squared_error: 37475.7070\n",
            "Epoch 25/100\n",
            "11/11 [==============================] - 0s 7ms/step - loss: 1839334053.3333 - root_mean_squared_error: 42393.0723 - val_loss: 1375319808.0000 - val_root_mean_squared_error: 37085.3047\n",
            "Epoch 26/100\n",
            "11/11 [==============================] - 0s 7ms/step - loss: 1658549130.6667 - root_mean_squared_error: 40575.7240 - val_loss: 1312079104.0000 - val_root_mean_squared_error: 36222.6328\n",
            "Epoch 27/100\n",
            "11/11 [==============================] - 0s 7ms/step - loss: 1933436074.6667 - root_mean_squared_error: 43893.4564 - val_loss: 1271256064.0000 - val_root_mean_squared_error: 35654.6797\n",
            "Epoch 28/100\n",
            "11/11 [==============================] - 0s 6ms/step - loss: 1777054005.3333 - root_mean_squared_error: 42071.3757 - val_loss: 1274366848.0000 - val_root_mean_squared_error: 35698.2734\n",
            "Epoch 29/100\n",
            "11/11 [==============================] - 0s 7ms/step - loss: 1400982394.6667 - root_mean_squared_error: 37198.2249 - val_loss: 1208881280.0000 - val_root_mean_squared_error: 34768.9688\n",
            "Epoch 30/100\n",
            "11/11 [==============================] - 0s 7ms/step - loss: 1492329904.0000 - root_mean_squared_error: 38493.0117 - val_loss: 1187007104.0000 - val_root_mean_squared_error: 34452.9688\n",
            "Epoch 31/100\n",
            "11/11 [==============================] - 0s 7ms/step - loss: 1497172384.0000 - root_mean_squared_error: 38439.4627 - val_loss: 1169532544.0000 - val_root_mean_squared_error: 34198.4297\n",
            "Epoch 32/100\n",
            "11/11 [==============================] - 0s 7ms/step - loss: 1615443722.6667 - root_mean_squared_error: 40021.0749 - val_loss: 1193569920.0000 - val_root_mean_squared_error: 34548.0820\n",
            "Epoch 33/100\n",
            "11/11 [==============================] - 0s 7ms/step - loss: 1775877909.3333 - root_mean_squared_error: 41901.2835 - val_loss: 1165453696.0000 - val_root_mean_squared_error: 34138.7422\n",
            "Epoch 34/100\n",
            "11/11 [==============================] - 0s 8ms/step - loss: 1163683893.3333 - root_mean_squared_error: 33782.6115 - val_loss: 1119462656.0000 - val_root_mean_squared_error: 33458.3711\n",
            "Epoch 35/100\n",
            "11/11 [==============================] - 0s 8ms/step - loss: 1257924208.0000 - root_mean_squared_error: 35303.2243 - val_loss: 1182113408.0000 - val_root_mean_squared_error: 34381.8750\n",
            "Epoch 36/100\n",
            "11/11 [==============================] - 0s 7ms/step - loss: 1517085536.0000 - root_mean_squared_error: 38895.3779 - val_loss: 1100698496.0000 - val_root_mean_squared_error: 33176.7773\n",
            "Epoch 37/100\n",
            "11/11 [==============================] - 0s 7ms/step - loss: 1383624026.6667 - root_mean_squared_error: 36797.3184 - val_loss: 1132181632.0000 - val_root_mean_squared_error: 33647.9062\n",
            "Epoch 38/100\n",
            "11/11 [==============================] - 0s 7ms/step - loss: 1366329197.3333 - root_mean_squared_error: 36696.7856 - val_loss: 1193804544.0000 - val_root_mean_squared_error: 34551.4766\n",
            "Epoch 39/100\n",
            "11/11 [==============================] - 0s 7ms/step - loss: 1582811264.0000 - root_mean_squared_error: 39722.7360 - val_loss: 1159821952.0000 - val_root_mean_squared_error: 34056.1602\n",
            "Epoch 40/100\n",
            "11/11 [==============================] - 0s 7ms/step - loss: 1350542064.0000 - root_mean_squared_error: 36559.2222 - val_loss: 1113753216.0000 - val_root_mean_squared_error: 33372.9414\n",
            "Epoch 41/100\n",
            "11/11 [==============================] - 0s 7ms/step - loss: 1233422101.3333 - root_mean_squared_error: 34934.8148 - val_loss: 1074832640.0000 - val_root_mean_squared_error: 32784.6406\n",
            "Epoch 42/100\n",
            "11/11 [==============================] - 0s 7ms/step - loss: 1601106784.0000 - root_mean_squared_error: 39830.3551 - val_loss: 1063004352.0000 - val_root_mean_squared_error: 32603.7480\n",
            "Epoch 43/100\n",
            "11/11 [==============================] - 0s 7ms/step - loss: 1509126144.0000 - root_mean_squared_error: 38774.4961 - val_loss: 1109512064.0000 - val_root_mean_squared_error: 33309.3398\n",
            "Epoch 44/100\n",
            "11/11 [==============================] - 0s 8ms/step - loss: 1433183802.6667 - root_mean_squared_error: 37790.0096 - val_loss: 1059843008.0000 - val_root_mean_squared_error: 32555.2305\n",
            "Epoch 45/100\n",
            "11/11 [==============================] - 0s 7ms/step - loss: 1433362357.3333 - root_mean_squared_error: 37798.9144 - val_loss: 1086592256.0000 - val_root_mean_squared_error: 32963.5000\n",
            "Epoch 46/100\n",
            "11/11 [==============================] - 0s 7ms/step - loss: 1339738565.3333 - root_mean_squared_error: 36486.9798 - val_loss: 1098584832.0000 - val_root_mean_squared_error: 33144.9062\n",
            "Epoch 47/100\n",
            "11/11 [==============================] - 0s 7ms/step - loss: 1416384544.0000 - root_mean_squared_error: 37389.5036 - val_loss: 1045275200.0000 - val_root_mean_squared_error: 32330.7168\n",
            "Epoch 48/100\n",
            "11/11 [==============================] - 0s 7ms/step - loss: 1154034245.3333 - root_mean_squared_error: 33764.7656 - val_loss: 1069746880.0000 - val_root_mean_squared_error: 32706.9844\n",
            "Epoch 49/100\n",
            "11/11 [==============================] - 0s 7ms/step - loss: 1517070794.6667 - root_mean_squared_error: 38904.8822 - val_loss: 1048785024.0000 - val_root_mean_squared_error: 32384.9512\n",
            "Epoch 50/100\n",
            "11/11 [==============================] - 0s 7ms/step - loss: 1347621856.0000 - root_mean_squared_error: 36640.5488 - val_loss: 1115931904.0000 - val_root_mean_squared_error: 33405.5664\n",
            "Epoch 51/100\n",
            "11/11 [==============================] - 0s 7ms/step - loss: 1508276202.6667 - root_mean_squared_error: 38825.8981 - val_loss: 1047193088.0000 - val_root_mean_squared_error: 32360.3633\n",
            "Epoch 52/100\n",
            "11/11 [==============================] - 0s 8ms/step - loss: 1339076893.3333 - root_mean_squared_error: 36284.7660 - val_loss: 1067091968.0000 - val_root_mean_squared_error: 32666.3730\n",
            "Epoch 53/100\n",
            "11/11 [==============================] - 0s 8ms/step - loss: 1346329856.0000 - root_mean_squared_error: 36596.9404 - val_loss: 1057444928.0000 - val_root_mean_squared_error: 32518.3789\n",
            "Epoch 54/100\n",
            "11/11 [==============================] - 0s 7ms/step - loss: 1548258112.0000 - root_mean_squared_error: 39292.3226 - val_loss: 1041877056.0000 - val_root_mean_squared_error: 32278.1211\n",
            "Epoch 55/100\n",
            "11/11 [==============================] - 0s 7ms/step - loss: 1517950730.6667 - root_mean_squared_error: 38804.7161 - val_loss: 1098208896.0000 - val_root_mean_squared_error: 33139.2344\n",
            "Epoch 56/100\n",
            "11/11 [==============================] - 0s 7ms/step - loss: 1328218789.3333 - root_mean_squared_error: 36398.4313 - val_loss: 1046185920.0000 - val_root_mean_squared_error: 32344.7969\n",
            "Epoch 57/100\n",
            "11/11 [==============================] - 0s 7ms/step - loss: 1160830266.6667 - root_mean_squared_error: 33853.7129 - val_loss: 1094236672.0000 - val_root_mean_squared_error: 33079.2500\n",
            "Epoch 58/100\n",
            "11/11 [==============================] - 0s 7ms/step - loss: 1723012181.3333 - root_mean_squared_error: 41368.0264 - val_loss: 1150729472.0000 - val_root_mean_squared_error: 33922.4023\n",
            "Epoch 59/100\n",
            "11/11 [==============================] - 0s 7ms/step - loss: 1287577328.0000 - root_mean_squared_error: 35763.8307 - val_loss: 1155459328.0000 - val_root_mean_squared_error: 33992.0469\n",
            "Epoch 60/100\n",
            "11/11 [==============================] - 0s 8ms/step - loss: 1292448709.3333 - root_mean_squared_error: 35835.2490 - val_loss: 1042177280.0000 - val_root_mean_squared_error: 32282.7715\n",
            "Epoch 61/100\n",
            "11/11 [==============================] - 0s 8ms/step - loss: 1355714528.0000 - root_mean_squared_error: 36673.4049 - val_loss: 1076137856.0000 - val_root_mean_squared_error: 32804.5391\n",
            "Epoch 62/100\n",
            "11/11 [==============================] - 0s 8ms/step - loss: 1291552586.6667 - root_mean_squared_error: 35763.1925 - val_loss: 1099376256.0000 - val_root_mean_squared_error: 33156.8438\n",
            "Epoch 63/100\n",
            "11/11 [==============================] - 0s 7ms/step - loss: 1257718042.6667 - root_mean_squared_error: 35370.5239 - val_loss: 1128620032.0000 - val_root_mean_squared_error: 33594.9414\n",
            "Epoch 64/100\n",
            "11/11 [==============================] - 0s 7ms/step - loss: 1220434000.0000 - root_mean_squared_error: 34755.5640 - val_loss: 1171460224.0000 - val_root_mean_squared_error: 34226.6016\n",
            "Epoch 65/100\n",
            "11/11 [==============================] - 0s 8ms/step - loss: 1447947034.6667 - root_mean_squared_error: 37985.6763 - val_loss: 1073127296.0000 - val_root_mean_squared_error: 32758.6211\n",
            "Epoch 66/100\n",
            "11/11 [==============================] - 0s 7ms/step - loss: 1232652208.0000 - root_mean_squared_error: 34964.3857 - val_loss: 1041068608.0000 - val_root_mean_squared_error: 32265.5957\n",
            "Epoch 67/100\n",
            "11/11 [==============================] - 0s 7ms/step - loss: 1303354453.3333 - root_mean_squared_error: 35983.7625 - val_loss: 1028481792.0000 - val_root_mean_squared_error: 32069.9512\n",
            "Epoch 68/100\n",
            "11/11 [==============================] - 0s 7ms/step - loss: 1310438309.3333 - root_mean_squared_error: 35893.7852 - val_loss: 1081599872.0000 - val_root_mean_squared_error: 32887.6875\n",
            "Epoch 69/100\n",
            "11/11 [==============================] - 0s 8ms/step - loss: 1105399816.0000 - root_mean_squared_error: 32854.4430 - val_loss: 1055822592.0000 - val_root_mean_squared_error: 32493.4238\n",
            "Epoch 70/100\n",
            "11/11 [==============================] - 0s 8ms/step - loss: 1565554453.3333 - root_mean_squared_error: 39524.8997 - val_loss: 1065097152.0000 - val_root_mean_squared_error: 32635.8262\n",
            "Epoch 71/100\n",
            "11/11 [==============================] - 0s 7ms/step - loss: 1314242149.3333 - root_mean_squared_error: 36212.2785 - val_loss: 1255013632.0000 - val_root_mean_squared_error: 35426.1719\n",
            "Epoch 72/100\n",
            "11/11 [==============================] - 0s 7ms/step - loss: 1597717653.3333 - root_mean_squared_error: 39771.4167 - val_loss: 1129517440.0000 - val_root_mean_squared_error: 33608.2930\n",
            "Epoch 73/100\n",
            "11/11 [==============================] - 0s 7ms/step - loss: 1476230965.3333 - root_mean_squared_error: 38332.4889 - val_loss: 1034575872.0000 - val_root_mean_squared_error: 32164.8242\n",
            "Epoch 74/100\n",
            "11/11 [==============================] - 0s 8ms/step - loss: 1493102826.6667 - root_mean_squared_error: 38564.8595 - val_loss: 1034173824.0000 - val_root_mean_squared_error: 32158.5723\n",
            "Epoch 75/100\n",
            "11/11 [==============================] - 0s 8ms/step - loss: 1659531392.0000 - root_mean_squared_error: 40629.8962 - val_loss: 1072483008.0000 - val_root_mean_squared_error: 32748.7871\n",
            "Epoch 76/100\n",
            "11/11 [==============================] - 0s 8ms/step - loss: 1307783968.0000 - root_mean_squared_error: 35938.6772 - val_loss: 1048548736.0000 - val_root_mean_squared_error: 32381.3027\n",
            "Epoch 77/100\n",
            "11/11 [==============================] - 0s 8ms/step - loss: 1338367509.3333 - root_mean_squared_error: 36490.5850 - val_loss: 1039534144.0000 - val_root_mean_squared_error: 32241.8066\n",
            "Epoch 78/100\n",
            "11/11 [==============================] - 0s 8ms/step - loss: 1380946149.3333 - root_mean_squared_error: 37014.7897 - val_loss: 1041553472.0000 - val_root_mean_squared_error: 32273.1074\n",
            "Epoch 79/100\n",
            "11/11 [==============================] - 0s 8ms/step - loss: 1621887232.0000 - root_mean_squared_error: 40018.7692 - val_loss: 1107325056.0000 - val_root_mean_squared_error: 33276.4922\n",
            "Epoch 80/100\n",
            "11/11 [==============================] - 0s 7ms/step - loss: 1604497845.3333 - root_mean_squared_error: 39838.4561 - val_loss: 1047873152.0000 - val_root_mean_squared_error: 32370.8691\n",
            "Epoch 81/100\n",
            "11/11 [==============================] - 0s 7ms/step - loss: 1109022885.3333 - root_mean_squared_error: 32925.5750 - val_loss: 1236221184.0000 - val_root_mean_squared_error: 35159.9375\n",
            "Epoch 82/100\n",
            "11/11 [==============================] - 0s 8ms/step - loss: 1409715464.0000 - root_mean_squared_error: 37232.6107 - val_loss: 1033974272.0000 - val_root_mean_squared_error: 32155.4707\n",
            "Epoch 83/100\n",
            "11/11 [==============================] - 0s 7ms/step - loss: 1245334330.6667 - root_mean_squared_error: 34993.7632 - val_loss: 1109582720.0000 - val_root_mean_squared_error: 33310.3984\n",
            "Epoch 84/100\n",
            "11/11 [==============================] - 0s 10ms/step - loss: 1210190800.0000 - root_mean_squared_error: 34585.6265 - val_loss: 1173709056.0000 - val_root_mean_squared_error: 34259.4375\n",
            "Epoch 85/100\n",
            "11/11 [==============================] - 0s 8ms/step - loss: 1635313322.6667 - root_mean_squared_error: 40310.3542 - val_loss: 1052071424.0000 - val_root_mean_squared_error: 32435.6504\n",
            "Epoch 86/100\n",
            "11/11 [==============================] - 0s 7ms/step - loss: 1474112746.6667 - root_mean_squared_error: 38263.6781 - val_loss: 1047438720.0000 - val_root_mean_squared_error: 32364.1582\n",
            "Epoch 87/100\n",
            "11/11 [==============================] - 0s 7ms/step - loss: 1524910101.3333 - root_mean_squared_error: 38927.3841 - val_loss: 1029141376.0000 - val_root_mean_squared_error: 32080.2344\n"
          ],
          "name": "stdout"
        },
        {
          "output_type": "display_data",
          "data": {
            "image/png": "[encoded data removed]",
            "text/plain": [
              "<Figure size 432x288 with 1 Axes>"
            ]
          },
          "metadata": {
            "tags": [],
            "needs_background": "light"
          }
        }
      ]
    },
    {
      "cell_type": "code",
      "metadata": {
        "colab": {
          "base_uri": "https://localhost:8080/"
        },
        "id": "ZlirYQ_Ux0f-",
        "outputId": "b5318857-107a-4316-aa8c-3e2fc9d7d6da"
      },
      "source": [
        "test_rmse_cross_YearBinned_MileageNorm = model.evaluate(test_features_dict, test_labels, batch_size=batch_size, verbose=0)[1]\r\n",
        "print('Test RMSE with CrossFeature of YearBinned and MileageNormalize: {:.3f}'.format(test_rmse_cross_YearBinned_MileageNorm))"
      ],
      "execution_count": 81,
      "outputs": [
        {
          "output_type": "stream",
          "text": [
            "Test RMSE with CrossFeature of YearBinned and MileageNormalize: 45257.289\n"
          ],
          "name": "stdout"
        }
      ]
    },
    {
      "cell_type": "markdown",
      "metadata": {
        "id": "_P6rhRRd08Bd"
      },
      "source": [
        "**Feature Cross + Original Binned Features**"
      ]
    },
    {
      "cell_type": "code",
      "metadata": {
        "id": "UNbgGj84ohKN"
      },
      "source": [
        ""
      ],
      "execution_count": 81,
      "outputs": []
    },
    {
      "cell_type": "code",
      "metadata": {
        "id": "iXvuqVWhohIE"
      },
      "source": [
        ""
      ],
      "execution_count": 81,
      "outputs": []
    },
    {
      "cell_type": "code",
      "metadata": {
        "id": "yRfz-3vhohEK"
      },
      "source": [
        ""
      ],
      "execution_count": 81,
      "outputs": []
    },
    {
      "cell_type": "code",
      "metadata": {
        "id": "ETFaPbPaog_V"
      },
      "source": [
        ""
      ],
      "execution_count": 81,
      "outputs": []
    },
    {
      "cell_type": "markdown",
      "metadata": {
        "id": "GYfVVlxsPqEP"
      },
      "source": [
        "**Feature Cross | Mileage_Norm, Model_Category and Year_Binned**"
      ]
    },
    {
      "cell_type": "code",
      "metadata": {
        "colab": {
          "base_uri": "https://localhost:8080/"
        },
        "id": "wGEXhjUCR3X6",
        "outputId": "e2d4ff9c-7ff7-4e12-98b2-ed65bbbb0f8c"
      },
      "source": [
        "rr3.columns"
      ],
      "execution_count": 82,
      "outputs": [
        {
          "output_type": "execute_result",
          "data": {
            "text/plain": [
              "Index(['Year', 'Mileage', 'Model_Cullinan', 'Model_Dawn', 'Model_Ghost',\n",
              "       'Model_Phantom', 'Seller_Type_Dealer', 'Seller_Type_Individual',\n",
              "       'Year_Binned_2004_2008', 'Year_Binned_2009_2011',\n",
              "       'Year_Binned_2012_2014', 'Year_Binned_2015_2017',\n",
              "       'Year_Binned_2018_2019', 'Year_Binned_2020_2021', 'Mileage_Norm',\n",
              "       '2015_2017_Mileage_Norm', '2004_2008_Mileage_Norm',\n",
              "       '2009_2011_Mileage_Norm', '2012_2014_Mileage_Norm',\n",
              "       '2018_2019_Mileage_Norm', '2020_2021_Mileage_Norm'],\n",
              "      dtype='object')"
            ]
          },
          "metadata": {
            "tags": []
          },
          "execution_count": 82
        }
      ]
    },
    {
      "cell_type": "code",
      "metadata": {
        "id": "lWcyeok7SM-g"
      },
      "source": [
        "rr3['04_08_MilNorm_Cullinan'] = rr3['2004_2008_Mileage_Norm']*rr3['Model_Cullinan'] \r\n",
        "rr3['09_11_MilNorm_Cullinan'] = rr3['2009_2011_Mileage_Norm']*rr3['Model_Cullinan']\r\n",
        "rr3['12_14_MilNorm_Cullinan'] = rr3['2012_2014_Mileage_Norm']*rr3['Model_Cullinan']\r\n",
        "rr3['15_17_MilNorm_Cullinan'] = rr3['2015_2017_Mileage_Norm']*rr3['Model_Cullinan']\r\n",
        "rr3['18_19_MilNorm_Cullinan'] = rr3['2018_2019_Mileage_Norm']*rr3['Model_Cullinan']\r\n",
        "rr3['20_21_MilNorm_Cullinan'] = rr3['2020_2021_Mileage_Norm']*rr3['Model_Cullinan']\r\n",
        "\r\n",
        "rr3['04_08_MilNorm_Ghost'] = rr3['2004_2008_Mileage_Norm']*rr3['Model_Ghost'] \r\n",
        "rr3['09_11_MilNorm_Ghost'] = rr3['2009_2011_Mileage_Norm']*rr3['Model_Ghost']\r\n",
        "rr3['12_14_MilNorm_Ghost'] = rr3['2012_2014_Mileage_Norm']*rr3['Model_Ghost']\r\n",
        "rr3['15_17_MilNorm_Ghost'] = rr3['2015_2017_Mileage_Norm']*rr3['Model_Ghost']\r\n",
        "rr3['18_19_MilNorm_Ghost'] = rr3['2018_2019_Mileage_Norm']*rr3['Model_Ghost']\r\n",
        "rr3['20_21_MilNorm_Ghost'] = rr3['2020_2021_Mileage_Norm']*rr3['Model_Ghost']\r\n",
        "\r\n",
        "rr3['04_08_MilNorm_Dawn'] = rr3['2004_2008_Mileage_Norm']*rr3['Model_Dawn'] \r\n",
        "rr3['09_11_MilNorm_Dawn'] = rr3['2009_2011_Mileage_Norm']*rr3['Model_Dawn']\r\n",
        "rr3['12_14_MilNorm_Dawn'] = rr3['2012_2014_Mileage_Norm']*rr3['Model_Dawn']\r\n",
        "rr3['15_17_MilNorm_Dawn'] = rr3['2015_2017_Mileage_Norm']*rr3['Model_Dawn']\r\n",
        "rr3['18_19_MilNorm_Dawn'] = rr3['2018_2019_Mileage_Norm']*rr3['Model_Dawn']\r\n",
        "rr3['20_21_MilNorm_Dawn'] = rr3['2020_2021_Mileage_Norm']*rr3['Model_Dawn']\r\n",
        "\r\n",
        "rr3['04_08_MilNorm_Phantom'] = rr3['2004_2008_Mileage_Norm']*rr3['Model_Phantom'] \r\n",
        "rr3['09_11_MilNorm_Phantom'] = rr3['2009_2011_Mileage_Norm']*rr3['Model_Phantom']\r\n",
        "rr3['12_14_MilNorm_Phantom'] = rr3['2012_2014_Mileage_Norm']*rr3['Model_Phantom']\r\n",
        "rr3['15_17_MilNorm_Phantom'] = rr3['2015_2017_Mileage_Norm']*rr3['Model_Phantom']\r\n",
        "rr3['18_19_MilNorm_Phantom'] = rr3['2018_2019_Mileage_Norm']*rr3['Model_Phantom']\r\n",
        "rr3['20_21_MilNorm_Phantom'] = rr3['2020_2021_Mileage_Norm']*rr3['Model_Phantom']\r\n"
      ],
      "execution_count": 83,
      "outputs": []
    },
    {
      "cell_type": "code",
      "metadata": {
        "id": "CZ3dGeP2PcPw"
      },
      "source": [
        "# create feature_columns from tf.feature_columns\r\n",
        "\r\n",
        "feature_columns = []\r\n",
        "\r\n",
        "# Cullinan\r\n",
        "Mileage2004_08_Cullinan = tf.feature_column.numeric_column('04_08_MilNorm_Cullinan')\r\n",
        "feature_columns.append(Mileage2004_08_Cullinan)\r\n",
        "\r\n",
        "Mileage2009_11_Cullinan = tf.feature_column.numeric_column('09_11_MilNorm_Cullinan')\r\n",
        "feature_columns.append(Mileage2009_11_Cullinan)\r\n",
        "\r\n",
        "Mileage2012_14_Cullinan = tf.feature_column.numeric_column('12_14_MilNorm_Cullinan')\r\n",
        "feature_columns.append(Mileage2012_14_Cullinan)\r\n",
        "\r\n",
        "Mileage2015_17_Cullinan = tf.feature_column.numeric_column('15_17_MilNorm_Cullinan')\r\n",
        "feature_columns.append(Mileage2015_17_Cullinan)\r\n",
        "\r\n",
        "Mileage2018_19_Cullinan = tf.feature_column.numeric_column('18_19_MilNorm_Cullinan')\r\n",
        "feature_columns.append(Mileage2018_19_Cullinan)\r\n",
        "\r\n",
        "Mileage2020_21_Cullinan = tf.feature_column.numeric_column('20_21_MilNorm_Cullinan')\r\n",
        "feature_columns.append(Mileage2020_21_Cullinan)\r\n",
        "\r\n",
        "# Ghost\r\n",
        "Mileage2004_08_Ghost = tf.feature_column.numeric_column('04_08_MilNorm_Ghost')\r\n",
        "feature_columns.append(Mileage2004_08_Ghost)\r\n",
        "\r\n",
        "Mileage2009_11_Ghost = tf.feature_column.numeric_column('09_11_MilNorm_Ghost')\r\n",
        "feature_columns.append(Mileage2009_11_Ghost)\r\n",
        "\r\n",
        "Mileage2012_14_Ghost = tf.feature_column.numeric_column('12_14_MilNorm_Ghost')\r\n",
        "feature_columns.append(Mileage2012_14_Ghost)\r\n",
        "\r\n",
        "Mileage2015_17_Ghost = tf.feature_column.numeric_column('15_17_MilNorm_Ghost')\r\n",
        "feature_columns.append(Mileage2015_17_Ghost)\r\n",
        "\r\n",
        "Mileage2018_19_Ghost = tf.feature_column.numeric_column('18_19_MilNorm_Ghost')\r\n",
        "feature_columns.append(Mileage2018_19_Ghost)\r\n",
        "\r\n",
        "Mileage2020_21_Ghost = tf.feature_column.numeric_column('20_21_MilNorm_Ghost')\r\n",
        "feature_columns.append(Mileage2020_21_Ghost)\r\n",
        "\r\n",
        "# Dawn\r\n",
        "Mileage2004_08_Dawn = tf.feature_column.numeric_column('04_08_MilNorm_Dawn')\r\n",
        "feature_columns.append(Mileage2004_08_Dawn)\r\n",
        "\r\n",
        "Mileage2009_11_Dawn = tf.feature_column.numeric_column('09_11_MilNorm_Dawn')\r\n",
        "feature_columns.append(Mileage2009_11_Dawn)\r\n",
        "\r\n",
        "Mileage2012_14_Dawn = tf.feature_column.numeric_column('12_14_MilNorm_Dawn')\r\n",
        "feature_columns.append(Mileage2012_14_Dawn)\r\n",
        "\r\n",
        "Mileage2015_17_Dawn = tf.feature_column.numeric_column('15_17_MilNorm_Dawn')\r\n",
        "feature_columns.append(Mileage2015_17_Dawn)\r\n",
        "\r\n",
        "Mileage2018_19_Dawn = tf.feature_column.numeric_column('18_19_MilNorm_Dawn')\r\n",
        "feature_columns.append(Mileage2018_19_Dawn)\r\n",
        "\r\n",
        "Mileage2020_21_Dawn = tf.feature_column.numeric_column('20_21_MilNorm_Dawn')\r\n",
        "feature_columns.append(Mileage2020_21_Dawn)\r\n",
        "\r\n",
        "# Phantom\r\n",
        "Mileage2004_08_Phantom = tf.feature_column.numeric_column('04_08_MilNorm_Phantom')\r\n",
        "feature_columns.append(Mileage2004_08_Phantom)\r\n",
        "\r\n",
        "Mileage2009_11_Phantom = tf.feature_column.numeric_column('09_11_MilNorm_Phantom')\r\n",
        "feature_columns.append(Mileage2009_11_Phantom)\r\n",
        "\r\n",
        "Mileage2012_14_Phantom = tf.feature_column.numeric_column('12_14_MilNorm_Phantom')\r\n",
        "feature_columns.append(Mileage2012_14_Phantom)\r\n",
        "\r\n",
        "Mileage2015_17_Phantom = tf.feature_column.numeric_column('15_17_MilNorm_Phantom')\r\n",
        "feature_columns.append(Mileage2015_17_Phantom)\r\n",
        "\r\n",
        "Mileage2018_19_Phantom = tf.feature_column.numeric_column('18_19_MilNorm_Phantom')\r\n",
        "feature_columns.append(Mileage2018_19_Phantom)\r\n",
        "\r\n",
        "Mileage2020_21_Phantom = tf.feature_column.numeric_column('20_21_MilNorm_Phantom')\r\n",
        "feature_columns.append(Mileage2020_21_Phantom)\r\n",
        "\r\n",
        "from keras import layers\r\n",
        "feature_layer = layers.DenseFeatures(feature_columns)"
      ],
      "execution_count": 84,
      "outputs": []
    },
    {
      "cell_type": "code",
      "metadata": {
        "id": "LTVhjgumpOHl"
      },
      "source": [
        "# rr3.iloc[:,44]"
      ],
      "execution_count": 85,
      "outputs": []
    },
    {
      "cell_type": "code",
      "metadata": {
        "colab": {
          "base_uri": "https://localhost:8080/",
          "height": 1000
        },
        "id": "HAA_eBFlQ1WU",
        "outputId": "75f1297b-6046-427e-9563-165e63713c06"
      },
      "source": [
        "epochs = 200\r\n",
        "learning_rate = 0.01\r\n",
        "batch_size = 12\r\n",
        "\r\n",
        "\r\n",
        "features_dict = {\r\n",
        "    '04_08_MilNorm_Cullinan' : rr3.iloc[:,21].values,\r\n",
        "    '09_11_MilNorm_Cullinan' : rr3.iloc[:,22].values,\r\n",
        "    '12_14_MilNorm_Cullinan' : rr3.iloc[:,23].values,\r\n",
        "    '15_17_MilNorm_Cullinan' : rr3.iloc[:,24].values,\r\n",
        "    '18_19_MilNorm_Cullinan' : rr3.iloc[:,25].values,\r\n",
        "    '20_21_MilNorm_Cullinan' : rr3.iloc[:,26].values,\r\n",
        "    '04_08_MilNorm_Ghost' : rr3.iloc[:,27].values,\r\n",
        "    '09_11_MilNorm_Ghost' : rr3.iloc[:,28].values,\r\n",
        "    '12_14_MilNorm_Ghost' : rr3.iloc[:,29].values,\r\n",
        "    '15_17_MilNorm_Ghost' : rr3.iloc[:,30].values,\r\n",
        "    '18_19_MilNorm_Ghost' : rr3.iloc[:,31].values,\r\n",
        "    '20_21_MilNorm_Ghost' : rr3.iloc[:,32].values,\r\n",
        "    '04_08_MilNorm_Dawn' : rr3.iloc[:,33].values,\r\n",
        "    '09_11_MilNorm_Dawn' : rr3.iloc[:,34].values,\r\n",
        "    '12_14_MilNorm_Dawn' : rr3.iloc[:,35].values,\r\n",
        "    '15_17_MilNorm_Dawn' : rr3.iloc[:,36].values,\r\n",
        "    '18_19_MilNorm_Dawn' : rr3.iloc[:,37].values,\r\n",
        "    '20_21_MilNorm_Dawn' : rr3.iloc[:,38].values,\r\n",
        "    '04_08_MilNorm_Phantom' : rr3.iloc[:,39].values,\r\n",
        "    '09_11_MilNorm_Phantom' : rr3.iloc[:,40].values,\r\n",
        "    '12_14_MilNorm_Phantom' : rr3.iloc[:,41].values,\r\n",
        "    '15_17_MilNorm_Phantom' : rr3.iloc[:,42].values,\r\n",
        "    '18_19_MilNorm_Phantom' : rr3.iloc[:,43].values,\r\n",
        "    '20_21_MilNorm_Phantom' : rr3.iloc[:,44].values  \r\n",
        "}\r\n",
        "\r\n",
        "test_features_dict = {\r\n",
        "    '04_08_MilNorm_Cullinan' : rr3_test.iloc[:,21].values,\r\n",
        "    '09_11_MilNorm_Cullinan' : rr3_test.iloc[:,22].values,\r\n",
        "    '12_14_MilNorm_Cullinan' : rr3_test.iloc[:,23].values,\r\n",
        "    '15_17_MilNorm_Cullinan' : rr3_test.iloc[:,24].values,\r\n",
        "    '18_19_MilNorm_Cullinan' : rr3_test.iloc[:,25].values,\r\n",
        "    '20_21_MilNorm_Cullinan' : rr3_test.iloc[:,26].values,\r\n",
        "    '04_08_MilNorm_Ghost' : rr3_test.iloc[:,27].values,\r\n",
        "    '09_11_MilNorm_Ghost' : rr3_test.iloc[:,28].values,\r\n",
        "    '12_14_MilNorm_Ghost' : rr3_test.iloc[:,29].values,\r\n",
        "    '15_17_MilNorm_Ghost' : rr3_test.iloc[:,30].values,\r\n",
        "    '18_19_MilNorm_Ghost' : rr3_test.iloc[:,31].values,\r\n",
        "    '20_21_MilNorm_Ghost' : rr3_test.iloc[:,32].values,\r\n",
        "    '04_08_MilNorm_Dawn' : rr3_test.iloc[:,33].values,\r\n",
        "    '09_11_MilNorm_Dawn' : rr3_test.iloc[:,34].values,\r\n",
        "    '12_14_MilNorm_Dawn' : rr3_test.iloc[:,35].values,\r\n",
        "    '15_17_MilNorm_Dawn' : rr3_test.iloc[:,36].values,\r\n",
        "    '18_19_MilNorm_Dawn' : rr3_test.iloc[:,37].values,\r\n",
        "    '20_21_MilNorm_Dawn' : rr3_test.iloc[:,38].values,\r\n",
        "    '04_08_MilNorm_Phantom' : rr3_test.iloc[:,39].values,\r\n",
        "    '09_11_MilNorm_Phantom' : rr3_test.iloc[:,40].values,\r\n",
        "    '12_14_MilNorm_Phantom' : rr3_test.iloc[:,41].values,\r\n",
        "    '15_17_MilNorm_Phantom' : rr3_test.iloc[:,42].values,\r\n",
        "    '18_19_MilNorm_Phantom' : rr3_test.iloc[:,43].values,\r\n",
        "    '20_21_MilNorm_Phantom' : rr3_test.iloc[:,44].values\r\n",
        "}\r\n",
        "\r\n",
        "n_cols = len(features_dict)\r\n",
        "\r\n",
        "model = create_model_cross(0.01, feature_layer, n_cols=n_cols)\r\n",
        "\r\n",
        "epochs, train_rmse, val_rmse = train_model(model, features_dict, train_labels, epochs=epochs, batch_size=batch_size)\r\n",
        "\r\n",
        "plot_loss_curve(epochs, train_rmse, val_rmse)"
      ],
      "execution_count": 86,
      "outputs": [
        {
          "output_type": "stream",
          "text": [
            "Epoch 1/200\n",
            "WARNING:tensorflow:Layers in a Sequential model should only have a single input tensor, but we receive a <class 'dict'> input: {'04_08_MilNorm_Cullinan': <tf.Tensor 'ExpandDims:0' shape=(None, 1) dtype=float32>, '09_11_MilNorm_Cullinan': <tf.Tensor 'ExpandDims_4:0' shape=(None, 1) dtype=float32>, '12_14_MilNorm_Cullinan': <tf.Tensor 'ExpandDims_8:0' shape=(None, 1) dtype=float32>, '15_17_MilNorm_Cullinan': <tf.Tensor 'ExpandDims_12:0' shape=(None, 1) dtype=float32>, '18_19_MilNorm_Cullinan': <tf.Tensor 'ExpandDims_16:0' shape=(None, 1) dtype=float32>, '20_21_MilNorm_Cullinan': <tf.Tensor 'ExpandDims_20:0' shape=(None, 1) dtype=float32>, '04_08_MilNorm_Ghost': <tf.Tensor 'ExpandDims_2:0' shape=(None, 1) dtype=float32>, '09_11_MilNorm_Ghost': <tf.Tensor 'ExpandDims_6:0' shape=(None, 1) dtype=float32>, '12_14_MilNorm_Ghost': <tf.Tensor 'ExpandDims_10:0' shape=(None, 1) dtype=float32>, '15_17_MilNorm_Ghost': <tf.Tensor 'ExpandDims_14:0' shape=(None, 1) dtype=float32>, '18_19_MilNorm_Ghost': <tf.Tensor 'ExpandDims_18:0' shape=(None, 1) dtype=float32>, '20_21_MilNorm_Ghost': <tf.Tensor 'ExpandDims_22:0' shape=(None, 1) dtype=float32>, '04_08_MilNorm_Dawn': <tf.Tensor 'ExpandDims_1:0' shape=(None, 1) dtype=float32>, '09_11_MilNorm_Dawn': <tf.Tensor 'ExpandDims_5:0' shape=(None, 1) dtype=float32>, '12_14_MilNorm_Dawn': <tf.Tensor 'ExpandDims_9:0' shape=(None, 1) dtype=float32>, '15_17_MilNorm_Dawn': <tf.Tensor 'ExpandDims_13:0' shape=(None, 1) dtype=float32>, '18_19_MilNorm_Dawn': <tf.Tensor 'ExpandDims_17:0' shape=(None, 1) dtype=float32>, '20_21_MilNorm_Dawn': <tf.Tensor 'ExpandDims_21:0' shape=(None, 1) dtype=float32>, '04_08_MilNorm_Phantom': <tf.Tensor 'ExpandDims_3:0' shape=(None, 1) dtype=float32>, '09_11_MilNorm_Phantom': <tf.Tensor 'ExpandDims_7:0' shape=(None, 1) dtype=float32>, '12_14_MilNorm_Phantom': <tf.Tensor 'ExpandDims_11:0' shape=(None, 1) dtype=float32>, '15_17_MilNorm_Phantom': <tf.Tensor 'ExpandDims_15:0' shape=(None, 1) dtype=float32>, '18_19_MilNorm_Phantom': <tf.Tensor 'ExpandDims_19:0' shape=(None, 1) dtype=float32>, '20_21_MilNorm_Phantom': <tf.Tensor 'ExpandDims_23:0' shape=(None, 1) dtype=float32>}\n",
            "Consider rewriting this model with the Functional API.\n",
            "WARNING:tensorflow:Layers in a Sequential model should only have a single input tensor, but we receive a <class 'dict'> input: {'04_08_MilNorm_Cullinan': <tf.Tensor 'ExpandDims:0' shape=(None, 1) dtype=float32>, '09_11_MilNorm_Cullinan': <tf.Tensor 'ExpandDims_4:0' shape=(None, 1) dtype=float32>, '12_14_MilNorm_Cullinan': <tf.Tensor 'ExpandDims_8:0' shape=(None, 1) dtype=float32>, '15_17_MilNorm_Cullinan': <tf.Tensor 'ExpandDims_12:0' shape=(None, 1) dtype=float32>, '18_19_MilNorm_Cullinan': <tf.Tensor 'ExpandDims_16:0' shape=(None, 1) dtype=float32>, '20_21_MilNorm_Cullinan': <tf.Tensor 'ExpandDims_20:0' shape=(None, 1) dtype=float32>, '04_08_MilNorm_Ghost': <tf.Tensor 'ExpandDims_2:0' shape=(None, 1) dtype=float32>, '09_11_MilNorm_Ghost': <tf.Tensor 'ExpandDims_6:0' shape=(None, 1) dtype=float32>, '12_14_MilNorm_Ghost': <tf.Tensor 'ExpandDims_10:0' shape=(None, 1) dtype=float32>, '15_17_MilNorm_Ghost': <tf.Tensor 'ExpandDims_14:0' shape=(None, 1) dtype=float32>, '18_19_MilNorm_Ghost': <tf.Tensor 'ExpandDims_18:0' shape=(None, 1) dtype=float32>, '20_21_MilNorm_Ghost': <tf.Tensor 'ExpandDims_22:0' shape=(None, 1) dtype=float32>, '04_08_MilNorm_Dawn': <tf.Tensor 'ExpandDims_1:0' shape=(None, 1) dtype=float32>, '09_11_MilNorm_Dawn': <tf.Tensor 'ExpandDims_5:0' shape=(None, 1) dtype=float32>, '12_14_MilNorm_Dawn': <tf.Tensor 'ExpandDims_9:0' shape=(None, 1) dtype=float32>, '15_17_MilNorm_Dawn': <tf.Tensor 'ExpandDims_13:0' shape=(None, 1) dtype=float32>, '18_19_MilNorm_Dawn': <tf.Tensor 'ExpandDims_17:0' shape=(None, 1) dtype=float32>, '20_21_MilNorm_Dawn': <tf.Tensor 'ExpandDims_21:0' shape=(None, 1) dtype=float32>, '04_08_MilNorm_Phantom': <tf.Tensor 'ExpandDims_3:0' shape=(None, 1) dtype=float32>, '09_11_MilNorm_Phantom': <tf.Tensor 'ExpandDims_7:0' shape=(None, 1) dtype=float32>, '12_14_MilNorm_Phantom': <tf.Tensor 'ExpandDims_11:0' shape=(None, 1) dtype=float32>, '15_17_MilNorm_Phantom': <tf.Tensor 'ExpandDims_15:0' shape=(None, 1) dtype=float32>, '18_19_MilNorm_Phantom': <tf.Tensor 'ExpandDims_19:0' shape=(None, 1) dtype=float32>, '20_21_MilNorm_Phantom': <tf.Tensor 'ExpandDims_23:0' shape=(None, 1) dtype=float32>}\n",
            "Consider rewriting this model with the Functional API.\n",
            " 1/11 [=>............................] - ETA: 8s - loss: 30519007232.0000 - root_mean_squared_error: 174696.9062WARNING:tensorflow:Layers in a Sequential model should only have a single input tensor, but we receive a <class 'dict'> input: {'04_08_MilNorm_Cullinan': <tf.Tensor 'ExpandDims:0' shape=(None, 1) dtype=float32>, '09_11_MilNorm_Cullinan': <tf.Tensor 'ExpandDims_4:0' shape=(None, 1) dtype=float32>, '12_14_MilNorm_Cullinan': <tf.Tensor 'ExpandDims_8:0' shape=(None, 1) dtype=float32>, '15_17_MilNorm_Cullinan': <tf.Tensor 'ExpandDims_12:0' shape=(None, 1) dtype=float32>, '18_19_MilNorm_Cullinan': <tf.Tensor 'ExpandDims_16:0' shape=(None, 1) dtype=float32>, '20_21_MilNorm_Cullinan': <tf.Tensor 'ExpandDims_20:0' shape=(None, 1) dtype=float32>, '04_08_MilNorm_Ghost': <tf.Tensor 'ExpandDims_2:0' shape=(None, 1) dtype=float32>, '09_11_MilNorm_Ghost': <tf.Tensor 'ExpandDims_6:0' shape=(None, 1) dtype=float32>, '12_14_MilNorm_Ghost': <tf.Tensor 'ExpandDims_10:0' shape=(None, 1) dtype=float32>, '15_17_MilNorm_Ghost': <tf.Tensor 'ExpandDims_14:0' shape=(None, 1) dtype=float32>, '18_19_MilNorm_Ghost': <tf.Tensor 'ExpandDims_18:0' shape=(None, 1) dtype=float32>, '20_21_MilNorm_Ghost': <tf.Tensor 'ExpandDims_22:0' shape=(None, 1) dtype=float32>, '04_08_MilNorm_Dawn': <tf.Tensor 'ExpandDims_1:0' shape=(None, 1) dtype=float32>, '09_11_MilNorm_Dawn': <tf.Tensor 'ExpandDims_5:0' shape=(None, 1) dtype=float32>, '12_14_MilNorm_Dawn': <tf.Tensor 'ExpandDims_9:0' shape=(None, 1) dtype=float32>, '15_17_MilNorm_Dawn': <tf.Tensor 'ExpandDims_13:0' shape=(None, 1) dtype=float32>, '18_19_MilNorm_Dawn': <tf.Tensor 'ExpandDims_17:0' shape=(None, 1) dtype=float32>, '20_21_MilNorm_Dawn': <tf.Tensor 'ExpandDims_21:0' shape=(None, 1) dtype=float32>, '04_08_MilNorm_Phantom': <tf.Tensor 'ExpandDims_3:0' shape=(None, 1) dtype=float32>, '09_11_MilNorm_Phantom': <tf.Tensor 'ExpandDims_7:0' shape=(None, 1) dtype=float32>, '12_14_MilNorm_Phantom': <tf.Tensor 'ExpandDims_11:0' shape=(None, 1) dtype=float32>, '15_17_MilNorm_Phantom': <tf.Tensor 'ExpandDims_15:0' shape=(None, 1) dtype=float32>, '18_19_MilNorm_Phantom': <tf.Tensor 'ExpandDims_19:0' shape=(None, 1) dtype=float32>, '20_21_MilNorm_Phantom': <tf.Tensor 'ExpandDims_23:0' shape=(None, 1) dtype=float32>}\n",
            "Consider rewriting this model with the Functional API.\n",
            "11/11 [==============================] - 1s 47ms/step - loss: 29284247381.3333 - root_mean_squared_error: 171056.1719 - val_loss: 31835543552.0000 - val_root_mean_squared_error: 178425.1719\n",
            "Epoch 2/200\n",
            "11/11 [==============================] - 0s 9ms/step - loss: 28458190336.0000 - root_mean_squared_error: 168547.5742 - val_loss: 31399184384.0000 - val_root_mean_squared_error: 177198.1562\n",
            "Epoch 3/200\n",
            "11/11 [==============================] - 0s 9ms/step - loss: 31027951104.0000 - root_mean_squared_error: 175967.9115 - val_loss: 30614159360.0000 - val_root_mean_squared_error: 174969.0312\n",
            "Epoch 4/200\n",
            "11/11 [==============================] - 0s 9ms/step - loss: 29312560469.3333 - root_mean_squared_error: 171090.4102 - val_loss: 29518393344.0000 - val_root_mean_squared_error: 171809.1875\n",
            "Epoch 5/200\n",
            "11/11 [==============================] - 0s 8ms/step - loss: 26984862720.0000 - root_mean_squared_error: 164169.7943 - val_loss: 27997874176.0000 - val_root_mean_squared_error: 167325.6562\n",
            "Epoch 6/200\n",
            "11/11 [==============================] - 0s 9ms/step - loss: 25760908288.0000 - root_mean_squared_error: 160467.3398 - val_loss: 26182178816.0000 - val_root_mean_squared_error: 161809.0781\n",
            "Epoch 7/200\n",
            "11/11 [==============================] - 0s 9ms/step - loss: 25369499648.0000 - root_mean_squared_error: 159204.9167 - val_loss: 24140951552.0000 - val_root_mean_squared_error: 155373.5938\n",
            "Epoch 8/200\n",
            "11/11 [==============================] - 0s 9ms/step - loss: 21504008533.3333 - root_mean_squared_error: 146435.2845 - val_loss: 21733619712.0000 - val_root_mean_squared_error: 147423.2656\n",
            "Epoch 9/200\n",
            "11/11 [==============================] - 0s 9ms/step - loss: 19030647893.3333 - root_mean_squared_error: 137853.5742 - val_loss: 19233708032.0000 - val_root_mean_squared_error: 138685.6406\n",
            "Epoch 10/200\n",
            "11/11 [==============================] - 0s 9ms/step - loss: 16695298986.6667 - root_mean_squared_error: 129167.5508 - val_loss: 16572949504.0000 - val_root_mean_squared_error: 128735.9609\n",
            "Epoch 11/200\n",
            "11/11 [==============================] - 0s 9ms/step - loss: 13673375146.6667 - root_mean_squared_error: 116751.9772 - val_loss: 14248796160.0000 - val_root_mean_squared_error: 119368.3203\n",
            "Epoch 12/200\n",
            "11/11 [==============================] - 0s 9ms/step - loss: 14417085525.3333 - root_mean_squared_error: 119559.5469 - val_loss: 12039767040.0000 - val_root_mean_squared_error: 109725.8750\n",
            "Epoch 13/200\n",
            "11/11 [==============================] - 0s 10ms/step - loss: 12055597312.0000 - root_mean_squared_error: 109450.1243 - val_loss: 9706923008.0000 - val_root_mean_squared_error: 98523.7188\n",
            "Epoch 14/200\n",
            "11/11 [==============================] - 0s 9ms/step - loss: 7455262805.3333 - root_mean_squared_error: 86035.1738 - val_loss: 7708180480.0000 - val_root_mean_squared_error: 87796.2422\n",
            "Epoch 15/200\n",
            "11/11 [==============================] - 0s 10ms/step - loss: 6722866816.0000 - root_mean_squared_error: 81856.7695 - val_loss: 6069479936.0000 - val_root_mean_squared_error: 77906.8672\n",
            "Epoch 16/200\n",
            "11/11 [==============================] - 0s 10ms/step - loss: 5599773674.6667 - root_mean_squared_error: 74431.9561 - val_loss: 5136617984.0000 - val_root_mean_squared_error: 71670.2031\n",
            "Epoch 17/200\n",
            "11/11 [==============================] - 0s 10ms/step - loss: 3547388160.0000 - root_mean_squared_error: 58759.1839 - val_loss: 4411038720.0000 - val_root_mean_squared_error: 66415.6484\n",
            "Epoch 18/200\n",
            "11/11 [==============================] - 0s 9ms/step - loss: 3847660224.0000 - root_mean_squared_error: 61935.9788 - val_loss: 3943665152.0000 - val_root_mean_squared_error: 62798.6094\n",
            "Epoch 19/200\n",
            "11/11 [==============================] - 0s 9ms/step - loss: 3983581066.6667 - root_mean_squared_error: 62608.7650 - val_loss: 3608845568.0000 - val_root_mean_squared_error: 60073.6680\n",
            "Epoch 20/200\n",
            "11/11 [==============================] - 0s 8ms/step - loss: 2862107850.6667 - root_mean_squared_error: 53249.4850 - val_loss: 3313360384.0000 - val_root_mean_squared_error: 57561.7969\n",
            "Epoch 21/200\n",
            "11/11 [==============================] - 0s 10ms/step - loss: 3314180746.6667 - root_mean_squared_error: 57207.6657 - val_loss: 3103138560.0000 - val_root_mean_squared_error: 55705.8203\n",
            "Epoch 22/200\n",
            "11/11 [==============================] - 0s 10ms/step - loss: 3584206933.3333 - root_mean_squared_error: 59285.1992 - val_loss: 2942056960.0000 - val_root_mean_squared_error: 54240.7305\n",
            "Epoch 23/200\n",
            "11/11 [==============================] - 0s 10ms/step - loss: 2793777792.0000 - root_mean_squared_error: 52778.5199 - val_loss: 2720445184.0000 - val_root_mean_squared_error: 52157.8867\n",
            "Epoch 24/200\n",
            "11/11 [==============================] - 0s 10ms/step - loss: 2531045077.3333 - root_mean_squared_error: 50269.0654 - val_loss: 2607936512.0000 - val_root_mean_squared_error: 51067.9609\n",
            "Epoch 25/200\n",
            "11/11 [==============================] - 0s 10ms/step - loss: 2114076160.0000 - root_mean_squared_error: 45801.6312 - val_loss: 2460654848.0000 - val_root_mean_squared_error: 49604.9883\n",
            "Epoch 26/200\n",
            "11/11 [==============================] - 0s 9ms/step - loss: 1886769642.6667 - root_mean_squared_error: 43228.0944 - val_loss: 2370152192.0000 - val_root_mean_squared_error: 48684.2070\n",
            "Epoch 27/200\n",
            "11/11 [==============================] - 0s 9ms/step - loss: 2308122218.6667 - root_mean_squared_error: 47782.1462 - val_loss: 2267138304.0000 - val_root_mean_squared_error: 47614.4766\n",
            "Epoch 28/200\n",
            "11/11 [==============================] - 0s 10ms/step - loss: 2244548010.6667 - root_mean_squared_error: 47273.3451 - val_loss: 2175964160.0000 - val_root_mean_squared_error: 46647.2305\n",
            "Epoch 29/200\n",
            "11/11 [==============================] - 0s 10ms/step - loss: 2071770240.0000 - root_mean_squared_error: 45019.6823 - val_loss: 2135157888.0000 - val_root_mean_squared_error: 46207.7695\n",
            "Epoch 30/200\n",
            "11/11 [==============================] - 0s 9ms/step - loss: 2319708992.0000 - root_mean_squared_error: 48041.0579 - val_loss: 2073696896.0000 - val_root_mean_squared_error: 45537.8633\n",
            "Epoch 31/200\n",
            "11/11 [==============================] - 0s 10ms/step - loss: 1529614560.0000 - root_mean_squared_error: 38937.6719 - val_loss: 2008225024.0000 - val_root_mean_squared_error: 44813.2227\n",
            "Epoch 32/200\n",
            "11/11 [==============================] - 0s 10ms/step - loss: 2246367386.6667 - root_mean_squared_error: 46762.8840 - val_loss: 1995981056.0000 - val_root_mean_squared_error: 44676.4023\n",
            "Epoch 33/200\n",
            "11/11 [==============================] - 0s 9ms/step - loss: 1335540517.3333 - root_mean_squared_error: 36285.3283 - val_loss: 1917767680.0000 - val_root_mean_squared_error: 43792.3242\n",
            "Epoch 34/200\n",
            "11/11 [==============================] - 0s 9ms/step - loss: 1821958904.0000 - root_mean_squared_error: 42059.1354 - val_loss: 1880556288.0000 - val_root_mean_squared_error: 43365.3828\n",
            "Epoch 35/200\n",
            "11/11 [==============================] - 0s 9ms/step - loss: 1541252656.0000 - root_mean_squared_error: 39146.8411 - val_loss: 1834744832.0000 - val_root_mean_squared_error: 42833.9219\n",
            "Epoch 36/200\n",
            "11/11 [==============================] - 0s 9ms/step - loss: 1500345777.3333 - root_mean_squared_error: 37672.6458 - val_loss: 1804191104.0000 - val_root_mean_squared_error: 42475.7695\n",
            "Epoch 37/200\n",
            "11/11 [==============================] - 0s 9ms/step - loss: 2176977706.6667 - root_mean_squared_error: 45969.8496 - val_loss: 1749868544.0000 - val_root_mean_squared_error: 41831.4297\n",
            "Epoch 38/200\n",
            "11/11 [==============================] - 0s 9ms/step - loss: 1776968309.3333 - root_mean_squared_error: 42119.4535 - val_loss: 1702413824.0000 - val_root_mean_squared_error: 41260.3164\n",
            "Epoch 39/200\n",
            "11/11 [==============================] - 0s 10ms/step - loss: 1564898613.3333 - root_mean_squared_error: 39497.9036 - val_loss: 1673765632.0000 - val_root_mean_squared_error: 40911.6797\n",
            "Epoch 40/200\n",
            "11/11 [==============================] - 0s 11ms/step - loss: 1696203925.3333 - root_mean_squared_error: 41078.6204 - val_loss: 1658922624.0000 - val_root_mean_squared_error: 40729.8750\n",
            "Epoch 41/200\n",
            "11/11 [==============================] - 0s 9ms/step - loss: 1278877146.6667 - root_mean_squared_error: 35548.0653 - val_loss: 1581800064.0000 - val_root_mean_squared_error: 39771.8516\n",
            "Epoch 42/200\n",
            "11/11 [==============================] - 0s 9ms/step - loss: 1229985109.3333 - root_mean_squared_error: 34789.9424 - val_loss: 1553735936.0000 - val_root_mean_squared_error: 39417.4570\n",
            "Epoch 43/200\n",
            "11/11 [==============================] - 0s 9ms/step - loss: 1496044416.0000 - root_mean_squared_error: 38416.5628 - val_loss: 1498109696.0000 - val_root_mean_squared_error: 38705.4219\n",
            "Epoch 44/200\n",
            "11/11 [==============================] - 0s 9ms/step - loss: 1543067893.3333 - root_mean_squared_error: 39202.6676 - val_loss: 1456407936.0000 - val_root_mean_squared_error: 38162.9141\n",
            "Epoch 45/200\n",
            "11/11 [==============================] - 0s 9ms/step - loss: 1440856064.0000 - root_mean_squared_error: 37809.9035 - val_loss: 1426033280.0000 - val_root_mean_squared_error: 37762.8555\n",
            "Epoch 46/200\n",
            "11/11 [==============================] - 0s 10ms/step - loss: 1157347397.3333 - root_mean_squared_error: 33837.6434 - val_loss: 1368361216.0000 - val_root_mean_squared_error: 36991.3672\n",
            "Epoch 47/200\n",
            "11/11 [==============================] - 0s 10ms/step - loss: 1259673106.6667 - root_mean_squared_error: 35179.7225 - val_loss: 1340382720.0000 - val_root_mean_squared_error: 36611.2383\n",
            "Epoch 48/200\n",
            "11/11 [==============================] - 0s 9ms/step - loss: 1385279909.3333 - root_mean_squared_error: 37133.3413 - val_loss: 1301213696.0000 - val_root_mean_squared_error: 36072.3398\n",
            "Epoch 49/200\n",
            "11/11 [==============================] - 0s 9ms/step - loss: 1354477072.0000 - root_mean_squared_error: 36676.7448 - val_loss: 1269307776.0000 - val_root_mean_squared_error: 35627.3477\n",
            "Epoch 50/200\n",
            "11/11 [==============================] - 0s 8ms/step - loss: 1449938880.0000 - root_mean_squared_error: 37974.7861 - val_loss: 1262713728.0000 - val_root_mean_squared_error: 35534.6836\n",
            "Epoch 51/200\n",
            "11/11 [==============================] - 0s 10ms/step - loss: 993894522.6667 - root_mean_squared_error: 31329.6921 - val_loss: 1199958400.0000 - val_root_mean_squared_error: 34640.4141\n",
            "Epoch 52/200\n",
            "11/11 [==============================] - 0s 10ms/step - loss: 1540544778.6667 - root_mean_squared_error: 38820.6536 - val_loss: 1165217024.0000 - val_root_mean_squared_error: 34135.2734\n",
            "Epoch 53/200\n",
            "11/11 [==============================] - 0s 9ms/step - loss: 1198917648.0000 - root_mean_squared_error: 34575.2269 - val_loss: 1134398848.0000 - val_root_mean_squared_error: 33680.8398\n",
            "Epoch 54/200\n",
            "11/11 [==============================] - 0s 9ms/step - loss: 1054923144.0000 - root_mean_squared_error: 32234.3271 - val_loss: 1127908992.0000 - val_root_mean_squared_error: 33584.3555\n",
            "Epoch 55/200\n",
            "11/11 [==============================] - 0s 9ms/step - loss: 901848384.0000 - root_mean_squared_error: 29850.5916 - val_loss: 1061479872.0000 - val_root_mean_squared_error: 32580.3594\n",
            "Epoch 56/200\n",
            "11/11 [==============================] - 0s 9ms/step - loss: 1235410778.6667 - root_mean_squared_error: 35026.6686 - val_loss: 1036763200.0000 - val_root_mean_squared_error: 32198.8066\n",
            "Epoch 57/200\n",
            "11/11 [==============================] - 0s 10ms/step - loss: 970006776.0000 - root_mean_squared_error: 30627.2873 - val_loss: 1013428608.0000 - val_root_mean_squared_error: 31834.3926\n",
            "Epoch 58/200\n",
            "11/11 [==============================] - 0s 11ms/step - loss: 1001952352.0000 - root_mean_squared_error: 31566.0736 - val_loss: 985095040.0000 - val_root_mean_squared_error: 31386.2227\n",
            "Epoch 59/200\n",
            "11/11 [==============================] - 0s 10ms/step - loss: 805997664.0000 - root_mean_squared_error: 28200.9494 - val_loss: 969916032.0000 - val_root_mean_squared_error: 31143.4746\n",
            "Epoch 60/200\n",
            "11/11 [==============================] - 0s 9ms/step - loss: 1142756522.6667 - root_mean_squared_error: 33701.9618 - val_loss: 919253312.0000 - val_root_mean_squared_error: 30319.1914\n",
            "Epoch 61/200\n",
            "11/11 [==============================] - 0s 9ms/step - loss: 1142969562.6667 - root_mean_squared_error: 33722.0518 - val_loss: 904088256.0000 - val_root_mean_squared_error: 30068.0605\n",
            "Epoch 62/200\n",
            "11/11 [==============================] - 0s 10ms/step - loss: 1072128240.0000 - root_mean_squared_error: 32646.8913 - val_loss: 874757056.0000 - val_root_mean_squared_error: 29576.2930\n",
            "Epoch 63/200\n",
            "11/11 [==============================] - 0s 10ms/step - loss: 921257477.3333 - root_mean_squared_error: 30211.7135 - val_loss: 848256256.0000 - val_root_mean_squared_error: 29124.8398\n",
            "Epoch 64/200\n",
            "11/11 [==============================] - 0s 9ms/step - loss: 942471701.3333 - root_mean_squared_error: 30592.0055 - val_loss: 833794944.0000 - val_root_mean_squared_error: 28875.5078\n",
            "Epoch 65/200\n",
            "11/11 [==============================] - 0s 9ms/step - loss: 959000256.0000 - root_mean_squared_error: 30914.4688 - val_loss: 811718144.0000 - val_root_mean_squared_error: 28490.6680\n",
            "Epoch 66/200\n",
            "11/11 [==============================] - 0s 9ms/step - loss: 1101111941.3333 - root_mean_squared_error: 33058.2912 - val_loss: 776987136.0000 - val_root_mean_squared_error: 27874.4883\n",
            "Epoch 67/200\n",
            "11/11 [==============================] - 0s 9ms/step - loss: 859257584.0000 - root_mean_squared_error: 29246.7616 - val_loss: 758174144.0000 - val_root_mean_squared_error: 27534.9609\n",
            "Epoch 68/200\n",
            "11/11 [==============================] - 0s 10ms/step - loss: 840249312.0000 - root_mean_squared_error: 28887.8620 - val_loss: 734166848.0000 - val_root_mean_squared_error: 27095.5117\n",
            "Epoch 69/200\n",
            "11/11 [==============================] - 0s 10ms/step - loss: 945505792.0000 - root_mean_squared_error: 30711.9730 - val_loss: 727400384.0000 - val_root_mean_squared_error: 26970.3613\n",
            "Epoch 70/200\n",
            "11/11 [==============================] - 0s 11ms/step - loss: 1155606288.0000 - root_mean_squared_error: 33843.2821 - val_loss: 708526016.0000 - val_root_mean_squared_error: 26618.1523\n",
            "Epoch 71/200\n",
            "11/11 [==============================] - 0s 10ms/step - loss: 792014845.3333 - root_mean_squared_error: 27793.7433 - val_loss: 680079808.0000 - val_root_mean_squared_error: 26078.3398\n",
            "Epoch 72/200\n",
            "11/11 [==============================] - 0s 9ms/step - loss: 1086907338.6667 - root_mean_squared_error: 32800.4206 - val_loss: 661915072.0000 - val_root_mean_squared_error: 25727.7109\n",
            "Epoch 73/200\n",
            "11/11 [==============================] - 0s 11ms/step - loss: 779984517.3333 - root_mean_squared_error: 27871.0654 - val_loss: 657701568.0000 - val_root_mean_squared_error: 25645.6934\n",
            "Epoch 74/200\n",
            "11/11 [==============================] - 0s 9ms/step - loss: 865625282.6667 - root_mean_squared_error: 29286.6934 - val_loss: 641426688.0000 - val_root_mean_squared_error: 25326.4023\n",
            "Epoch 75/200\n",
            "11/11 [==============================] - 0s 9ms/step - loss: 938520794.6667 - root_mean_squared_error: 30570.0252 - val_loss: 675384448.0000 - val_root_mean_squared_error: 25988.1602\n",
            "Epoch 76/200\n",
            "11/11 [==============================] - 0s 10ms/step - loss: 952473733.3333 - root_mean_squared_error: 30834.7409 - val_loss: 616898944.0000 - val_root_mean_squared_error: 24837.4492\n",
            "Epoch 77/200\n",
            "11/11 [==============================] - 0s 11ms/step - loss: 1154819610.6667 - root_mean_squared_error: 33613.1593 - val_loss: 597062080.0000 - val_root_mean_squared_error: 24434.8535\n",
            "Epoch 78/200\n",
            "11/11 [==============================] - 0s 10ms/step - loss: 771436109.3333 - root_mean_squared_error: 27417.3638 - val_loss: 634536576.0000 - val_root_mean_squared_error: 25190.0098\n",
            "Epoch 79/200\n",
            "11/11 [==============================] - 0s 9ms/step - loss: 782770200.0000 - root_mean_squared_error: 27882.8465 - val_loss: 585328320.0000 - val_root_mean_squared_error: 24193.5586\n",
            "Epoch 80/200\n",
            "11/11 [==============================] - 0s 9ms/step - loss: 1066432954.6667 - root_mean_squared_error: 32462.6979 - val_loss: 578200768.0000 - val_root_mean_squared_error: 24045.8047\n",
            "Epoch 81/200\n",
            "11/11 [==============================] - 0s 10ms/step - loss: 938236949.3333 - root_mean_squared_error: 30590.5431 - val_loss: 568276160.0000 - val_root_mean_squared_error: 23838.5430\n",
            "Epoch 82/200\n",
            "11/11 [==============================] - 0s 10ms/step - loss: 801215490.6667 - root_mean_squared_error: 28232.1227 - val_loss: 570160256.0000 - val_root_mean_squared_error: 23878.0293\n",
            "Epoch 83/200\n",
            "11/11 [==============================] - 0s 10ms/step - loss: 810677384.0000 - root_mean_squared_error: 28327.8088 - val_loss: 573484416.0000 - val_root_mean_squared_error: 23947.5352\n",
            "Epoch 84/200\n",
            "11/11 [==============================] - 0s 8ms/step - loss: 908011456.0000 - root_mean_squared_error: 30074.7148 - val_loss: 537656448.0000 - val_root_mean_squared_error: 23187.4199\n",
            "Epoch 85/200\n",
            "11/11 [==============================] - 0s 9ms/step - loss: 733410498.6667 - root_mean_squared_error: 26944.7786 - val_loss: 539652288.0000 - val_root_mean_squared_error: 23230.4180\n",
            "Epoch 86/200\n",
            "11/11 [==============================] - 0s 10ms/step - loss: 715211613.3333 - root_mean_squared_error: 26561.2306 - val_loss: 520723296.0000 - val_root_mean_squared_error: 22819.3633\n",
            "Epoch 87/200\n",
            "11/11 [==============================] - 0s 10ms/step - loss: 970654736.0000 - root_mean_squared_error: 31053.3641 - val_loss: 514715168.0000 - val_root_mean_squared_error: 22687.3359\n",
            "Epoch 88/200\n",
            "11/11 [==============================] - 0s 9ms/step - loss: 738258970.6667 - root_mean_squared_error: 27075.2002 - val_loss: 511270688.0000 - val_root_mean_squared_error: 22611.2949\n",
            "Epoch 89/200\n",
            "11/11 [==============================] - 0s 9ms/step - loss: 725018640.0000 - root_mean_squared_error: 26704.2581 - val_loss: 513217728.0000 - val_root_mean_squared_error: 22654.3086\n",
            "Epoch 90/200\n",
            "11/11 [==============================] - 0s 9ms/step - loss: 983018832.0000 - root_mean_squared_error: 31240.5101 - val_loss: 517138592.0000 - val_root_mean_squared_error: 22740.6816\n",
            "Epoch 91/200\n",
            "11/11 [==============================] - 0s 9ms/step - loss: 1021748101.3333 - root_mean_squared_error: 31741.5785 - val_loss: 497680928.0000 - val_root_mean_squared_error: 22308.7637\n",
            "Epoch 92/200\n",
            "11/11 [==============================] - 0s 9ms/step - loss: 1202110949.3333 - root_mean_squared_error: 34310.0986 - val_loss: 488187168.0000 - val_root_mean_squared_error: 22094.9570\n",
            "Epoch 93/200\n",
            "11/11 [==============================] - 0s 9ms/step - loss: 964500693.3333 - root_mean_squared_error: 30963.5345 - val_loss: 488853760.0000 - val_root_mean_squared_error: 22110.0371\n",
            "Epoch 94/200\n",
            "11/11 [==============================] - 0s 9ms/step - loss: 1007297200.0000 - root_mean_squared_error: 31644.9189 - val_loss: 495819072.0000 - val_root_mean_squared_error: 22266.9961\n",
            "Epoch 95/200\n",
            "11/11 [==============================] - 0s 10ms/step - loss: 838947520.0000 - root_mean_squared_error: 28847.2669 - val_loss: 508055872.0000 - val_root_mean_squared_error: 22540.0957\n",
            "Epoch 96/200\n",
            "11/11 [==============================] - 0s 10ms/step - loss: 867128122.6667 - root_mean_squared_error: 29389.5815 - val_loss: 493852000.0000 - val_root_mean_squared_error: 22222.7812\n",
            "Epoch 97/200\n",
            "11/11 [==============================] - 0s 10ms/step - loss: 730721898.6667 - root_mean_squared_error: 26946.5828 - val_loss: 484925760.0000 - val_root_mean_squared_error: 22021.0293\n",
            "Epoch 98/200\n",
            "11/11 [==============================] - 0s 10ms/step - loss: 819780426.6667 - root_mean_squared_error: 28439.3361 - val_loss: 483465888.0000 - val_root_mean_squared_error: 21987.8574\n",
            "Epoch 99/200\n",
            "11/11 [==============================] - 0s 12ms/step - loss: 668210848.0000 - root_mean_squared_error: 25653.0718 - val_loss: 528398208.0000 - val_root_mean_squared_error: 22986.9141\n",
            "Epoch 100/200\n",
            "11/11 [==============================] - 0s 9ms/step - loss: 889768554.6667 - root_mean_squared_error: 29769.4087 - val_loss: 525025408.0000 - val_root_mean_squared_error: 22913.4336\n",
            "Epoch 101/200\n",
            "11/11 [==============================] - 0s 10ms/step - loss: 902615264.0000 - root_mean_squared_error: 29961.7274 - val_loss: 612674368.0000 - val_root_mean_squared_error: 24752.2598\n",
            "Epoch 102/200\n",
            "11/11 [==============================] - 0s 9ms/step - loss: 879176117.3333 - root_mean_squared_error: 29556.8003 - val_loss: 547840384.0000 - val_root_mean_squared_error: 23405.9902\n",
            "Epoch 103/200\n",
            "11/11 [==============================] - 0s 10ms/step - loss: 953793200.0000 - root_mean_squared_error: 30836.2191 - val_loss: 511703008.0000 - val_root_mean_squared_error: 22620.8535\n",
            "Epoch 104/200\n",
            "11/11 [==============================] - 0s 10ms/step - loss: 804984893.3333 - root_mean_squared_error: 28275.5275 - val_loss: 522864384.0000 - val_root_mean_squared_error: 22866.2285\n",
            "Epoch 105/200\n",
            "11/11 [==============================] - 0s 9ms/step - loss: 734415733.3333 - root_mean_squared_error: 27001.0568 - val_loss: 593244928.0000 - val_root_mean_squared_error: 24356.6191\n",
            "Epoch 106/200\n",
            "11/11 [==============================] - 0s 9ms/step - loss: 856543701.3333 - root_mean_squared_error: 29252.5490 - val_loss: 508525024.0000 - val_root_mean_squared_error: 22550.5000\n",
            "Epoch 107/200\n",
            "11/11 [==============================] - 0s 9ms/step - loss: 812991040.0000 - root_mean_squared_error: 28445.2729 - val_loss: 505133728.0000 - val_root_mean_squared_error: 22475.1797\n",
            "Epoch 108/200\n",
            "11/11 [==============================] - 0s 9ms/step - loss: 750129386.6667 - root_mean_squared_error: 27200.7910 - val_loss: 637284224.0000 - val_root_mean_squared_error: 25244.4883\n",
            "Epoch 109/200\n",
            "11/11 [==============================] - 0s 9ms/step - loss: 739045700.0000 - root_mean_squared_error: 26771.0999 - val_loss: 508389472.0000 - val_root_mean_squared_error: 22547.4941\n",
            "Epoch 110/200\n",
            "11/11 [==============================] - 0s 9ms/step - loss: 883001621.3333 - root_mean_squared_error: 29662.2095 - val_loss: 570817088.0000 - val_root_mean_squared_error: 23891.7793\n",
            "Epoch 111/200\n",
            "11/11 [==============================] - 0s 10ms/step - loss: 766209336.0000 - root_mean_squared_error: 27585.6546 - val_loss: 514107648.0000 - val_root_mean_squared_error: 22673.9414\n",
            "Epoch 112/200\n",
            "11/11 [==============================] - 0s 9ms/step - loss: 776787973.3333 - root_mean_squared_error: 27772.2568 - val_loss: 499537856.0000 - val_root_mean_squared_error: 22350.3438\n",
            "Epoch 113/200\n",
            "11/11 [==============================] - 0s 9ms/step - loss: 849115189.3333 - root_mean_squared_error: 29118.8143 - val_loss: 560869504.0000 - val_root_mean_squared_error: 23682.6836\n",
            "Epoch 114/200\n",
            "11/11 [==============================] - 0s 11ms/step - loss: 816839733.3333 - root_mean_squared_error: 28513.1299 - val_loss: 533821696.0000 - val_root_mean_squared_error: 23104.5820\n",
            "Epoch 115/200\n",
            "11/11 [==============================] - 0s 9ms/step - loss: 827059349.3333 - root_mean_squared_error: 28691.2982 - val_loss: 614038400.0000 - val_root_mean_squared_error: 24779.7988\n",
            "Epoch 116/200\n",
            "11/11 [==============================] - 0s 9ms/step - loss: 744013058.6667 - root_mean_squared_error: 27184.5036 - val_loss: 572325376.0000 - val_root_mean_squared_error: 23923.3223\n",
            "Epoch 117/200\n",
            "11/11 [==============================] - 0s 10ms/step - loss: 799299710.6667 - root_mean_squared_error: 27856.0930 - val_loss: 529011808.0000 - val_root_mean_squared_error: 23000.2559\n",
            "Epoch 118/200\n",
            "11/11 [==============================] - 0s 10ms/step - loss: 824645189.3333 - root_mean_squared_error: 28619.3747 - val_loss: 586222848.0000 - val_root_mean_squared_error: 24212.0391\n"
          ],
          "name": "stdout"
        },
        {
          "output_type": "display_data",
          "data": {
            "image/png": "[encoded data removed]",
            "text/plain": [
              "<Figure size 432x288 with 1 Axes>"
            ]
          },
          "metadata": {
            "tags": [],
            "needs_background": "light"
          }
        }
      ]
    },
    {
      "cell_type": "code",
      "metadata": {
        "colab": {
          "base_uri": "https://localhost:8080/"
        },
        "id": "UvrBXgKeQ1Pn",
        "outputId": "0665e73e-4b88-4912-ae38-1b04a1ca63ea"
      },
      "source": [
        "test_rmse_Model_YearBinned_MileageNorm = model.evaluate(test_features_dict, test_labels, batch_size=batch_size, verbose=0)[1]\r\n",
        "print('Test RMSE with Model_Cat, Year_Binned, Mileage_Norm: {:.3f}'.format(test_rmse_Model_YearBinned_MileageNorm))"
      ],
      "execution_count": 87,
      "outputs": [
        {
          "output_type": "stream",
          "text": [
            "Test RMSE with Model_Cat, Year_Binned, Mileage_Norm: 47876.781\n"
          ],
          "name": "stdout"
        }
      ]
    },
    {
      "cell_type": "code",
      "metadata": {
        "id": "ZhP-TRzAaiaj"
      },
      "source": [
        "# Normalize Year with Z_transformation\r\n",
        "# Convert Cross Features into cross_features using feature_column\r\n",
        "# Add dropouts to above models\r\n",
        "# One-Hot Encode Years vs Normalize Years? Which works better?\r\n",
        "# Use Binning on Year, Mileage, Use Original Year, and Product of Original Year with Year_Binned - Do same for Mileage and Linear Regression"
      ],
      "execution_count": 88,
      "outputs": []
    },
    {
      "cell_type": "code",
      "metadata": {
        "colab": {
          "base_uri": "https://localhost:8080/",
          "height": 215
        },
        "id": "SCFBFiFl6b7N",
        "outputId": "964fa245-8e26-4b1b-b62b-f00b2c0a3fb3"
      },
      "source": [
        "rr3.head()"
      ],
      "execution_count": 126,
      "outputs": [
        {
          "output_type": "execute_result",
          "data": {
            "text/html": [
              "<div>\n",
              "<style scoped>\n",
              "    .dataframe tbody tr th:only-of-type {\n",
              "        vertical-align: middle;\n",
              "    }\n",
              "\n",
              "    .dataframe tbody tr th {\n",
              "        vertical-align: top;\n",
              "    }\n",
              "\n",
              "    .dataframe thead th {\n",
              "        text-align: right;\n",
              "    }\n",
              "</style>\n",
              "<table border=\"1\" class=\"dataframe\">\n",
              "  <thead>\n",
              "    <tr style=\"text-align: right;\">\n",
              "      <th></th>\n",
              "      <th>Year</th>\n",
              "      <th>Mileage</th>\n",
              "      <th>Model_Cullinan</th>\n",
              "      <th>Model_Dawn</th>\n",
              "      <th>Model_Ghost</th>\n",
              "      <th>Model_Phantom</th>\n",
              "      <th>Seller_Type_Dealer</th>\n",
              "      <th>Seller_Type_Individual</th>\n",
              "      <th>Year_Binned_2004_2008</th>\n",
              "      <th>Year_Binned_2009_2011</th>\n",
              "      <th>Year_Binned_2012_2014</th>\n",
              "      <th>Year_Binned_2015_2017</th>\n",
              "      <th>Year_Binned_2018_2019</th>\n",
              "      <th>Year_Binned_2020_2021</th>\n",
              "      <th>Mileage_Norm</th>\n",
              "      <th>2015_2017_Mileage_Norm</th>\n",
              "      <th>2004_2008_Mileage_Norm</th>\n",
              "      <th>2009_2011_Mileage_Norm</th>\n",
              "      <th>2012_2014_Mileage_Norm</th>\n",
              "      <th>2018_2019_Mileage_Norm</th>\n",
              "      <th>2020_2021_Mileage_Norm</th>\n",
              "      <th>04_08_MilNorm_Cullinan</th>\n",
              "      <th>09_11_MilNorm_Cullinan</th>\n",
              "      <th>12_14_MilNorm_Cullinan</th>\n",
              "      <th>15_17_MilNorm_Cullinan</th>\n",
              "      <th>18_19_MilNorm_Cullinan</th>\n",
              "      <th>20_21_MilNorm_Cullinan</th>\n",
              "      <th>04_08_MilNorm_Ghost</th>\n",
              "      <th>09_11_MilNorm_Ghost</th>\n",
              "      <th>12_14_MilNorm_Ghost</th>\n",
              "      <th>15_17_MilNorm_Ghost</th>\n",
              "      <th>18_19_MilNorm_Ghost</th>\n",
              "      <th>20_21_MilNorm_Ghost</th>\n",
              "      <th>04_08_MilNorm_Dawn</th>\n",
              "      <th>09_11_MilNorm_Dawn</th>\n",
              "      <th>12_14_MilNorm_Dawn</th>\n",
              "      <th>15_17_MilNorm_Dawn</th>\n",
              "      <th>18_19_MilNorm_Dawn</th>\n",
              "      <th>20_21_MilNorm_Dawn</th>\n",
              "      <th>04_08_MilNorm_Phantom</th>\n",
              "      <th>09_11_MilNorm_Phantom</th>\n",
              "      <th>12_14_MilNorm_Phantom</th>\n",
              "      <th>15_17_MilNorm_Phantom</th>\n",
              "      <th>18_19_MilNorm_Phantom</th>\n",
              "      <th>20_21_MilNorm_Phantom</th>\n",
              "    </tr>\n",
              "  </thead>\n",
              "  <tbody>\n",
              "    <tr>\n",
              "      <th>90</th>\n",
              "      <td>2012</td>\n",
              "      <td>24000</td>\n",
              "      <td>0</td>\n",
              "      <td>0</td>\n",
              "      <td>1</td>\n",
              "      <td>0</td>\n",
              "      <td>1</td>\n",
              "      <td>0</td>\n",
              "      <td>0</td>\n",
              "      <td>1</td>\n",
              "      <td>0</td>\n",
              "      <td>0</td>\n",
              "      <td>0</td>\n",
              "      <td>0</td>\n",
              "      <td>-0.078165</td>\n",
              "      <td>-0.0</td>\n",
              "      <td>-0.0</td>\n",
              "      <td>-0.078165</td>\n",
              "      <td>-0.000000</td>\n",
              "      <td>-0.000000</td>\n",
              "      <td>-0.0</td>\n",
              "      <td>-0.0</td>\n",
              "      <td>-0.0</td>\n",
              "      <td>-0.0</td>\n",
              "      <td>-0.0</td>\n",
              "      <td>-0.000000</td>\n",
              "      <td>-0.0</td>\n",
              "      <td>-0.0</td>\n",
              "      <td>-0.078165</td>\n",
              "      <td>-0.000000</td>\n",
              "      <td>-0.0</td>\n",
              "      <td>-0.000000</td>\n",
              "      <td>-0.0</td>\n",
              "      <td>-0.0</td>\n",
              "      <td>-0.0</td>\n",
              "      <td>-0.0</td>\n",
              "      <td>-0.0</td>\n",
              "      <td>-0.0</td>\n",
              "      <td>-0.0</td>\n",
              "      <td>-0.0</td>\n",
              "      <td>-0.0</td>\n",
              "      <td>-0.0</td>\n",
              "      <td>-0.0</td>\n",
              "      <td>-0.0</td>\n",
              "      <td>-0.0</td>\n",
              "    </tr>\n",
              "    <tr>\n",
              "      <th>153</th>\n",
              "      <td>2019</td>\n",
              "      <td>8000</td>\n",
              "      <td>1</td>\n",
              "      <td>0</td>\n",
              "      <td>0</td>\n",
              "      <td>0</td>\n",
              "      <td>1</td>\n",
              "      <td>0</td>\n",
              "      <td>0</td>\n",
              "      <td>0</td>\n",
              "      <td>0</td>\n",
              "      <td>0</td>\n",
              "      <td>1</td>\n",
              "      <td>0</td>\n",
              "      <td>-0.650551</td>\n",
              "      <td>-0.0</td>\n",
              "      <td>-0.0</td>\n",
              "      <td>-0.000000</td>\n",
              "      <td>-0.000000</td>\n",
              "      <td>-0.650551</td>\n",
              "      <td>-0.0</td>\n",
              "      <td>-0.0</td>\n",
              "      <td>-0.0</td>\n",
              "      <td>-0.0</td>\n",
              "      <td>-0.0</td>\n",
              "      <td>-0.650551</td>\n",
              "      <td>-0.0</td>\n",
              "      <td>-0.0</td>\n",
              "      <td>-0.000000</td>\n",
              "      <td>-0.000000</td>\n",
              "      <td>-0.0</td>\n",
              "      <td>-0.000000</td>\n",
              "      <td>-0.0</td>\n",
              "      <td>-0.0</td>\n",
              "      <td>-0.0</td>\n",
              "      <td>-0.0</td>\n",
              "      <td>-0.0</td>\n",
              "      <td>-0.0</td>\n",
              "      <td>-0.0</td>\n",
              "      <td>-0.0</td>\n",
              "      <td>-0.0</td>\n",
              "      <td>-0.0</td>\n",
              "      <td>-0.0</td>\n",
              "      <td>-0.0</td>\n",
              "      <td>-0.0</td>\n",
              "    </tr>\n",
              "    <tr>\n",
              "      <th>113</th>\n",
              "      <td>2012</td>\n",
              "      <td>34509</td>\n",
              "      <td>0</td>\n",
              "      <td>0</td>\n",
              "      <td>1</td>\n",
              "      <td>0</td>\n",
              "      <td>1</td>\n",
              "      <td>0</td>\n",
              "      <td>0</td>\n",
              "      <td>1</td>\n",
              "      <td>0</td>\n",
              "      <td>0</td>\n",
              "      <td>0</td>\n",
              "      <td>0</td>\n",
              "      <td>0.297786</td>\n",
              "      <td>0.0</td>\n",
              "      <td>0.0</td>\n",
              "      <td>0.297786</td>\n",
              "      <td>0.000000</td>\n",
              "      <td>0.000000</td>\n",
              "      <td>0.0</td>\n",
              "      <td>0.0</td>\n",
              "      <td>0.0</td>\n",
              "      <td>0.0</td>\n",
              "      <td>0.0</td>\n",
              "      <td>0.000000</td>\n",
              "      <td>0.0</td>\n",
              "      <td>0.0</td>\n",
              "      <td>0.297786</td>\n",
              "      <td>0.000000</td>\n",
              "      <td>0.0</td>\n",
              "      <td>0.000000</td>\n",
              "      <td>0.0</td>\n",
              "      <td>0.0</td>\n",
              "      <td>0.0</td>\n",
              "      <td>0.0</td>\n",
              "      <td>0.0</td>\n",
              "      <td>0.0</td>\n",
              "      <td>0.0</td>\n",
              "      <td>0.0</td>\n",
              "      <td>0.0</td>\n",
              "      <td>0.0</td>\n",
              "      <td>0.0</td>\n",
              "      <td>0.0</td>\n",
              "      <td>0.0</td>\n",
              "    </tr>\n",
              "    <tr>\n",
              "      <th>149</th>\n",
              "      <td>2018</td>\n",
              "      <td>2100</td>\n",
              "      <td>0</td>\n",
              "      <td>0</td>\n",
              "      <td>1</td>\n",
              "      <td>0</td>\n",
              "      <td>1</td>\n",
              "      <td>0</td>\n",
              "      <td>0</td>\n",
              "      <td>0</td>\n",
              "      <td>0</td>\n",
              "      <td>0</td>\n",
              "      <td>1</td>\n",
              "      <td>0</td>\n",
              "      <td>-0.861618</td>\n",
              "      <td>-0.0</td>\n",
              "      <td>-0.0</td>\n",
              "      <td>-0.000000</td>\n",
              "      <td>-0.000000</td>\n",
              "      <td>-0.861618</td>\n",
              "      <td>-0.0</td>\n",
              "      <td>-0.0</td>\n",
              "      <td>-0.0</td>\n",
              "      <td>-0.0</td>\n",
              "      <td>-0.0</td>\n",
              "      <td>-0.000000</td>\n",
              "      <td>-0.0</td>\n",
              "      <td>-0.0</td>\n",
              "      <td>-0.000000</td>\n",
              "      <td>-0.000000</td>\n",
              "      <td>-0.0</td>\n",
              "      <td>-0.861618</td>\n",
              "      <td>-0.0</td>\n",
              "      <td>-0.0</td>\n",
              "      <td>-0.0</td>\n",
              "      <td>-0.0</td>\n",
              "      <td>-0.0</td>\n",
              "      <td>-0.0</td>\n",
              "      <td>-0.0</td>\n",
              "      <td>-0.0</td>\n",
              "      <td>-0.0</td>\n",
              "      <td>-0.0</td>\n",
              "      <td>-0.0</td>\n",
              "      <td>-0.0</td>\n",
              "      <td>-0.0</td>\n",
              "    </tr>\n",
              "    <tr>\n",
              "      <th>130</th>\n",
              "      <td>2013</td>\n",
              "      <td>15218</td>\n",
              "      <td>0</td>\n",
              "      <td>0</td>\n",
              "      <td>1</td>\n",
              "      <td>0</td>\n",
              "      <td>1</td>\n",
              "      <td>0</td>\n",
              "      <td>0</td>\n",
              "      <td>0</td>\n",
              "      <td>1</td>\n",
              "      <td>0</td>\n",
              "      <td>0</td>\n",
              "      <td>0</td>\n",
              "      <td>-0.392333</td>\n",
              "      <td>-0.0</td>\n",
              "      <td>-0.0</td>\n",
              "      <td>-0.000000</td>\n",
              "      <td>-0.392333</td>\n",
              "      <td>-0.000000</td>\n",
              "      <td>-0.0</td>\n",
              "      <td>-0.0</td>\n",
              "      <td>-0.0</td>\n",
              "      <td>-0.0</td>\n",
              "      <td>-0.0</td>\n",
              "      <td>-0.000000</td>\n",
              "      <td>-0.0</td>\n",
              "      <td>-0.0</td>\n",
              "      <td>-0.000000</td>\n",
              "      <td>-0.392333</td>\n",
              "      <td>-0.0</td>\n",
              "      <td>-0.000000</td>\n",
              "      <td>-0.0</td>\n",
              "      <td>-0.0</td>\n",
              "      <td>-0.0</td>\n",
              "      <td>-0.0</td>\n",
              "      <td>-0.0</td>\n",
              "      <td>-0.0</td>\n",
              "      <td>-0.0</td>\n",
              "      <td>-0.0</td>\n",
              "      <td>-0.0</td>\n",
              "      <td>-0.0</td>\n",
              "      <td>-0.0</td>\n",
              "      <td>-0.0</td>\n",
              "      <td>-0.0</td>\n",
              "    </tr>\n",
              "  </tbody>\n",
              "</table>\n",
              "</div>"
            ],
            "text/plain": [
              "     Year  Mileage  ...  18_19_MilNorm_Phantom  20_21_MilNorm_Phantom\n",
              "90   2012    24000  ...                   -0.0                   -0.0\n",
              "153  2019     8000  ...                   -0.0                   -0.0\n",
              "113  2012    34509  ...                    0.0                    0.0\n",
              "149  2018     2100  ...                   -0.0                   -0.0\n",
              "130  2013    15218  ...                   -0.0                   -0.0\n",
              "\n",
              "[5 rows x 45 columns]"
            ]
          },
          "metadata": {
            "tags": []
          },
          "execution_count": 126
        }
      ]
    },
    {
      "cell_type": "code",
      "metadata": {
        "id": "en3a264RBQAz"
      },
      "source": [
        "cols_to_drop = ['04_08_MilNorm_Cullinan', '09_11_MilNorm_Cullinan',\r\n",
        "       '12_14_MilNorm_Cullinan', '15_17_MilNorm_Cullinan',\r\n",
        "       '18_19_MilNorm_Cullinan', '20_21_MilNorm_Cullinan',\r\n",
        "       '04_08_MilNorm_Ghost', '09_11_MilNorm_Ghost', '12_14_MilNorm_Ghost',\r\n",
        "       '15_17_MilNorm_Ghost', '18_19_MilNorm_Ghost', '20_21_MilNorm_Ghost',\r\n",
        "       '04_08_MilNorm_Dawn', '09_11_MilNorm_Dawn', '12_14_MilNorm_Dawn',\r\n",
        "       '15_17_MilNorm_Dawn', '18_19_MilNorm_Dawn', '20_21_MilNorm_Dawn',\r\n",
        "       '04_08_MilNorm_Phantom', '09_11_MilNorm_Phantom',\r\n",
        "       '12_14_MilNorm_Phantom', '15_17_MilNorm_Phantom',\r\n",
        "       '18_19_MilNorm_Phantom', '20_21_MilNorm_Phantom']\r\n",
        "\r\n",
        "rr3.drop(labels=cols_to_drop, axis=1, inplace=True)"
      ],
      "execution_count": 142,
      "outputs": []
    },
    {
      "cell_type": "markdown",
      "metadata": {
        "id": "JBeRX1RRzy0K"
      },
      "source": [
        "## **Functional API Modeling in Keras and TensorFlow**\r\n",
        "\r\n",
        "While sing Functional_API, we can use Dropout to minimize overfitting by randomnly setting weights of features to 0 in nodes while training."
      ]
    },
    {
      "cell_type": "code",
      "metadata": {
        "id": "7wsIBw7Z0F1A"
      },
      "source": [
        ""
      ],
      "execution_count": 88,
      "outputs": []
    },
    {
      "cell_type": "code",
      "metadata": {
        "id": "lx68Mh6kz_Ng"
      },
      "source": [
        ""
      ],
      "execution_count": 88,
      "outputs": []
    },
    {
      "cell_type": "code",
      "metadata": {
        "id": "4Uvdv7JyzAbI"
      },
      "source": [
        ""
      ],
      "execution_count": 88,
      "outputs": []
    },
    {
      "cell_type": "markdown",
      "metadata": {
        "id": "B7tIgzbZMNFN"
      },
      "source": [
        "## **Modelling in Scikit Learn**"
      ]
    },
    {
      "cell_type": "code",
      "metadata": {
        "id": "ufVGs7L9MQlB"
      },
      "source": [
        "import sklearn\r\n",
        "from sklearn.linear_model import LinearRegression\r\n",
        "from sklearn.ensemble import RandomForestRegressor\r\n",
        "from sklearn.model_selection import train_test_split\r\n",
        "from sklearn.metrics import mean_squared_error"
      ],
      "execution_count": 89,
      "outputs": []
    },
    {
      "cell_type": "code",
      "metadata": {
        "colab": {
          "base_uri": "https://localhost:8080/",
          "height": 282
        },
        "id": "KUYxC2mVGdpg",
        "outputId": "7c44ccf7-f87e-49e9-d708-6311b619fc19"
      },
      "source": [
        "# Only including Models after 2004\r\n",
        "\r\n",
        "sns.scatterplot(x=rr2['Year'], y=rr2['Price'])\r\n",
        "plt.show()"
      ],
      "execution_count": 90,
      "outputs": [
        {
          "output_type": "display_data",
          "data": {
            "image/png": "[encoded data removed]",
            "text/plain": [
              "<Figure size 432x288 with 1 Axes>"
            ]
          },
          "metadata": {
            "tags": [],
            "needs_background": "light"
          }
        }
      ]
    },
    {
      "cell_type": "code",
      "metadata": {
        "colab": {
          "base_uri": "https://localhost:8080/"
        },
        "id": "CcYJnkZwIUBA",
        "outputId": "b169532f-67b0-4b23-badb-de17516edc92"
      },
      "source": [
        "rr2_train.shape"
      ],
      "execution_count": 91,
      "outputs": [
        {
          "output_type": "execute_result",
          "data": {
            "text/plain": [
              "(154, 15)"
            ]
          },
          "metadata": {
            "tags": []
          },
          "execution_count": 91
        }
      ]
    },
    {
      "cell_type": "markdown",
      "metadata": {
        "id": "gAlb3yIQRFCd"
      },
      "source": [
        "### Simple Model with Only Year Mileage"
      ]
    },
    {
      "cell_type": "code",
      "metadata": {
        "id": "CC1ZtnyCREMN"
      },
      "source": [
        "sci_0 = rr.drop(['Unnamed: 0', 'Brand'], axis=1)\r\n",
        "sci_0 = sci_0[sci_0['Year'] >= 2004]\r\n",
        "\r\n",
        "sci_0_labels = sci_0.pop('Price')\r\n",
        "sci_0_features = sci_0[['Mileage', 'Year']]"
      ],
      "execution_count": 92,
      "outputs": []
    },
    {
      "cell_type": "code",
      "metadata": {
        "id": "Wdb48vSGREDw"
      },
      "source": [
        "X_train, X_test, y_train, y_test = train_test_split(sci_0_features, sci_0_labels, test_size=0.25, random_state=0, shuffle=True)"
      ],
      "execution_count": 93,
      "outputs": []
    },
    {
      "cell_type": "code",
      "metadata": {
        "colab": {
          "base_uri": "https://localhost:8080/"
        },
        "id": "D4lQbiGaWmUk",
        "outputId": "bfd9686d-8674-4223-b429-b7193f6e27a1"
      },
      "source": [
        "linreg = LinearRegression()\r\n",
        "linreg.fit(X_train, y_train)\r\n",
        "\r\n",
        "y_pred = linreg.predict(X_test)\r\n",
        "\r\n",
        "linreg.score(X_test, y_test)"
      ],
      "execution_count": 94,
      "outputs": [
        {
          "output_type": "execute_result",
          "data": {
            "text/plain": [
              "0.5395236220689275"
            ]
          },
          "metadata": {
            "tags": []
          },
          "execution_count": 94
        }
      ]
    },
    {
      "cell_type": "code",
      "metadata": {
        "colab": {
          "base_uri": "https://localhost:8080/"
        },
        "id": "VfteoLrwWmRL",
        "outputId": "5fae3eaf-ccf6-4a68-f3e5-e81e41a543af"
      },
      "source": [
        "print('RMSE_Test with Year, Mileage Non_Normalized : {:.2f}'.format(mean_squared_error(y_test, y_pred, squared=False)))"
      ],
      "execution_count": 95,
      "outputs": [
        {
          "output_type": "stream",
          "text": [
            "RMSE_Test with Year, Mileage Non_Normalized : 49013.78\n"
          ],
          "name": "stdout"
        }
      ]
    },
    {
      "cell_type": "markdown",
      "metadata": {
        "id": "qkxEEgBwOV0y"
      },
      "source": [
        "### Simple LinReg Model with OneHot_Encoding"
      ]
    },
    {
      "cell_type": "code",
      "metadata": {
        "id": "5WaxhlKxObL4"
      },
      "source": [
        "sci_0 = rr.drop(['Unnamed: 0', 'Brand'], axis=1)"
      ],
      "execution_count": 96,
      "outputs": []
    },
    {
      "cell_type": "code",
      "metadata": {
        "id": "fa6FJrvcObIJ"
      },
      "source": [
        "sci_0 = sci_0[sci_0['Year'] >= 2004]"
      ],
      "execution_count": 97,
      "outputs": []
    },
    {
      "cell_type": "code",
      "metadata": {
        "id": "NQgpp_7AObEJ"
      },
      "source": [
        "sci_0_labels = sci_0.pop('Price')\r\n",
        "sci_0_features = sci_0"
      ],
      "execution_count": 98,
      "outputs": []
    },
    {
      "cell_type": "code",
      "metadata": {
        "id": "BX4mqUQRQIIU"
      },
      "source": [
        "sci_0_features = pd.get_dummies(sci_0_features, columns=['Model', 'Seller_Type'])"
      ],
      "execution_count": 99,
      "outputs": []
    },
    {
      "cell_type": "code",
      "metadata": {
        "colab": {
          "base_uri": "https://localhost:8080/",
          "height": 195
        },
        "id": "9iaGBnGQQkYL",
        "outputId": "2361e7f4-80ee-4661-ff25-430c32d2fc14"
      },
      "source": [
        "sci_0_features.head()"
      ],
      "execution_count": 100,
      "outputs": [
        {
          "output_type": "execute_result",
          "data": {
            "text/html": [
              "<div>\n",
              "<style scoped>\n",
              "    .dataframe tbody tr th:only-of-type {\n",
              "        vertical-align: middle;\n",
              "    }\n",
              "\n",
              "    .dataframe tbody tr th {\n",
              "        vertical-align: top;\n",
              "    }\n",
              "\n",
              "    .dataframe thead th {\n",
              "        text-align: right;\n",
              "    }\n",
              "</style>\n",
              "<table border=\"1\" class=\"dataframe\">\n",
              "  <thead>\n",
              "    <tr style=\"text-align: right;\">\n",
              "      <th></th>\n",
              "      <th>Year</th>\n",
              "      <th>Mileage</th>\n",
              "      <th>Model_Cullinan</th>\n",
              "      <th>Model_Dawn</th>\n",
              "      <th>Model_Ghost</th>\n",
              "      <th>Model_Phantom</th>\n",
              "      <th>Seller_Type_Dealer</th>\n",
              "      <th>Seller_Type_Individual</th>\n",
              "    </tr>\n",
              "  </thead>\n",
              "  <tbody>\n",
              "    <tr>\n",
              "      <th>0</th>\n",
              "      <td>2007</td>\n",
              "      <td>38000</td>\n",
              "      <td>0</td>\n",
              "      <td>0</td>\n",
              "      <td>0</td>\n",
              "      <td>1</td>\n",
              "      <td>1</td>\n",
              "      <td>0</td>\n",
              "    </tr>\n",
              "    <tr>\n",
              "      <th>1</th>\n",
              "      <td>2006</td>\n",
              "      <td>56500</td>\n",
              "      <td>0</td>\n",
              "      <td>0</td>\n",
              "      <td>0</td>\n",
              "      <td>1</td>\n",
              "      <td>0</td>\n",
              "      <td>1</td>\n",
              "    </tr>\n",
              "    <tr>\n",
              "      <th>2</th>\n",
              "      <td>2015</td>\n",
              "      <td>6324</td>\n",
              "      <td>0</td>\n",
              "      <td>0</td>\n",
              "      <td>0</td>\n",
              "      <td>1</td>\n",
              "      <td>1</td>\n",
              "      <td>0</td>\n",
              "    </tr>\n",
              "    <tr>\n",
              "      <th>3</th>\n",
              "      <td>2009</td>\n",
              "      <td>21000</td>\n",
              "      <td>0</td>\n",
              "      <td>0</td>\n",
              "      <td>0</td>\n",
              "      <td>1</td>\n",
              "      <td>1</td>\n",
              "      <td>0</td>\n",
              "    </tr>\n",
              "    <tr>\n",
              "      <th>4</th>\n",
              "      <td>2004</td>\n",
              "      <td>107000</td>\n",
              "      <td>0</td>\n",
              "      <td>0</td>\n",
              "      <td>0</td>\n",
              "      <td>1</td>\n",
              "      <td>0</td>\n",
              "      <td>1</td>\n",
              "    </tr>\n",
              "  </tbody>\n",
              "</table>\n",
              "</div>"
            ],
            "text/plain": [
              "   Year  Mileage  ...  Seller_Type_Dealer  Seller_Type_Individual\n",
              "0  2007    38000  ...                   1                       0\n",
              "1  2006    56500  ...                   0                       1\n",
              "2  2015     6324  ...                   1                       0\n",
              "3  2009    21000  ...                   1                       0\n",
              "4  2004   107000  ...                   0                       1\n",
              "\n",
              "[5 rows x 8 columns]"
            ]
          },
          "metadata": {
            "tags": []
          },
          "execution_count": 100
        }
      ]
    },
    {
      "cell_type": "code",
      "metadata": {
        "id": "TjvipYAIOa1T"
      },
      "source": [
        "X_train, X_test, y_train, y_test = train_test_split(sci_0_features, sci_0_labels, test_size=0.25, random_state=0, shuffle=True)"
      ],
      "execution_count": 101,
      "outputs": []
    },
    {
      "cell_type": "code",
      "metadata": {
        "colab": {
          "base_uri": "https://localhost:8080/"
        },
        "id": "wJ5908xWPlxP",
        "outputId": "3010322a-c4a5-44ed-d926-34526acd46f4"
      },
      "source": [
        "linreg = LinearRegression()\r\n",
        "linreg.fit(X_train, y_train)\r\n",
        "\r\n",
        "y_pred = linreg.predict(X_test)\r\n",
        "\r\n",
        "linreg.score(X_test, y_test)"
      ],
      "execution_count": 102,
      "outputs": [
        {
          "output_type": "execute_result",
          "data": {
            "text/plain": [
              "0.7504237616865568"
            ]
          },
          "metadata": {
            "tags": []
          },
          "execution_count": 102
        }
      ]
    },
    {
      "cell_type": "code",
      "metadata": {
        "colab": {
          "base_uri": "https://localhost:8080/"
        },
        "id": "JUmVrWlDPlrA",
        "outputId": "522aa3c7-5835-492c-9621-72e83fbb5c3e"
      },
      "source": [
        "print('RMSE_Test with Only OneHot_Encoding : {:.2f}'.format(mean_squared_error(y_test, y_pred, squared=False)))"
      ],
      "execution_count": 103,
      "outputs": [
        {
          "output_type": "stream",
          "text": [
            "RMSE_Test with Only OneHot_Encoding : 36084.12\n"
          ],
          "name": "stdout"
        }
      ]
    },
    {
      "cell_type": "code",
      "metadata": {
        "id": "ndkuO9VAI49W"
      },
      "source": [
        "# # train-test arrays\r\n",
        "\r\n",
        "# train_features = rr2_train.values\r\n",
        "# train_labels = train_label.values\r\n",
        "\r\n",
        "# test_features = rr2_test.values\r\n",
        "# test_labels = test_label.values"
      ],
      "execution_count": 104,
      "outputs": []
    },
    {
      "cell_type": "markdown",
      "metadata": {
        "id": "_GOBgnclJF3r"
      },
      "source": [
        "### Simple Model with Binned_Year & One-Hot Encoding - Linear Regression"
      ]
    },
    {
      "cell_type": "code",
      "metadata": {
        "colab": {
          "base_uri": "https://localhost:8080/",
          "height": 215
        },
        "id": "ourDeln_JFCh",
        "outputId": "eb3b68bc-8c62-442a-ca8b-18fb4e33d2fa"
      },
      "source": [
        "rr2.head()"
      ],
      "execution_count": 105,
      "outputs": [
        {
          "output_type": "execute_result",
          "data": {
            "text/html": [
              "<div>\n",
              "<style scoped>\n",
              "    .dataframe tbody tr th:only-of-type {\n",
              "        vertical-align: middle;\n",
              "    }\n",
              "\n",
              "    .dataframe tbody tr th {\n",
              "        vertical-align: top;\n",
              "    }\n",
              "\n",
              "    .dataframe thead th {\n",
              "        text-align: right;\n",
              "    }\n",
              "</style>\n",
              "<table border=\"1\" class=\"dataframe\">\n",
              "  <thead>\n",
              "    <tr style=\"text-align: right;\">\n",
              "      <th></th>\n",
              "      <th>Year</th>\n",
              "      <th>Mileage</th>\n",
              "      <th>Price</th>\n",
              "      <th>Model_Cullinan</th>\n",
              "      <th>Model_Dawn</th>\n",
              "      <th>Model_Ghost</th>\n",
              "      <th>Model_Phantom</th>\n",
              "      <th>Seller_Type_Dealer</th>\n",
              "      <th>Seller_Type_Individual</th>\n",
              "      <th>Year_Binned_2004_2008</th>\n",
              "      <th>Year_Binned_2009_2011</th>\n",
              "      <th>Year_Binned_2012_2014</th>\n",
              "      <th>Year_Binned_2015_2017</th>\n",
              "      <th>Year_Binned_2018_2019</th>\n",
              "      <th>Year_Binned_2020_2021</th>\n",
              "    </tr>\n",
              "  </thead>\n",
              "  <tbody>\n",
              "    <tr>\n",
              "      <th>202</th>\n",
              "      <td>2019</td>\n",
              "      <td>3200</td>\n",
              "      <td>219995</td>\n",
              "      <td>0</td>\n",
              "      <td>1</td>\n",
              "      <td>0</td>\n",
              "      <td>0</td>\n",
              "      <td>1</td>\n",
              "      <td>0</td>\n",
              "      <td>0</td>\n",
              "      <td>0</td>\n",
              "      <td>0</td>\n",
              "      <td>0</td>\n",
              "      <td>1</td>\n",
              "      <td>0</td>\n",
              "    </tr>\n",
              "    <tr>\n",
              "      <th>116</th>\n",
              "      <td>2013</td>\n",
              "      <td>17500</td>\n",
              "      <td>87500</td>\n",
              "      <td>0</td>\n",
              "      <td>0</td>\n",
              "      <td>1</td>\n",
              "      <td>0</td>\n",
              "      <td>1</td>\n",
              "      <td>0</td>\n",
              "      <td>0</td>\n",
              "      <td>0</td>\n",
              "      <td>1</td>\n",
              "      <td>0</td>\n",
              "      <td>0</td>\n",
              "      <td>0</td>\n",
              "    </tr>\n",
              "    <tr>\n",
              "      <th>104</th>\n",
              "      <td>2017</td>\n",
              "      <td>17494</td>\n",
              "      <td>139890</td>\n",
              "      <td>0</td>\n",
              "      <td>0</td>\n",
              "      <td>1</td>\n",
              "      <td>0</td>\n",
              "      <td>1</td>\n",
              "      <td>0</td>\n",
              "      <td>0</td>\n",
              "      <td>0</td>\n",
              "      <td>0</td>\n",
              "      <td>1</td>\n",
              "      <td>0</td>\n",
              "      <td>0</td>\n",
              "    </tr>\n",
              "    <tr>\n",
              "      <th>46</th>\n",
              "      <td>2007</td>\n",
              "      <td>14000</td>\n",
              "      <td>93000</td>\n",
              "      <td>0</td>\n",
              "      <td>0</td>\n",
              "      <td>0</td>\n",
              "      <td>1</td>\n",
              "      <td>1</td>\n",
              "      <td>0</td>\n",
              "      <td>1</td>\n",
              "      <td>0</td>\n",
              "      <td>0</td>\n",
              "      <td>0</td>\n",
              "      <td>0</td>\n",
              "      <td>0</td>\n",
              "    </tr>\n",
              "    <tr>\n",
              "      <th>26</th>\n",
              "      <td>2004</td>\n",
              "      <td>73000</td>\n",
              "      <td>63950</td>\n",
              "      <td>0</td>\n",
              "      <td>0</td>\n",
              "      <td>0</td>\n",
              "      <td>1</td>\n",
              "      <td>0</td>\n",
              "      <td>1</td>\n",
              "      <td>1</td>\n",
              "      <td>0</td>\n",
              "      <td>0</td>\n",
              "      <td>0</td>\n",
              "      <td>0</td>\n",
              "      <td>0</td>\n",
              "    </tr>\n",
              "  </tbody>\n",
              "</table>\n",
              "</div>"
            ],
            "text/plain": [
              "     Year  Mileage  ...  Year_Binned_2018_2019  Year_Binned_2020_2021\n",
              "202  2019     3200  ...                      1                      0\n",
              "116  2013    17500  ...                      0                      0\n",
              "104  2017    17494  ...                      0                      0\n",
              "46   2007    14000  ...                      0                      0\n",
              "26   2004    73000  ...                      0                      0\n",
              "\n",
              "[5 rows x 15 columns]"
            ]
          },
          "metadata": {
            "tags": []
          },
          "execution_count": 105
        }
      ]
    },
    {
      "cell_type": "code",
      "metadata": {
        "id": "n6P1mC80HUtt"
      },
      "source": [
        "sci_1 = rr2.copy()"
      ],
      "execution_count": 106,
      "outputs": []
    },
    {
      "cell_type": "code",
      "metadata": {
        "colab": {
          "base_uri": "https://localhost:8080/"
        },
        "id": "L4Vzqu5cJywK",
        "outputId": "d921851a-e8ac-4f29-c106-c0865cc95fcc"
      },
      "source": [
        "sci_1.values"
      ],
      "execution_count": 107,
      "outputs": [
        {
          "output_type": "execute_result",
          "data": {
            "text/plain": [
              "array([[  2019,   3200, 219995, ...,      0,      1,      0],\n",
              "       [  2013,  17500,  87500, ...,      0,      0,      0],\n",
              "       [  2017,  17494, 139890, ...,      1,      0,      0],\n",
              "       ...,\n",
              "       [  2007,  53000, 105000, ...,      0,      0,      0],\n",
              "       [  2018,   7300, 175000, ...,      0,      1,      0],\n",
              "       [  2017,  22700, 152990, ...,      1,      0,      0]])"
            ]
          },
          "metadata": {
            "tags": []
          },
          "execution_count": 107
        }
      ]
    },
    {
      "cell_type": "code",
      "metadata": {
        "id": "l-2tq4jcJoln"
      },
      "source": [
        "labels = sci_1.pop('Price')\r\n",
        "features = sci_1"
      ],
      "execution_count": 108,
      "outputs": []
    },
    {
      "cell_type": "code",
      "metadata": {
        "id": "BmOg31Q1J8oY"
      },
      "source": [
        "X_train, X_test, y_train, y_test = train_test_split(features, labels, test_size = 0.25, random_state=0, shuffle=True)"
      ],
      "execution_count": 109,
      "outputs": []
    },
    {
      "cell_type": "code",
      "metadata": {
        "colab": {
          "base_uri": "https://localhost:8080/"
        },
        "id": "5uBJ17hbKMQE",
        "outputId": "1d7be698-8653-46ab-da4b-e2b9d2c23f8c"
      },
      "source": [
        "X_train.shape"
      ],
      "execution_count": 110,
      "outputs": [
        {
          "output_type": "execute_result",
          "data": {
            "text/plain": [
              "(153, 14)"
            ]
          },
          "metadata": {
            "tags": []
          },
          "execution_count": 110
        }
      ]
    },
    {
      "cell_type": "code",
      "metadata": {
        "colab": {
          "base_uri": "https://localhost:8080/"
        },
        "id": "jBRcQcr_Kuzg",
        "outputId": "35dfc134-a005-44ce-ace0-c9d0afb7eda5"
      },
      "source": [
        "X_test.shape"
      ],
      "execution_count": 111,
      "outputs": [
        {
          "output_type": "execute_result",
          "data": {
            "text/plain": [
              "(52, 14)"
            ]
          },
          "metadata": {
            "tags": []
          },
          "execution_count": 111
        }
      ]
    },
    {
      "cell_type": "code",
      "metadata": {
        "colab": {
          "base_uri": "https://localhost:8080/"
        },
        "id": "HN0PbYdOKwkG",
        "outputId": "a5c122ad-3a4b-4501-fa62-88f45317fafd"
      },
      "source": [
        "linreg = LinearRegression()\r\n",
        "linreg.fit(X_train, y_train)\r\n",
        "\r\n",
        "linreg.score(X_test, y_test)"
      ],
      "execution_count": 112,
      "outputs": [
        {
          "output_type": "execute_result",
          "data": {
            "text/plain": [
              "0.8623314182713853"
            ]
          },
          "metadata": {
            "tags": []
          },
          "execution_count": 112
        }
      ]
    },
    {
      "cell_type": "code",
      "metadata": {
        "colab": {
          "base_uri": "https://localhost:8080/"
        },
        "id": "DkpWHdkTL3zI",
        "outputId": "cb5eca19-205c-4f27-eb7c-67a2dd0eb2f0"
      },
      "source": [
        "from sklearn.metrics import mean_squared_error\r\n",
        "\r\n",
        "y_pred = linreg.predict(X_test)\r\n",
        "\r\n",
        "print('RMSE_Test with Binning & OneHot_Encoding: {:.2f}'.format(mean_squared_error(y_test, y_pred, squared=False)))"
      ],
      "execution_count": 113,
      "outputs": [
        {
          "output_type": "stream",
          "text": [
            "RMSE_Test with Binning & OneHot_Encoding: 29991.20\n"
          ],
          "name": "stdout"
        }
      ]
    },
    {
      "cell_type": "markdown",
      "metadata": {
        "id": "dmgC-LqILqSQ"
      },
      "source": [
        "### Z_score Normalizing, One-Hot Encoded, Binned"
      ]
    },
    {
      "cell_type": "code",
      "metadata": {
        "id": "4QDYNx-RLRzS"
      },
      "source": [
        "features['Mileage_Norm'] = (features['Mileage'] - features['Mileage'].mean())/features['Mileage'].std()\r\n",
        "features['Year_Norm'] = (features['Year'] - features['Year'].mean())/features['Year'].std()"
      ],
      "execution_count": 114,
      "outputs": []
    },
    {
      "cell_type": "code",
      "metadata": {
        "colab": {
          "base_uri": "https://localhost:8080/",
          "height": 215
        },
        "id": "fYPZnxE4LwRv",
        "outputId": "e53cbc1e-e87c-430e-a220-657eca5aa3dd"
      },
      "source": [
        "features.head()"
      ],
      "execution_count": 115,
      "outputs": [
        {
          "output_type": "execute_result",
          "data": {
            "text/html": [
              "<div>\n",
              "<style scoped>\n",
              "    .dataframe tbody tr th:only-of-type {\n",
              "        vertical-align: middle;\n",
              "    }\n",
              "\n",
              "    .dataframe tbody tr th {\n",
              "        vertical-align: top;\n",
              "    }\n",
              "\n",
              "    .dataframe thead th {\n",
              "        text-align: right;\n",
              "    }\n",
              "</style>\n",
              "<table border=\"1\" class=\"dataframe\">\n",
              "  <thead>\n",
              "    <tr style=\"text-align: right;\">\n",
              "      <th></th>\n",
              "      <th>Year</th>\n",
              "      <th>Mileage</th>\n",
              "      <th>Model_Cullinan</th>\n",
              "      <th>Model_Dawn</th>\n",
              "      <th>Model_Ghost</th>\n",
              "      <th>Model_Phantom</th>\n",
              "      <th>Seller_Type_Dealer</th>\n",
              "      <th>Seller_Type_Individual</th>\n",
              "      <th>Year_Binned_2004_2008</th>\n",
              "      <th>Year_Binned_2009_2011</th>\n",
              "      <th>Year_Binned_2012_2014</th>\n",
              "      <th>Year_Binned_2015_2017</th>\n",
              "      <th>Year_Binned_2018_2019</th>\n",
              "      <th>Year_Binned_2020_2021</th>\n",
              "      <th>Mileage_Norm</th>\n",
              "      <th>Year_Norm</th>\n",
              "    </tr>\n",
              "  </thead>\n",
              "  <tbody>\n",
              "    <tr>\n",
              "      <th>202</th>\n",
              "      <td>2019</td>\n",
              "      <td>3200</td>\n",
              "      <td>0</td>\n",
              "      <td>1</td>\n",
              "      <td>0</td>\n",
              "      <td>0</td>\n",
              "      <td>1</td>\n",
              "      <td>0</td>\n",
              "      <td>0</td>\n",
              "      <td>0</td>\n",
              "      <td>0</td>\n",
              "      <td>0</td>\n",
              "      <td>1</td>\n",
              "      <td>0</td>\n",
              "      <td>-0.842342</td>\n",
              "      <td>1.132099</td>\n",
              "    </tr>\n",
              "    <tr>\n",
              "      <th>116</th>\n",
              "      <td>2013</td>\n",
              "      <td>17500</td>\n",
              "      <td>0</td>\n",
              "      <td>0</td>\n",
              "      <td>1</td>\n",
              "      <td>0</td>\n",
              "      <td>1</td>\n",
              "      <td>0</td>\n",
              "      <td>0</td>\n",
              "      <td>0</td>\n",
              "      <td>1</td>\n",
              "      <td>0</td>\n",
              "      <td>0</td>\n",
              "      <td>0</td>\n",
              "      <td>-0.303779</td>\n",
              "      <td>-0.180325</td>\n",
              "    </tr>\n",
              "    <tr>\n",
              "      <th>104</th>\n",
              "      <td>2017</td>\n",
              "      <td>17494</td>\n",
              "      <td>0</td>\n",
              "      <td>0</td>\n",
              "      <td>1</td>\n",
              "      <td>0</td>\n",
              "      <td>1</td>\n",
              "      <td>0</td>\n",
              "      <td>0</td>\n",
              "      <td>0</td>\n",
              "      <td>0</td>\n",
              "      <td>1</td>\n",
              "      <td>0</td>\n",
              "      <td>0</td>\n",
              "      <td>-0.304005</td>\n",
              "      <td>0.694624</td>\n",
              "    </tr>\n",
              "    <tr>\n",
              "      <th>46</th>\n",
              "      <td>2007</td>\n",
              "      <td>14000</td>\n",
              "      <td>0</td>\n",
              "      <td>0</td>\n",
              "      <td>0</td>\n",
              "      <td>1</td>\n",
              "      <td>1</td>\n",
              "      <td>0</td>\n",
              "      <td>1</td>\n",
              "      <td>0</td>\n",
              "      <td>0</td>\n",
              "      <td>0</td>\n",
              "      <td>0</td>\n",
              "      <td>0</td>\n",
              "      <td>-0.435595</td>\n",
              "      <td>-1.492749</td>\n",
              "    </tr>\n",
              "    <tr>\n",
              "      <th>26</th>\n",
              "      <td>2004</td>\n",
              "      <td>73000</td>\n",
              "      <td>0</td>\n",
              "      <td>0</td>\n",
              "      <td>0</td>\n",
              "      <td>1</td>\n",
              "      <td>0</td>\n",
              "      <td>1</td>\n",
              "      <td>1</td>\n",
              "      <td>0</td>\n",
              "      <td>0</td>\n",
              "      <td>0</td>\n",
              "      <td>0</td>\n",
              "      <td>0</td>\n",
              "      <td>1.786449</td>\n",
              "      <td>-2.148961</td>\n",
              "    </tr>\n",
              "  </tbody>\n",
              "</table>\n",
              "</div>"
            ],
            "text/plain": [
              "     Year  Mileage  ...  Mileage_Norm  Year_Norm\n",
              "202  2019     3200  ...     -0.842342   1.132099\n",
              "116  2013    17500  ...     -0.303779  -0.180325\n",
              "104  2017    17494  ...     -0.304005   0.694624\n",
              "46   2007    14000  ...     -0.435595  -1.492749\n",
              "26   2004    73000  ...      1.786449  -2.148961\n",
              "\n",
              "[5 rows x 16 columns]"
            ]
          },
          "metadata": {
            "tags": []
          },
          "execution_count": 115
        }
      ]
    },
    {
      "cell_type": "code",
      "metadata": {
        "id": "pgx6J9mMM0-0"
      },
      "source": [
        "X_train, X_test, y_train, y_test = train_test_split(features, labels, test_size=0.25, random_state=0, shuffle=True)"
      ],
      "execution_count": 116,
      "outputs": []
    },
    {
      "cell_type": "code",
      "metadata": {
        "colab": {
          "base_uri": "https://localhost:8080/"
        },
        "id": "wXrQIaSdYnw4",
        "outputId": "af7fb567-d7a8-4337-8b4c-845b17b57f6a"
      },
      "source": [
        "print('No. of Features Used : {}'.format(X_train.shape[1]))"
      ],
      "execution_count": 117,
      "outputs": [
        {
          "output_type": "stream",
          "text": [
            "No. of Features Used : 16\n"
          ],
          "name": "stdout"
        }
      ]
    },
    {
      "cell_type": "code",
      "metadata": {
        "colab": {
          "base_uri": "https://localhost:8080/"
        },
        "id": "dQOIBX5tXoLz",
        "outputId": "b5110543-68ee-46d9-dc2b-639b1e050704"
      },
      "source": [
        "linreg = LinearRegression()\r\n",
        "linreg.fit(X_train, y_train)\r\n",
        "\r\n",
        "y_pred = linreg.predict(X_test)\r\n",
        "\r\n",
        "linreg.score(X_test, y_test)"
      ],
      "execution_count": 118,
      "outputs": [
        {
          "output_type": "execute_result",
          "data": {
            "text/plain": [
              "0.8623314182713806"
            ]
          },
          "metadata": {
            "tags": []
          },
          "execution_count": 118
        }
      ]
    },
    {
      "cell_type": "code",
      "metadata": {
        "colab": {
          "base_uri": "https://localhost:8080/"
        },
        "id": "kAgIib-vZaOZ",
        "outputId": "10f15d2b-5dfe-4814-e899-e6a17041fa23"
      },
      "source": [
        "print('RMSE_Test with Encoding & Normalization: {:.2f}'.format(mean_squared_error(y_test, y_pred, squared=False)))"
      ],
      "execution_count": 119,
      "outputs": [
        {
          "output_type": "stream",
          "text": [
            "RMSE_Test with Encoding & Normalization: 29991.20\n"
          ],
          "name": "stdout"
        }
      ]
    },
    {
      "cell_type": "markdown",
      "metadata": {
        "id": "M-aHLefnZ5LE"
      },
      "source": [
        "### Normalization, OneHot_Encoding, Binning & Cross_Features"
      ]
    },
    {
      "cell_type": "code",
      "metadata": {
        "id": "l4McwM9saUtb"
      },
      "source": [
        "features['MileNorm_YearNorm'] = features['Mileage_Norm']*features['Year_Norm']\r\n",
        "features['04_08_MilNorm'] = features['Year_Binned_2004_2008'] * features['Mileage_Norm']\r\n",
        "features['09_11_MilNorm'] = features['Year_Binned_2009_2011'] * features['Mileage_Norm']\r\n",
        "features['12_14_MilNorm'] = features['Year_Binned_2012_2014'] * features['Mileage_Norm']\r\n",
        "features['15_17_MilNorm'] = features['Year_Binned_2015_2017'] * features['Mileage_Norm']\r\n",
        "features['18_19_MilNorm'] = features['Year_Binned_2018_2019'] * features['Mileage_Norm']\r\n",
        "features['20_21_MilNorm'] = features['Year_Binned_2020_2021'] * features['Mileage_Norm']"
      ],
      "execution_count": 120,
      "outputs": []
    },
    {
      "cell_type": "code",
      "metadata": {
        "colab": {
          "base_uri": "https://localhost:8080/",
          "height": 215
        },
        "id": "Y3Aphp6JZm56",
        "outputId": "3a6a53dd-6e56-4041-8974-0f0e8fc98d97"
      },
      "source": [
        "features.head()"
      ],
      "execution_count": 121,
      "outputs": [
        {
          "output_type": "execute_result",
          "data": {
            "text/html": [
              "<div>\n",
              "<style scoped>\n",
              "    .dataframe tbody tr th:only-of-type {\n",
              "        vertical-align: middle;\n",
              "    }\n",
              "\n",
              "    .dataframe tbody tr th {\n",
              "        vertical-align: top;\n",
              "    }\n",
              "\n",
              "    .dataframe thead th {\n",
              "        text-align: right;\n",
              "    }\n",
              "</style>\n",
              "<table border=\"1\" class=\"dataframe\">\n",
              "  <thead>\n",
              "    <tr style=\"text-align: right;\">\n",
              "      <th></th>\n",
              "      <th>Year</th>\n",
              "      <th>Mileage</th>\n",
              "      <th>Model_Cullinan</th>\n",
              "      <th>Model_Dawn</th>\n",
              "      <th>Model_Ghost</th>\n",
              "      <th>Model_Phantom</th>\n",
              "      <th>Seller_Type_Dealer</th>\n",
              "      <th>Seller_Type_Individual</th>\n",
              "      <th>Year_Binned_2004_2008</th>\n",
              "      <th>Year_Binned_2009_2011</th>\n",
              "      <th>Year_Binned_2012_2014</th>\n",
              "      <th>Year_Binned_2015_2017</th>\n",
              "      <th>Year_Binned_2018_2019</th>\n",
              "      <th>Year_Binned_2020_2021</th>\n",
              "      <th>Mileage_Norm</th>\n",
              "      <th>Year_Norm</th>\n",
              "      <th>MileNorm_YearNorm</th>\n",
              "      <th>04_08_MilNorm</th>\n",
              "      <th>09_11_MilNorm</th>\n",
              "      <th>12_14_MilNorm</th>\n",
              "      <th>15_17_MilNorm</th>\n",
              "      <th>18_19_MilNorm</th>\n",
              "      <th>20_21_MilNorm</th>\n",
              "    </tr>\n",
              "  </thead>\n",
              "  <tbody>\n",
              "    <tr>\n",
              "      <th>202</th>\n",
              "      <td>2019</td>\n",
              "      <td>3200</td>\n",
              "      <td>0</td>\n",
              "      <td>1</td>\n",
              "      <td>0</td>\n",
              "      <td>0</td>\n",
              "      <td>1</td>\n",
              "      <td>0</td>\n",
              "      <td>0</td>\n",
              "      <td>0</td>\n",
              "      <td>0</td>\n",
              "      <td>0</td>\n",
              "      <td>1</td>\n",
              "      <td>0</td>\n",
              "      <td>-0.842342</td>\n",
              "      <td>1.132099</td>\n",
              "      <td>-0.953615</td>\n",
              "      <td>-0.000000</td>\n",
              "      <td>-0.0</td>\n",
              "      <td>-0.000000</td>\n",
              "      <td>-0.000000</td>\n",
              "      <td>-0.842342</td>\n",
              "      <td>-0.0</td>\n",
              "    </tr>\n",
              "    <tr>\n",
              "      <th>116</th>\n",
              "      <td>2013</td>\n",
              "      <td>17500</td>\n",
              "      <td>0</td>\n",
              "      <td>0</td>\n",
              "      <td>1</td>\n",
              "      <td>0</td>\n",
              "      <td>1</td>\n",
              "      <td>0</td>\n",
              "      <td>0</td>\n",
              "      <td>0</td>\n",
              "      <td>1</td>\n",
              "      <td>0</td>\n",
              "      <td>0</td>\n",
              "      <td>0</td>\n",
              "      <td>-0.303779</td>\n",
              "      <td>-0.180325</td>\n",
              "      <td>0.054779</td>\n",
              "      <td>-0.000000</td>\n",
              "      <td>-0.0</td>\n",
              "      <td>-0.303779</td>\n",
              "      <td>-0.000000</td>\n",
              "      <td>-0.000000</td>\n",
              "      <td>-0.0</td>\n",
              "    </tr>\n",
              "    <tr>\n",
              "      <th>104</th>\n",
              "      <td>2017</td>\n",
              "      <td>17494</td>\n",
              "      <td>0</td>\n",
              "      <td>0</td>\n",
              "      <td>1</td>\n",
              "      <td>0</td>\n",
              "      <td>1</td>\n",
              "      <td>0</td>\n",
              "      <td>0</td>\n",
              "      <td>0</td>\n",
              "      <td>0</td>\n",
              "      <td>1</td>\n",
              "      <td>0</td>\n",
              "      <td>0</td>\n",
              "      <td>-0.304005</td>\n",
              "      <td>0.694624</td>\n",
              "      <td>-0.211169</td>\n",
              "      <td>-0.000000</td>\n",
              "      <td>-0.0</td>\n",
              "      <td>-0.000000</td>\n",
              "      <td>-0.304005</td>\n",
              "      <td>-0.000000</td>\n",
              "      <td>-0.0</td>\n",
              "    </tr>\n",
              "    <tr>\n",
              "      <th>46</th>\n",
              "      <td>2007</td>\n",
              "      <td>14000</td>\n",
              "      <td>0</td>\n",
              "      <td>0</td>\n",
              "      <td>0</td>\n",
              "      <td>1</td>\n",
              "      <td>1</td>\n",
              "      <td>0</td>\n",
              "      <td>1</td>\n",
              "      <td>0</td>\n",
              "      <td>0</td>\n",
              "      <td>0</td>\n",
              "      <td>0</td>\n",
              "      <td>0</td>\n",
              "      <td>-0.435595</td>\n",
              "      <td>-1.492749</td>\n",
              "      <td>0.650234</td>\n",
              "      <td>-0.435595</td>\n",
              "      <td>-0.0</td>\n",
              "      <td>-0.000000</td>\n",
              "      <td>-0.000000</td>\n",
              "      <td>-0.000000</td>\n",
              "      <td>-0.0</td>\n",
              "    </tr>\n",
              "    <tr>\n",
              "      <th>26</th>\n",
              "      <td>2004</td>\n",
              "      <td>73000</td>\n",
              "      <td>0</td>\n",
              "      <td>0</td>\n",
              "      <td>0</td>\n",
              "      <td>1</td>\n",
              "      <td>0</td>\n",
              "      <td>1</td>\n",
              "      <td>1</td>\n",
              "      <td>0</td>\n",
              "      <td>0</td>\n",
              "      <td>0</td>\n",
              "      <td>0</td>\n",
              "      <td>0</td>\n",
              "      <td>1.786449</td>\n",
              "      <td>-2.148961</td>\n",
              "      <td>-3.839008</td>\n",
              "      <td>1.786449</td>\n",
              "      <td>0.0</td>\n",
              "      <td>0.000000</td>\n",
              "      <td>0.000000</td>\n",
              "      <td>0.000000</td>\n",
              "      <td>0.0</td>\n",
              "    </tr>\n",
              "  </tbody>\n",
              "</table>\n",
              "</div>"
            ],
            "text/plain": [
              "     Year  Mileage  Model_Cullinan  ...  15_17_MilNorm  18_19_MilNorm  20_21_MilNorm\n",
              "202  2019     3200               0  ...      -0.000000      -0.842342           -0.0\n",
              "116  2013    17500               0  ...      -0.000000      -0.000000           -0.0\n",
              "104  2017    17494               0  ...      -0.304005      -0.000000           -0.0\n",
              "46   2007    14000               0  ...      -0.000000      -0.000000           -0.0\n",
              "26   2004    73000               0  ...       0.000000       0.000000            0.0\n",
              "\n",
              "[5 rows x 23 columns]"
            ]
          },
          "metadata": {
            "tags": []
          },
          "execution_count": 121
        }
      ]
    },
    {
      "cell_type": "code",
      "metadata": {
        "colab": {
          "base_uri": "https://localhost:8080/"
        },
        "id": "MOvLjww0ajiL",
        "outputId": "1dfd15c4-5ea6-4808-da3d-309213b545be"
      },
      "source": [
        "print('No. of features Used: {}'.format(features.shape[1]))"
      ],
      "execution_count": 122,
      "outputs": [
        {
          "output_type": "stream",
          "text": [
            "No. of features Used: 23\n"
          ],
          "name": "stdout"
        }
      ]
    },
    {
      "cell_type": "code",
      "metadata": {
        "id": "7XOzNFzKb0i2"
      },
      "source": [
        "X_train, X_test, y_train, y_test = train_test_split(features, labels, random_state=0, shuffle=True, test_size=0.25)"
      ],
      "execution_count": 123,
      "outputs": []
    },
    {
      "cell_type": "code",
      "metadata": {
        "colab": {
          "base_uri": "https://localhost:8080/"
        },
        "id": "oOwvFYJPd0oW",
        "outputId": "b3924fdd-e2e0-42f7-baac-66aac748eed7"
      },
      "source": [
        "linreg = LinearRegression()\r\n",
        "linreg.fit(X_train, y_train)\r\n",
        "\r\n",
        "y_pred = linreg.predict(X_test)\r\n",
        "\r\n",
        "linreg.score(X_test, y_test)"
      ],
      "execution_count": 124,
      "outputs": [
        {
          "output_type": "execute_result",
          "data": {
            "text/plain": [
              "0.8640669325693416"
            ]
          },
          "metadata": {
            "tags": []
          },
          "execution_count": 124
        }
      ]
    },
    {
      "cell_type": "code",
      "metadata": {
        "colab": {
          "base_uri": "https://localhost:8080/"
        },
        "id": "Lg3igwubd2B0",
        "outputId": "a5a48a5e-5e80-4cec-8ccc-8d9ebe1a8b7e"
      },
      "source": [
        "print('RMSE_Test with Feature_Cross, Binning, Normalization, Encoding: {}'.format(mean_squared_error(y_test, y_pred, squared=False)))"
      ],
      "execution_count": 125,
      "outputs": [
        {
          "output_type": "stream",
          "text": [
            "RMSE_Test with Feature_Cross, Binning, Normalization, Encoding: 29801.561195518345\n"
          ],
          "name": "stdout"
        }
      ]
    },
    {
      "cell_type": "markdown",
      "metadata": {
        "id": "f9z81cnODMWl"
      },
      "source": [
        "**Use of Lasso Regression**"
      ]
    },
    {
      "cell_type": "code",
      "metadata": {
        "colab": {
          "base_uri": "https://localhost:8080/"
        },
        "id": "S6WD8exBjI1x",
        "outputId": "4388e0c2-43d4-4081-a84c-ae6f86339f2e"
      },
      "source": [
        "from sklearn.linear_model import Lasso\r\n",
        "\r\n",
        "lasso = Lasso(alpha=1)\r\n",
        "\r\n",
        "lasso.fit(X_train, y_train)\r\n",
        "\r\n",
        "y_pred = lasso.predict(X_test)\r\n",
        "\r\n",
        "lasso.score(X_test, y_test)"
      ],
      "execution_count": 159,
      "outputs": [
        {
          "output_type": "stream",
          "text": [
            "/usr/local/lib/python3.7/dist-packages/sklearn/linear_model/_coordinate_descent.py:476: ConvergenceWarning: Objective did not converge. You might want to increase the number of iterations. Duality gap: 46073440879.69715, tolerance: 80440932.29100001\n",
            "  positive)\n"
          ],
          "name": "stderr"
        },
        {
          "output_type": "execute_result",
          "data": {
            "text/plain": [
              "0.8642957118086778"
            ]
          },
          "metadata": {
            "tags": []
          },
          "execution_count": 159
        }
      ]
    },
    {
      "cell_type": "code",
      "metadata": {
        "colab": {
          "base_uri": "https://localhost:8080/"
        },
        "id": "uVTTZAceDLMM",
        "outputId": "1a743872-6b5b-4a41-ae90-8844a0f3cab0"
      },
      "source": [
        "np.sqrt(mean_squared_error(y_test, y_pred))"
      ],
      "execution_count": 161,
      "outputs": [
        {
          "output_type": "execute_result",
          "data": {
            "text/plain": [
              "29776.472194879767"
            ]
          },
          "metadata": {
            "tags": []
          },
          "execution_count": 161
        }
      ]
    },
    {
      "cell_type": "code",
      "metadata": {
        "colab": {
          "base_uri": "https://localhost:8080/",
          "height": 282
        },
        "id": "AqA-x7xfDLSs",
        "outputId": "c6d61021-5009-45eb-88f3-da7ad2aaf6c0"
      },
      "source": [
        "plt.plot(lasso.coef_, marker='o', linestyle='none')\r\n",
        "plt.hlines(y=0, xmin=0, xmax=30)"
      ],
      "execution_count": 172,
      "outputs": [
        {
          "output_type": "execute_result",
          "data": {
            "text/plain": [
              "<matplotlib.collections.LineCollection at 0x7f337ecf1290>"
            ]
          },
          "metadata": {
            "tags": []
          },
          "execution_count": 172
        },
        {
          "output_type": "display_data",
          "data": {
            "image/png": "[encoded data removed]",
            "text/plain": [
              "<Figure size 432x288 with 1 Axes>"
            ]
          },
          "metadata": {
            "tags": [],
            "needs_background": "light"
          }
        }
      ]
    },
    {
      "cell_type": "code",
      "metadata": {
        "colab": {
          "base_uri": "https://localhost:8080/",
          "height": 320
        },
        "id": "CLcKgR1lzvkp",
        "outputId": "31ee4fad-90f4-48a3-9371-4c72a8eafdda"
      },
      "source": [
        "plt.figure(figsize=(10,5))\r\n",
        "plt.barh(X_train.columns,rf.feature_importances_)\r\n",
        "plt.show()"
      ],
      "execution_count": 229,
      "outputs": [
        {
          "output_type": "display_data",
          "data": {
            "image/png": "[encoded data removed]",
            "text/plain": [
              "<Figure size 720x360 with 1 Axes>"
            ]
          },
          "metadata": {
            "tags": [],
            "needs_background": "light"
          }
        }
      ]
    },
    {
      "cell_type": "code",
      "metadata": {
        "colab": {
          "base_uri": "https://localhost:8080/"
        },
        "id": "erqCHoZQ3IXE",
        "outputId": "9a8e4142-dd79-46bb-8bc3-1f9ba0799ebc"
      },
      "source": [
        "X_train.columns[rf.feature_importances_ > 0.05]"
      ],
      "execution_count": 232,
      "outputs": [
        {
          "output_type": "execute_result",
          "data": {
            "text/plain": [
              "Index(['Year', 'Mileage', 'Mileage_Norm', 'Year_Norm'], dtype='object')"
            ]
          },
          "metadata": {
            "tags": []
          },
          "execution_count": 232
        }
      ]
    },
    {
      "cell_type": "code",
      "metadata": {
        "colab": {
          "base_uri": "https://localhost:8080/"
        },
        "id": "eRdfQ4n9DLac",
        "outputId": "eea48deb-90a3-47da-e47a-00e3e841df97"
      },
      "source": [
        "alpha = [0.01, 0.1, 1, 10]\r\n",
        "\r\n",
        "rmses = []\r\n",
        "r2s = []\r\n",
        "\r\n",
        "for a in alpha:\r\n",
        "  lasso = Lasso(alpha=a)\r\n",
        "  lasso.fit(X_train, y_train)\r\n",
        "  y_pred = lasso.predict(X_test)\r\n",
        "  rmse = np.sqrt(mean_squared_error(y_test, y_pred))\r\n",
        "  score = lasso.score(X_test, y_test)\r\n",
        "  rmses.append(rmse)\r\n",
        "  r2s.append(score)"
      ],
      "execution_count": 174,
      "outputs": [
        {
          "output_type": "stream",
          "text": [
            "/usr/local/lib/python3.7/dist-packages/sklearn/linear_model/_coordinate_descent.py:476: ConvergenceWarning: Objective did not converge. You might want to increase the number of iterations. Duality gap: 46101191422.44517, tolerance: 80440932.29100001\n",
            "  positive)\n",
            "/usr/local/lib/python3.7/dist-packages/sklearn/linear_model/_coordinate_descent.py:476: ConvergenceWarning: Objective did not converge. You might want to increase the number of iterations. Duality gap: 46084842679.215065, tolerance: 80440932.29100001\n",
            "  positive)\n",
            "/usr/local/lib/python3.7/dist-packages/sklearn/linear_model/_coordinate_descent.py:476: ConvergenceWarning: Objective did not converge. You might want to increase the number of iterations. Duality gap: 46073440879.69715, tolerance: 80440932.29100001\n",
            "  positive)\n",
            "/usr/local/lib/python3.7/dist-packages/sklearn/linear_model/_coordinate_descent.py:476: ConvergenceWarning: Objective did not converge. You might want to increase the number of iterations. Duality gap: 46611980313.541046, tolerance: 80440932.29100001\n",
            "  positive)\n"
          ],
          "name": "stderr"
        }
      ]
    },
    {
      "cell_type": "code",
      "metadata": {
        "colab": {
          "base_uri": "https://localhost:8080/",
          "height": 265
        },
        "id": "VGQYKqUkGXqE",
        "outputId": "9aefb649-f7fb-447c-dda6-4831bcc23b96"
      },
      "source": [
        "sns.scatterplot(x=rmses, y=r2s, hue=alpha)\r\n",
        "plt.show()"
      ],
      "execution_count": 185,
      "outputs": [
        {
          "output_type": "display_data",
          "data": {
            "image/png": "[encoded data removed]",
            "text/plain": [
              "<Figure size 432x288 with 1 Axes>"
            ]
          },
          "metadata": {
            "tags": [],
            "needs_background": "light"
          }
        }
      ]
    },
    {
      "cell_type": "code",
      "metadata": {
        "colab": {
          "base_uri": "https://localhost:8080/",
          "height": 282
        },
        "id": "MbdzThF7Gedw",
        "outputId": "af3768ec-63ab-41f1-a3bb-158602ebac89"
      },
      "source": [
        "plt.plot(lasso.coef_, marker='o', linestyle='none')\r\n",
        "plt.hlines(y=0, xmin=0, xmax=30)"
      ],
      "execution_count": 183,
      "outputs": [
        {
          "output_type": "execute_result",
          "data": {
            "text/plain": [
              "<matplotlib.collections.LineCollection at 0x7f337eb18c10>"
            ]
          },
          "metadata": {
            "tags": []
          },
          "execution_count": 183
        },
        {
          "output_type": "display_data",
          "data": {
            "image/png": "[encoded data removed]",
            "text/plain": [
              "<Figure size 432x288 with 1 Axes>"
            ]
          },
          "metadata": {
            "tags": [],
            "needs_background": "light"
          }
        }
      ]
    },
    {
      "cell_type": "markdown",
      "metadata": {
        "id": "nQ3Kyxd2HAl2"
      },
      "source": [
        "**RandomForest Ensemble**"
      ]
    },
    {
      "cell_type": "code",
      "metadata": {
        "colab": {
          "base_uri": "https://localhost:8080/"
        },
        "id": "my3NAwuJHDgD",
        "outputId": "5439c84a-1173-4c48-d467-fabbac2d15f9"
      },
      "source": [
        "from sklearn.ensemble import RandomForestRegressor\r\n",
        "\r\n",
        "rf = RandomForestRegressor(n_estimators=400, min_samples_leaf=5, oob_score=True, max_depth=20, max_features='auto')\r\n",
        "\r\n",
        "rf.fit(X_train, y_train)\r\n",
        "y_pred = rf.predict(X_test)\r\n",
        "\r\n",
        "rf.score(X_test, y_test)"
      ],
      "execution_count": 218,
      "outputs": [
        {
          "output_type": "execute_result",
          "data": {
            "text/plain": [
              "0.8465092484024367"
            ]
          },
          "metadata": {
            "tags": []
          },
          "execution_count": 218
        }
      ]
    },
    {
      "cell_type": "code",
      "metadata": {
        "colab": {
          "base_uri": "https://localhost:8080/"
        },
        "id": "fB5NcU40GrzB",
        "outputId": "e1876605-237d-442f-ed26-ce7df366b973"
      },
      "source": [
        "np.sqrt(mean_squared_error(y_test, y_pred))"
      ],
      "execution_count": 219,
      "outputs": [
        {
          "output_type": "execute_result",
          "data": {
            "text/plain": [
              "31667.77594290306"
            ]
          },
          "metadata": {
            "tags": []
          },
          "execution_count": 219
        }
      ]
    },
    {
      "cell_type": "code",
      "metadata": {
        "colab": {
          "base_uri": "https://localhost:8080/"
        },
        "id": "Trshjq9bI2pW",
        "outputId": "5f25b70a-265b-4836-c786-69b00a6ee7ad"
      },
      "source": [
        "# estimators = list(np.linspace(100, 1000, 10, dtype='int'))\r\n",
        "rf.oob_score_"
      ],
      "execution_count": 220,
      "outputs": [
        {
          "output_type": "execute_result",
          "data": {
            "text/plain": [
              "0.8146269128375936"
            ]
          },
          "metadata": {
            "tags": []
          },
          "execution_count": 220
        }
      ]
    },
    {
      "cell_type": "markdown",
      "metadata": {
        "id": "J4Hw4g1BlEW8"
      },
      "source": [
        "**XGBoost**"
      ]
    },
    {
      "cell_type": "code",
      "metadata": {
        "colab": {
          "base_uri": "https://localhost:8080/"
        },
        "id": "90hFerW_JLHD",
        "outputId": "55b1c923-7cdd-4334-f2f7-93e54e28a640"
      },
      "source": [
        "from xgboost import XGBRFRegressor\r\n",
        "\r\n",
        "xgbrf = XGBRFRegressor()\r\n",
        "\r\n",
        "xgbrf.fit(X_train, y_train)\r\n",
        "\r\n",
        "y_pred = xgbrf.predict(X_test)\r\n",
        "\r\n",
        "xgbrf.score(X_test, y_test)"
      ],
      "execution_count": 223,
      "outputs": [
        {
          "output_type": "stream",
          "text": [
            "[11:58:56] WARNING: /workspace/src/objective/regression_obj.cu:152: reg:linear is now deprecated in favor of reg:squarederror.\n"
          ],
          "name": "stdout"
        },
        {
          "output_type": "execute_result",
          "data": {
            "text/plain": [
              "0.7081143254802561"
            ]
          },
          "metadata": {
            "tags": []
          },
          "execution_count": 223
        }
      ]
    },
    {
      "cell_type": "code",
      "metadata": {
        "colab": {
          "base_uri": "https://localhost:8080/"
        },
        "id": "Lf_piTQotIuf",
        "outputId": "11452562-4c88-466b-8902-fb4f40c2b2dc"
      },
      "source": [
        "np.sqrt(mean_squared_error(y_test, y_pred))"
      ],
      "execution_count": 224,
      "outputs": [
        {
          "output_type": "execute_result",
          "data": {
            "text/plain": [
              "43669.96537289258"
            ]
          },
          "metadata": {
            "tags": []
          },
          "execution_count": 224
        }
      ]
    },
    {
      "cell_type": "markdown",
      "metadata": {
        "id": "UYCu9Mcvt_ZL"
      },
      "source": [
        "**Hyperparameter Tuning**"
      ]
    },
    {
      "cell_type": "code",
      "metadata": {
        "colab": {
          "base_uri": "https://localhost:8080/"
        },
        "id": "c9Sx2_TFuGUH",
        "outputId": "fb7951bb-b101-4f03-f7ef-f5607230763f"
      },
      "source": [
        "xgbrf.get_xgb_params"
      ],
      "execution_count": 202,
      "outputs": [
        {
          "output_type": "execute_result",
          "data": {
            "text/plain": [
              "<bound method XGBRFRegressor.get_xgb_params of XGBRFRegressor(base_score=0.5, colsample_bylevel=1, colsample_bynode=0.8,\n",
              "               colsample_bytree=1, gamma=0, learning_rate=1, max_delta_step=0,\n",
              "               max_depth=3, min_child_weight=1, missing=None, n_estimators=100,\n",
              "               n_jobs=1, nthread=None, objective='reg:linear', random_state=0,\n",
              "               reg_alpha=0, reg_lambda=1, scale_pos_weight=1, seed=None,\n",
              "               silent=None, subsample=0.8, verbosity=1)>"
            ]
          },
          "metadata": {
            "tags": []
          },
          "execution_count": 202
        }
      ]
    },
    {
      "cell_type": "code",
      "metadata": {
        "colab": {
          "base_uri": "https://localhost:8080/"
        },
        "id": "su6-4pTBuONI",
        "outputId": "637b62ad-cc5c-4d55-b92e-5d1b9ec176c5"
      },
      "source": [
        "xgbrf.get_params"
      ],
      "execution_count": 203,
      "outputs": [
        {
          "output_type": "execute_result",
          "data": {
            "text/plain": [
              "<bound method XGBModel.get_params of XGBRFRegressor(base_score=0.5, colsample_bylevel=1, colsample_bynode=0.8,\n",
              "               colsample_bytree=1, gamma=0, learning_rate=1, max_delta_step=0,\n",
              "               max_depth=3, min_child_weight=1, missing=None, n_estimators=100,\n",
              "               n_jobs=1, nthread=None, objective='reg:linear', random_state=0,\n",
              "               reg_alpha=0, reg_lambda=1, scale_pos_weight=1, seed=None,\n",
              "               silent=None, subsample=0.8, verbosity=1)>"
            ]
          },
          "metadata": {
            "tags": []
          },
          "execution_count": 203
        }
      ]
    },
    {
      "cell_type": "code",
      "metadata": {
        "colab": {
          "base_uri": "https://localhost:8080/"
        },
        "id": "Ru8rKI6Tt7rX",
        "outputId": "75b4eb0d-4309-446c-ed73-71eeccf72d71"
      },
      "source": [
        "param = {\r\n",
        "    'learning_rate' : [0.01, 0.05, 0.1, 0.5, 1, 5, 10],\r\n",
        "    'max_depth' : [3, 5, 10, 20],\r\n",
        "    'n_estimators' : [150, 300, 600, 1200],\r\n",
        "    'reg_alpha' : [0.01, 0.1, 0.5, 1],\r\n",
        "}\r\n",
        "\r\n",
        "from sklearn.model_selection import RandomizedSearchCV\r\n",
        "\r\n",
        "xgbrf = XGBRFRegressor()\r\n",
        "\r\n",
        "rand = RandomizedSearchCV(xgbrf, param, cv = 3, scoring='neg_root_mean_squared_error', verbose=0)\r\n",
        "\r\n",
        "rand.fit(X_train, y_train)\r\n",
        "\r\n",
        "y_pred = rand.predict(X_test)\r\n",
        "\r\n",
        "rand.score(X_test, y_test)"
      ],
      "execution_count": 209,
      "outputs": [
        {
          "output_type": "stream",
          "text": [
            "[11:56:10] WARNING: /workspace/src/objective/regression_obj.cu:152: reg:linear is now deprecated in favor of reg:squarederror.\n",
            "[11:56:10] WARNING: /workspace/src/objective/regression_obj.cu:152: reg:linear is now deprecated in favor of reg:squarederror.\n",
            "[11:56:10] WARNING: /workspace/src/objective/regression_obj.cu:152: reg:linear is now deprecated in favor of reg:squarederror.\n",
            "[11:56:10] WARNING: /workspace/src/objective/regression_obj.cu:152: reg:linear is now deprecated in favor of reg:squarederror.\n",
            "[11:56:10] WARNING: /workspace/src/objective/regression_obj.cu:152: reg:linear is now deprecated in favor of reg:squarederror.\n",
            "[11:56:10] WARNING: /workspace/src/objective/regression_obj.cu:152: reg:linear is now deprecated in favor of reg:squarederror.\n",
            "[11:56:10] WARNING: /workspace/src/objective/regression_obj.cu:152: reg:linear is now deprecated in favor of reg:squarederror.\n",
            "[11:56:10] WARNING: /workspace/src/objective/regression_obj.cu:152: reg:linear is now deprecated in favor of reg:squarederror.\n",
            "[11:56:10] WARNING: /workspace/src/objective/regression_obj.cu:152: reg:linear is now deprecated in favor of reg:squarederror.\n",
            "[11:56:10] WARNING: /workspace/src/objective/regression_obj.cu:152: reg:linear is now deprecated in favor of reg:squarederror.\n",
            "[11:56:10] WARNING: /workspace/src/objective/regression_obj.cu:152: reg:linear is now deprecated in favor of reg:squarederror.\n",
            "[11:56:10] WARNING: /workspace/src/objective/regression_obj.cu:152: reg:linear is now deprecated in favor of reg:squarederror.\n",
            "[11:56:10] WARNING: /workspace/src/objective/regression_obj.cu:152: reg:linear is now deprecated in favor of reg:squarederror.\n",
            "[11:56:10] WARNING: /workspace/src/objective/regression_obj.cu:152: reg:linear is now deprecated in favor of reg:squarederror.\n",
            "[11:56:10] WARNING: /workspace/src/objective/regression_obj.cu:152: reg:linear is now deprecated in favor of reg:squarederror.\n",
            "[11:56:11] WARNING: /workspace/src/objective/regression_obj.cu:152: reg:linear is now deprecated in favor of reg:squarederror.\n",
            "[11:56:11] WARNING: /workspace/src/objective/regression_obj.cu:152: reg:linear is now deprecated in favor of reg:squarederror.\n",
            "[11:56:11] WARNING: /workspace/src/objective/regression_obj.cu:152: reg:linear is now deprecated in favor of reg:squarederror.\n",
            "[11:56:11] WARNING: /workspace/src/objective/regression_obj.cu:152: reg:linear is now deprecated in favor of reg:squarederror.\n",
            "[11:56:11] WARNING: /workspace/src/objective/regression_obj.cu:152: reg:linear is now deprecated in favor of reg:squarederror.\n",
            "[11:56:11] WARNING: /workspace/src/objective/regression_obj.cu:152: reg:linear is now deprecated in favor of reg:squarederror.\n",
            "[11:56:11] WARNING: /workspace/src/objective/regression_obj.cu:152: reg:linear is now deprecated in favor of reg:squarederror.\n",
            "[11:56:11] WARNING: /workspace/src/objective/regression_obj.cu:152: reg:linear is now deprecated in favor of reg:squarederror.\n",
            "[11:56:11] WARNING: /workspace/src/objective/regression_obj.cu:152: reg:linear is now deprecated in favor of reg:squarederror.\n",
            "[11:56:11] WARNING: /workspace/src/objective/regression_obj.cu:152: reg:linear is now deprecated in favor of reg:squarederror.\n",
            "[11:56:11] WARNING: /workspace/src/objective/regression_obj.cu:152: reg:linear is now deprecated in favor of reg:squarederror.\n",
            "[11:56:11] WARNING: /workspace/src/objective/regression_obj.cu:152: reg:linear is now deprecated in favor of reg:squarederror.\n",
            "[11:56:11] WARNING: /workspace/src/objective/regression_obj.cu:152: reg:linear is now deprecated in favor of reg:squarederror.\n",
            "[11:56:11] WARNING: /workspace/src/objective/regression_obj.cu:152: reg:linear is now deprecated in favor of reg:squarederror.\n",
            "[11:56:11] WARNING: /workspace/src/objective/regression_obj.cu:152: reg:linear is now deprecated in favor of reg:squarederror.\n",
            "[11:56:12] WARNING: /workspace/src/objective/regression_obj.cu:152: reg:linear is now deprecated in favor of reg:squarederror.\n"
          ],
          "name": "stdout"
        },
        {
          "output_type": "execute_result",
          "data": {
            "text/plain": [
              "-42743.5214018317"
            ]
          },
          "metadata": {
            "tags": []
          },
          "execution_count": 209
        }
      ]
    },
    {
      "cell_type": "code",
      "metadata": {
        "colab": {
          "base_uri": "https://localhost:8080/"
        },
        "id": "pHihYsXkv2HH",
        "outputId": "2a91dfbf-bfdf-4218-d48f-3321740f214d"
      },
      "source": [
        "np.sqrt(mean_squared_error(y_test, y_pred))"
      ],
      "execution_count": 210,
      "outputs": [
        {
          "output_type": "execute_result",
          "data": {
            "text/plain": [
              "42743.5214018317"
            ]
          },
          "metadata": {
            "tags": []
          },
          "execution_count": 210
        }
      ]
    },
    {
      "cell_type": "code",
      "metadata": {
        "id": "0CGRYsY-xXcT"
      },
      "source": [
        ""
      ],
      "execution_count": null,
      "outputs": []
    }
  ]
}